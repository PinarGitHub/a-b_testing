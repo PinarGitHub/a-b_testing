{
 "cells": [
  {
   "cell_type": "markdown",
   "id": "07374c75",
   "metadata": {
    "_cell_guid": "b1076dfc-b9ad-4769-8c92-a6c4dae69d19",
    "_uuid": "8f2839f25d086af736a60e9eeb907d3b93b6e0e5",
    "execution": {
     "iopub.execute_input": "2021-09-27T18:25:49.166216Z",
     "iopub.status.busy": "2021-09-27T18:25:49.165517Z",
     "iopub.status.idle": "2021-09-27T18:25:49.186755Z",
     "shell.execute_reply": "2021-09-27T18:25:49.185765Z",
     "shell.execute_reply.started": "2021-09-27T18:25:49.16611Z"
    },
    "papermill": {
     "duration": 0.057555,
     "end_time": "2021-09-30T12:44:39.433263",
     "exception": false,
     "start_time": "2021-09-30T12:44:39.375708",
     "status": "completed"
    },
    "tags": []
   },
   "source": [
    "# **AB TESTING PROJECT**"
   ]
  },
  {
   "cell_type": "markdown",
   "id": "b158cb8c",
   "metadata": {
    "papermill": {
     "duration": 0.055701,
     "end_time": "2021-09-30T12:44:39.546346",
     "exception": false,
     "start_time": "2021-09-30T12:44:39.490645",
     "status": "completed"
    },
    "tags": []
   },
   "source": [
    "### **BUSINESS PROBLEM**:  A social media  company recently introduced a new type of bidding ,average bidding, as an alternative to existing maximum bidding. One of our customers decided to test this new feature and wants to implement A/B Test in order to see whether average bidding brings more revenue than maximum bidding.  \n",
    "\n",
    "### **STORY OF THE DATASET**: In \"ab_testing.xlsx\" dataset, which includes website information of the customer, there is information such as the number of advertisements that users see and click, as well as earnings information from here.\n",
    "\n",
    "### We have two groups in the dataset as control group and test group\n",
    "\n",
    "### **ATTRIBUTES**:\n",
    "\n",
    "#### - Impression: Number of ad views\n",
    "#### - Click: Indicates the number of clicks on the displayed ad\n",
    "#### - Purchase: Indicates the number of products purchased after the ads clicked\n",
    "#### - Earning: Earnings after purchased products"
   ]
  },
  {
   "cell_type": "code",
   "execution_count": 1,
   "id": "f7208518",
   "metadata": {
    "execution": {
     "iopub.execute_input": "2021-09-30T12:44:39.659530Z",
     "iopub.status.busy": "2021-09-30T12:44:39.658370Z",
     "iopub.status.idle": "2021-09-30T12:44:39.680231Z",
     "shell.execute_reply": "2021-09-30T12:44:39.679381Z",
     "shell.execute_reply.started": "2021-09-30T11:50:56.459563Z"
    },
    "papermill": {
     "duration": 0.079851,
     "end_time": "2021-09-30T12:44:39.680450",
     "exception": false,
     "start_time": "2021-09-30T12:44:39.600599",
     "status": "completed"
    },
    "tags": []
   },
   "outputs": [
    {
     "name": "stdout",
     "output_type": "stream",
     "text": [
      "/kaggle/input/ab-testingxlsx/ab_testing.xlsx\n"
     ]
    }
   ],
   "source": [
    "# This Python 3 environment comes with many helpful analytics libraries installed\n",
    "# It is defined by the kaggle/python Docker image: https://github.com/kaggle/docker-python\n",
    "# For example, here's several helpful packages to load\n",
    "\n",
    "import numpy as np # linear algebra\n",
    "import pandas as pd # data processing, CSV file I/O (e.g. pd.read_csv)\n",
    "\n",
    "# Input data files are available in the read-only \"../input/\" directory\n",
    "# For example, running this (by clicking run or pressing Shift+Enter) will list all files under the input directory\n",
    "\n",
    "import os\n",
    "for dirname, _, filenames in os.walk('/kaggle/input'):\n",
    "    for filename in filenames:\n",
    "        print(os.path.join(dirname, filename))\n",
    "\n",
    "# You can write up to 20GB to the current directory (/kaggle/working/) that gets preserved as output when you create a version using \"Save & Run All\" \n",
    "# You can also write temporary files to /kaggle/temp/, but they won't be saved outside of the current session"
   ]
  },
  {
   "cell_type": "markdown",
   "id": "881b8669",
   "metadata": {
    "papermill": {
     "duration": 0.054793,
     "end_time": "2021-09-30T12:44:39.792286",
     "exception": false,
     "start_time": "2021-09-30T12:44:39.737493",
     "status": "completed"
    },
    "tags": []
   },
   "source": [
    "## **1. LOAD AND CHECK DATA SET** "
   ]
  },
  {
   "cell_type": "code",
   "execution_count": 2,
   "id": "c890e0f8",
   "metadata": {
    "execution": {
     "iopub.execute_input": "2021-09-30T12:44:39.908008Z",
     "iopub.status.busy": "2021-09-30T12:44:39.907372Z",
     "iopub.status.idle": "2021-09-30T12:44:50.050661Z",
     "shell.execute_reply": "2021-09-30T12:44:50.050111Z",
     "shell.execute_reply.started": "2021-09-30T11:50:57.736158Z"
    },
    "papermill": {
     "duration": 10.202251,
     "end_time": "2021-09-30T12:44:50.050830",
     "exception": false,
     "start_time": "2021-09-30T12:44:39.848579",
     "status": "completed"
    },
    "tags": []
   },
   "outputs": [
    {
     "name": "stdout",
     "output_type": "stream",
     "text": [
      "Collecting openpyxl\r\n",
      "  Downloading openpyxl-3.0.9-py2.py3-none-any.whl (242 kB)\r\n",
      "\u001b[K     |████████████████████████████████| 242 kB 811 kB/s \r\n",
      "\u001b[?25hCollecting et-xmlfile\r\n",
      "  Downloading et_xmlfile-1.1.0-py3-none-any.whl (4.7 kB)\r\n",
      "Installing collected packages: et-xmlfile, openpyxl\r\n",
      "Successfully installed et-xmlfile-1.1.0 openpyxl-3.0.9\r\n",
      "\u001b[33mWARNING: Running pip as the 'root' user can result in broken permissions and conflicting behaviour with the system package manager. It is recommended to use a virtual environment instead: https://pip.pypa.io/warnings/venv\u001b[0m\r\n"
     ]
    }
   ],
   "source": [
    "# Let's load the data set \n",
    "import pandas as pd\n",
    "!pip install openpyxl\n",
    "df_control = pd.read_excel(\"../input/ab-testingxlsx/ab_testing.xlsx\", sheet_name = \"Control Group\")\n",
    "df_test = pd.read_excel(\"../input/ab-testingxlsx/ab_testing.xlsx\", sheet_name = \"Test Group\")"
   ]
  },
  {
   "cell_type": "code",
   "execution_count": 3,
   "id": "d51b7327",
   "metadata": {
    "execution": {
     "iopub.execute_input": "2021-09-30T12:44:50.174269Z",
     "iopub.status.busy": "2021-09-30T12:44:50.173445Z",
     "iopub.status.idle": "2021-09-30T12:44:51.189088Z",
     "shell.execute_reply": "2021-09-30T12:44:51.188399Z",
     "shell.execute_reply.started": "2021-09-30T11:51:05.605201Z"
    },
    "papermill": {
     "duration": 1.079894,
     "end_time": "2021-09-30T12:44:51.189229",
     "exception": false,
     "start_time": "2021-09-30T12:44:50.109335",
     "status": "completed"
    },
    "tags": []
   },
   "outputs": [],
   "source": [
    "# Make necessary adjustments for the representation of the dataset\n",
    "import itertools\n",
    "import numpy as np\n",
    "import matplotlib.pyplot as plt\n",
    "import seaborn as sns\n",
    "import statsmodels.stats.api as sms\n",
    "from scipy.stats import ttest_1samp, shapiro, levene, ttest_ind, mannwhitneyu\n",
    "from statsmodels.stats.proportion import proportions_ztest\n",
    "\n",
    "pd.set_option('display.max_columns', None)\n",
    "pd.set_option('display.max_rows', 10)\n",
    "pd.set_option('display.float_format', lambda x: '%.5f' % x)"
   ]
  },
  {
   "cell_type": "code",
   "execution_count": 4,
   "id": "bc18e79c",
   "metadata": {
    "execution": {
     "iopub.execute_input": "2021-09-30T12:44:51.311249Z",
     "iopub.status.busy": "2021-09-30T12:44:51.310593Z",
     "iopub.status.idle": "2021-09-30T12:44:51.313484Z",
     "shell.execute_reply": "2021-09-30T12:44:51.312926Z",
     "shell.execute_reply.started": "2021-09-30T11:51:05.613362Z"
    },
    "papermill": {
     "duration": 0.065608,
     "end_time": "2021-09-30T12:44:51.313604",
     "exception": false,
     "start_time": "2021-09-30T12:44:51.247996",
     "status": "completed"
    },
    "tags": []
   },
   "outputs": [],
   "source": [
    "# In order to check Control Group and Test Group \n",
    "def check_df(dataframe):\n",
    "    \"\"\"\n",
    "    This function prints \"shape, types, head, NA values and quantiles\" for a given dataframe. \n",
    "    \n",
    "    Parameters\n",
    "    ----------\n",
    "    dataframe: dataframe\n",
    "        Given dataframe for which \"shape, types, head, NA values and quantiles\" will be shown. \n",
    "    \n",
    "    \n",
    "    Returns\n",
    "    -------\n",
    "    None\n",
    "        \n",
    "    \"\"\"\n",
    "    print(f\"\"\"\n",
    "        ##################### Shape #####################\\n\\n\\t{dataframe.shape}\\n\\n\n",
    "        ##################### Types #####################\\n\\n{dataframe.dtypes}\\n\\n\n",
    "        ##################### Head #####################\\n\\n{dataframe.head(3)}\\n\\n\n",
    "        ##################### NA #####################\\n\\n{dataframe.isnull().sum()}\\n\\n\n",
    "        ##################### Quantiles #####################\\n\\n{dataframe.quantile([0, 0.05, 0.25, 0.50, 0.75, 0.95, 0.99, 1]).T}\\n\\n\"\"\")\n"
   ]
  },
  {
   "cell_type": "code",
   "execution_count": 5,
   "id": "ef3c1b2b",
   "metadata": {
    "execution": {
     "iopub.execute_input": "2021-09-30T12:44:51.435778Z",
     "iopub.status.busy": "2021-09-30T12:44:51.434869Z",
     "iopub.status.idle": "2021-09-30T12:44:51.458273Z",
     "shell.execute_reply": "2021-09-30T12:44:51.459285Z",
     "shell.execute_reply.started": "2021-09-30T11:51:05.629480Z"
    },
    "papermill": {
     "duration": 0.088216,
     "end_time": "2021-09-30T12:44:51.459558",
     "exception": false,
     "start_time": "2021-09-30T12:44:51.371342",
     "status": "completed"
    },
    "tags": []
   },
   "outputs": [
    {
     "name": "stdout",
     "output_type": "stream",
     "text": [
      "\n",
      "        ##################### Shape #####################\n",
      "\n",
      "\t(40, 4)\n",
      "\n",
      "\n",
      "        ##################### Types #####################\n",
      "\n",
      "Impression    float64\n",
      "Click         float64\n",
      "Purchase      float64\n",
      "Earning       float64\n",
      "dtype: object\n",
      "\n",
      "\n",
      "        ##################### Head #####################\n",
      "\n",
      "   Impression      Click  Purchase    Earning\n",
      "0 82529.45927 6090.07732 665.21125 2311.27714\n",
      "1 98050.45193 3382.86179 315.08489 1742.80686\n",
      "2 82696.02355 4167.96575 458.08374 1797.82745\n",
      "\n",
      "\n",
      "        ##################### NA #####################\n",
      "\n",
      "Impression    0\n",
      "Click         0\n",
      "Purchase      0\n",
      "Earning       0\n",
      "dtype: int64\n",
      "\n",
      "\n",
      "        ##################### Quantiles #####################\n",
      "\n",
      "               0.00000     0.05000     0.25000     0.50000      0.75000  \\\n",
      "Impression 45475.94296 79412.01792 85726.69035 99790.70108 115212.81654   \n",
      "Click       2189.75316  3367.48426  4124.30413  5001.22060   5923.80360   \n",
      "Purchase     267.02894   328.66242   470.09553   531.20631    637.95709   \n",
      "Earning     1253.98952  1329.57708  1685.84720  1975.16052   2119.80278   \n",
      "\n",
      "                0.95000      0.99000      1.00000  \n",
      "Impression 132950.53245 143105.79110 147539.33633  \n",
      "Click        7374.36120   7761.79511   7959.12507  \n",
      "Purchase      748.27076    790.18779    801.79502  \n",
      "Earning      2318.52850   2481.30874   2497.29522  \n",
      "\n",
      "\n"
     ]
    }
   ],
   "source": [
    "# Review Control Group\n",
    "check_df(df_control)"
   ]
  },
  {
   "cell_type": "code",
   "execution_count": 6,
   "id": "532007ee",
   "metadata": {
    "execution": {
     "iopub.execute_input": "2021-09-30T12:44:51.608112Z",
     "iopub.status.busy": "2021-09-30T12:44:51.607146Z",
     "iopub.status.idle": "2021-09-30T12:44:51.619743Z",
     "shell.execute_reply": "2021-09-30T12:44:51.619152Z",
     "shell.execute_reply.started": "2021-09-30T11:51:05.704516Z"
    },
    "papermill": {
     "duration": 0.079398,
     "end_time": "2021-09-30T12:44:51.619919",
     "exception": false,
     "start_time": "2021-09-30T12:44:51.540521",
     "status": "completed"
    },
    "tags": []
   },
   "outputs": [
    {
     "name": "stdout",
     "output_type": "stream",
     "text": [
      "\n",
      "        ##################### Shape #####################\n",
      "\n",
      "\t(40, 4)\n",
      "\n",
      "\n",
      "        ##################### Types #####################\n",
      "\n",
      "Impression    float64\n",
      "Click         float64\n",
      "Purchase      float64\n",
      "Earning       float64\n",
      "dtype: object\n",
      "\n",
      "\n",
      "        ##################### Head #####################\n",
      "\n",
      "    Impression      Click  Purchase    Earning\n",
      "0 120103.50380 3216.54796 702.16035 1939.61124\n",
      "1 134775.94336 3635.08242 834.05429 2929.40582\n",
      "2 107806.62079 3057.14356 422.93426 2526.24488\n",
      "\n",
      "\n",
      "        ##################### NA #####################\n",
      "\n",
      "Impression    0\n",
      "Click         0\n",
      "Purchase      0\n",
      "Earning       0\n",
      "dtype: int64\n",
      "\n",
      "\n",
      "        ##################### Quantiles #####################\n",
      "\n",
      "               0.00000     0.05000      0.25000      0.50000      0.75000  \\\n",
      "Impression 79033.83492 83150.50378 112691.97077 119291.30077 132050.57893   \n",
      "Click       1836.62986  2600.36102   3376.81902   3931.35980   4660.49791   \n",
      "Purchase     311.62952   356.69540    444.62683    551.35573    699.86236   \n",
      "Earning     1939.61124  2080.97621   2280.53743   2544.66611   2761.54540   \n",
      "\n",
      "                0.95000      0.99000      1.00000  \n",
      "Impression 153178.69106 158245.26380 158605.92048  \n",
      "Click        5271.18691   6012.87730   6019.69508  \n",
      "Purchase      854.20895    876.57610    889.91046  \n",
      "Earning      2931.31145   3091.94089   3171.48971  \n",
      "\n",
      "\n"
     ]
    }
   ],
   "source": [
    "# Review Test Group\n",
    "check_df(df_test)"
   ]
  },
  {
   "cell_type": "markdown",
   "id": "8dc5332a",
   "metadata": {
    "papermill": {
     "duration": 0.058081,
     "end_time": "2021-09-30T12:44:51.736574",
     "exception": false,
     "start_time": "2021-09-30T12:44:51.678493",
     "status": "completed"
    },
    "tags": []
   },
   "source": [
    "## **2: DEFINE THE HYPOTHESIS FOR A/B TESTING AND IMPLEMENT RELEVANT TESTS**"
   ]
  },
  {
   "cell_type": "markdown",
   "id": "974ac8dd",
   "metadata": {
    "papermill": {
     "duration": 0.058173,
     "end_time": "2021-09-30T12:44:51.853009",
     "exception": false,
     "start_time": "2021-09-30T12:44:51.794836",
     "status": "completed"
    },
    "tags": []
   },
   "source": [
    "#### **Remember the Business Problem**:  A social media company recently introduced a new type of bidding ,average bidding, as an alternative to existing maximum bidding. One of our customers decided to test this new feature and wants to implement A/B Test in order to see whether average bidding brings more revenue than maximum bidding.  \n",
    "\n",
    "#### In order to solve this business problem, we can check different variables or create new features to examine the difference between existing bidding sytle and new bidding style.\n",
    "\n",
    "#### According to our dataset;   \n",
    " * Control Group represents the existing bidding style which is \"maximum bidding\"\n",
    " * Test Group represent the new bidding style which is \"average bidding\"\n",
    "\n",
    "#### Considering the variables we see in Control Group and Test Group, let's think about below questions which can gives us insights: \n",
    "* Is there a significant difference on \"Click\" values between Control Group (max.bidding) and Test Group (avg.bidding)? \n",
    "* Is there a significant difference on \"Click/Impression\" rate between Control Group (max.bidding) and Test Group (avg.bidding)? \n",
    "* Is there a significant difference on \"Purchase\" values between Control Group (max.bidding) and Test Group (avg.bidding)? \n",
    "* Is there a significant difference on \"Earning\" values between Control Group (max.bidding) and Test Group (avg.bidding)? \n",
    "* Is there a significant difference on \"Purchase/Click\" rate between Control Group (max.bidding) and Test Group (avg.bidding)?\n",
    "* Is there a significant difference on \"Purchase/Earning\" rate between Control Group (max.bidding) and Test Group (avg.bidding)?"
   ]
  },
  {
   "cell_type": "markdown",
   "id": "dcd758e0",
   "metadata": {
    "papermill": {
     "duration": 0.05711,
     "end_time": "2021-09-30T12:44:51.968762",
     "exception": false,
     "start_time": "2021-09-30T12:44:51.911652",
     "status": "completed"
    },
    "tags": []
   },
   "source": [
    "#### **Steps to be followed for Hypothesis Test**:  \n",
    "#### 1. Define hypothesis \n",
    "#### 2. Control assumptions\n",
    "####   a. Test of Normality \n",
    "####   b. Test of Variance Homogeneity\n",
    "#### 3.Implement hypothesis test\n",
    "* If p-value < 0.05, H0 hypothesis rejected, else not rejected. \n",
    "* If both normality and variance homogeneity are provided, implement independent two-samples t-test (parametric test). \n",
    "* If both normality and variance homogeneity are not provided,implement Mannwhitneyu test (non-parametric).\n",
    "* Note: \n",
    "* If normality is not provided, implement Mannwhitneyu test. \n",
    "* If variance homogeneity is not provided,enter argument to parametric test (equal_var=False).   "
   ]
  },
  {
   "cell_type": "markdown",
   "id": "b1fc64df",
   "metadata": {
    "papermill": {
     "duration": 0.058324,
     "end_time": "2021-09-30T12:44:52.086357",
     "exception": false,
     "start_time": "2021-09-30T12:44:52.028033",
     "status": "completed"
    },
    "tags": []
   },
   "source": [
    "### **2.1. Is there a significant difference on \"Click\" values between Control Group and Test Group?**"
   ]
  },
  {
   "cell_type": "code",
   "execution_count": 7,
   "id": "539323c9",
   "metadata": {
    "execution": {
     "iopub.execute_input": "2021-09-30T12:44:52.216641Z",
     "iopub.status.busy": "2021-09-30T12:44:52.205415Z",
     "iopub.status.idle": "2021-09-30T12:44:52.220384Z",
     "shell.execute_reply": "2021-09-30T12:44:52.219885Z",
     "shell.execute_reply.started": "2021-09-30T08:43:54.095083Z"
    },
    "papermill": {
     "duration": 0.076046,
     "end_time": "2021-09-30T12:44:52.220553",
     "exception": false,
     "start_time": "2021-09-30T12:44:52.144507",
     "status": "completed"
    },
    "tags": []
   },
   "outputs": [
    {
     "data": {
      "text/plain": [
       "count     40.00000\n",
       "mean    5100.65737\n",
       "std     1329.98550\n",
       "min     2189.75316\n",
       "25%     4124.30413\n",
       "50%     5001.22060\n",
       "75%     5923.80360\n",
       "max     7959.12507\n",
       "Name: Click, dtype: float64"
      ]
     },
     "execution_count": 7,
     "metadata": {},
     "output_type": "execute_result"
    }
   ],
   "source": [
    "df_control[\"Click\"].describe().T"
   ]
  },
  {
   "cell_type": "code",
   "execution_count": 8,
   "id": "127cdc31",
   "metadata": {
    "execution": {
     "iopub.execute_input": "2021-09-30T12:44:52.346302Z",
     "iopub.status.busy": "2021-09-30T12:44:52.343586Z",
     "iopub.status.idle": "2021-09-30T12:44:52.349621Z",
     "shell.execute_reply": "2021-09-30T12:44:52.350119Z",
     "shell.execute_reply.started": "2021-09-30T08:43:54.112029Z"
    },
    "papermill": {
     "duration": 0.071453,
     "end_time": "2021-09-30T12:44:52.350294",
     "exception": false,
     "start_time": "2021-09-30T12:44:52.278841",
     "status": "completed"
    },
    "tags": []
   },
   "outputs": [
    {
     "data": {
      "text/plain": [
       "count     40.00000\n",
       "mean    3967.54976\n",
       "std      923.09507\n",
       "min     1836.62986\n",
       "25%     3376.81902\n",
       "50%     3931.35980\n",
       "75%     4660.49791\n",
       "max     6019.69508\n",
       "Name: Click, dtype: float64"
      ]
     },
     "execution_count": 8,
     "metadata": {},
     "output_type": "execute_result"
    }
   ],
   "source": [
    "df_test[\"Click\"].describe().T"
   ]
  },
  {
   "cell_type": "markdown",
   "id": "1a6fdbd8",
   "metadata": {
    "execution": {
     "iopub.execute_input": "2021-09-27T18:40:23.9946Z",
     "iopub.status.busy": "2021-09-27T18:40:23.994199Z",
     "iopub.status.idle": "2021-09-27T18:40:24.000081Z",
     "shell.execute_reply": "2021-09-27T18:40:23.998867Z",
     "shell.execute_reply.started": "2021-09-27T18:40:23.994569Z"
    },
    "papermill": {
     "duration": 0.058731,
     "end_time": "2021-09-30T12:44:52.467967",
     "exception": false,
     "start_time": "2021-09-30T12:44:52.409236",
     "status": "completed"
    },
    "tags": []
   },
   "source": [
    "#### As seen from the Descriptive Statistics of Control Group and Test Group, \n",
    "* There is a clear difference between \"Click\" values of Control Group (Please see min, max, 50%, mean values) and \"Click\" values of Test Group. \n",
    "* There is no need for testing this situation. \n",
    "\n",
    "#### \"Click\" values of Control Group (max.bidding) is higher than Test Group (avg.bidding).\n",
    "\n",
    "#### **NOTE:** Examining only \"Click\" values will not give us a sufficient result. So, we will continue with other questions. "
   ]
  },
  {
   "cell_type": "markdown",
   "id": "7ceed325",
   "metadata": {
    "papermill": {
     "duration": 0.058778,
     "end_time": "2021-09-30T12:44:52.585926",
     "exception": false,
     "start_time": "2021-09-30T12:44:52.527148",
     "status": "completed"
    },
    "tags": []
   },
   "source": [
    "### **2.2. Is there a significant difference on \"Click/Impression\" rate between Control Group and Test Group?** "
   ]
  },
  {
   "cell_type": "markdown",
   "id": "9aa3c7be",
   "metadata": {
    "papermill": {
     "duration": 0.058196,
     "end_time": "2021-09-30T12:44:52.703360",
     "exception": false,
     "start_time": "2021-09-30T12:44:52.645164",
     "status": "completed"
    },
    "tags": []
   },
   "source": [
    "#### Click/Impression rate is important for us.  \n",
    "#### Click/Impression = (number of clicks on the displayed ad) / (Number of ad views)\n",
    "\n",
    "#### We will use proportions ztest in order to se the differences on\"Click/Impression\". "
   ]
  },
  {
   "cell_type": "code",
   "execution_count": 9,
   "id": "d6611f4f",
   "metadata": {
    "execution": {
     "iopub.execute_input": "2021-09-30T12:44:52.823490Z",
     "iopub.status.busy": "2021-09-30T12:44:52.822891Z",
     "iopub.status.idle": "2021-09-30T12:44:52.836421Z",
     "shell.execute_reply": "2021-09-30T12:44:52.836987Z",
     "shell.execute_reply.started": "2021-09-28T08:36:10.288683Z"
    },
    "papermill": {
     "duration": 0.074867,
     "end_time": "2021-09-30T12:44:52.837155",
     "exception": false,
     "start_time": "2021-09-30T12:44:52.762288",
     "status": "completed"
    },
    "tags": []
   },
   "outputs": [
    {
     "data": {
      "text/html": [
       "<div>\n",
       "<style scoped>\n",
       "    .dataframe tbody tr th:only-of-type {\n",
       "        vertical-align: middle;\n",
       "    }\n",
       "\n",
       "    .dataframe tbody tr th {\n",
       "        vertical-align: top;\n",
       "    }\n",
       "\n",
       "    .dataframe thead th {\n",
       "        text-align: right;\n",
       "    }\n",
       "</style>\n",
       "<table border=\"1\" class=\"dataframe\">\n",
       "  <thead>\n",
       "    <tr style=\"text-align: right;\">\n",
       "      <th></th>\n",
       "      <th>Impression</th>\n",
       "      <th>Click</th>\n",
       "      <th>Purchase</th>\n",
       "      <th>Earning</th>\n",
       "      <th>Click/Impression Rate</th>\n",
       "    </tr>\n",
       "  </thead>\n",
       "  <tbody>\n",
       "    <tr>\n",
       "      <th>0</th>\n",
       "      <td>82529.45927</td>\n",
       "      <td>6090.07732</td>\n",
       "      <td>665.21125</td>\n",
       "      <td>2311.27714</td>\n",
       "      <td>0.07379</td>\n",
       "    </tr>\n",
       "    <tr>\n",
       "      <th>1</th>\n",
       "      <td>98050.45193</td>\n",
       "      <td>3382.86179</td>\n",
       "      <td>315.08489</td>\n",
       "      <td>1742.80686</td>\n",
       "      <td>0.03450</td>\n",
       "    </tr>\n",
       "    <tr>\n",
       "      <th>2</th>\n",
       "      <td>82696.02355</td>\n",
       "      <td>4167.96575</td>\n",
       "      <td>458.08374</td>\n",
       "      <td>1797.82745</td>\n",
       "      <td>0.05040</td>\n",
       "    </tr>\n",
       "    <tr>\n",
       "      <th>3</th>\n",
       "      <td>109914.40040</td>\n",
       "      <td>4910.88224</td>\n",
       "      <td>487.09077</td>\n",
       "      <td>1696.22918</td>\n",
       "      <td>0.04468</td>\n",
       "    </tr>\n",
       "    <tr>\n",
       "      <th>4</th>\n",
       "      <td>108457.76263</td>\n",
       "      <td>5987.65581</td>\n",
       "      <td>441.03405</td>\n",
       "      <td>1543.72018</td>\n",
       "      <td>0.05521</td>\n",
       "    </tr>\n",
       "  </tbody>\n",
       "</table>\n",
       "</div>"
      ],
      "text/plain": [
       "    Impression      Click  Purchase    Earning  Click/Impression Rate\n",
       "0  82529.45927 6090.07732 665.21125 2311.27714                0.07379\n",
       "1  98050.45193 3382.86179 315.08489 1742.80686                0.03450\n",
       "2  82696.02355 4167.96575 458.08374 1797.82745                0.05040\n",
       "3 109914.40040 4910.88224 487.09077 1696.22918                0.04468\n",
       "4 108457.76263 5987.65581 441.03405 1543.72018                0.05521"
      ]
     },
     "execution_count": 9,
     "metadata": {},
     "output_type": "execute_result"
    }
   ],
   "source": [
    "# Calculate \"Click/Impression\" rate for Control Group \n",
    "df_control[\"Click/Impression Rate\"] = df_control[\"Click\"]/df_control[\"Impression\"]\n",
    "df_control.head()"
   ]
  },
  {
   "cell_type": "code",
   "execution_count": 10,
   "id": "e0bb65a9",
   "metadata": {
    "execution": {
     "iopub.execute_input": "2021-09-30T12:44:52.967904Z",
     "iopub.status.busy": "2021-09-30T12:44:52.966956Z",
     "iopub.status.idle": "2021-09-30T12:44:52.970756Z",
     "shell.execute_reply": "2021-09-30T12:44:52.970286Z",
     "shell.execute_reply.started": "2021-09-28T08:36:11.272689Z"
    },
    "papermill": {
     "duration": 0.073736,
     "end_time": "2021-09-30T12:44:52.970936",
     "exception": false,
     "start_time": "2021-09-30T12:44:52.897200",
     "status": "completed"
    },
    "tags": []
   },
   "outputs": [
    {
     "data": {
      "text/html": [
       "<div>\n",
       "<style scoped>\n",
       "    .dataframe tbody tr th:only-of-type {\n",
       "        vertical-align: middle;\n",
       "    }\n",
       "\n",
       "    .dataframe tbody tr th {\n",
       "        vertical-align: top;\n",
       "    }\n",
       "\n",
       "    .dataframe thead th {\n",
       "        text-align: right;\n",
       "    }\n",
       "</style>\n",
       "<table border=\"1\" class=\"dataframe\">\n",
       "  <thead>\n",
       "    <tr style=\"text-align: right;\">\n",
       "      <th></th>\n",
       "      <th>Impression</th>\n",
       "      <th>Click</th>\n",
       "      <th>Purchase</th>\n",
       "      <th>Earning</th>\n",
       "      <th>Click/Impression Rate</th>\n",
       "    </tr>\n",
       "  </thead>\n",
       "  <tbody>\n",
       "    <tr>\n",
       "      <th>0</th>\n",
       "      <td>120103.50380</td>\n",
       "      <td>3216.54796</td>\n",
       "      <td>702.16035</td>\n",
       "      <td>1939.61124</td>\n",
       "      <td>0.02678</td>\n",
       "    </tr>\n",
       "    <tr>\n",
       "      <th>1</th>\n",
       "      <td>134775.94336</td>\n",
       "      <td>3635.08242</td>\n",
       "      <td>834.05429</td>\n",
       "      <td>2929.40582</td>\n",
       "      <td>0.02697</td>\n",
       "    </tr>\n",
       "    <tr>\n",
       "      <th>2</th>\n",
       "      <td>107806.62079</td>\n",
       "      <td>3057.14356</td>\n",
       "      <td>422.93426</td>\n",
       "      <td>2526.24488</td>\n",
       "      <td>0.02836</td>\n",
       "    </tr>\n",
       "    <tr>\n",
       "      <th>3</th>\n",
       "      <td>116445.27553</td>\n",
       "      <td>4650.47391</td>\n",
       "      <td>429.03353</td>\n",
       "      <td>2281.42857</td>\n",
       "      <td>0.03994</td>\n",
       "    </tr>\n",
       "    <tr>\n",
       "      <th>4</th>\n",
       "      <td>145082.51684</td>\n",
       "      <td>5201.38772</td>\n",
       "      <td>749.86044</td>\n",
       "      <td>2781.69752</td>\n",
       "      <td>0.03585</td>\n",
       "    </tr>\n",
       "  </tbody>\n",
       "</table>\n",
       "</div>"
      ],
      "text/plain": [
       "    Impression      Click  Purchase    Earning  Click/Impression Rate\n",
       "0 120103.50380 3216.54796 702.16035 1939.61124                0.02678\n",
       "1 134775.94336 3635.08242 834.05429 2929.40582                0.02697\n",
       "2 107806.62079 3057.14356 422.93426 2526.24488                0.02836\n",
       "3 116445.27553 4650.47391 429.03353 2281.42857                0.03994\n",
       "4 145082.51684 5201.38772 749.86044 2781.69752                0.03585"
      ]
     },
     "execution_count": 10,
     "metadata": {},
     "output_type": "execute_result"
    }
   ],
   "source": [
    "# Calculate \"Click/Impression\" rate for Test Group \n",
    "df_test[\"Click/Impression Rate\"] = df_test[\"Click\"]/df_test[\"Impression\"]\n",
    "df_test.head()"
   ]
  },
  {
   "cell_type": "code",
   "execution_count": 11,
   "id": "1fb6dfd8",
   "metadata": {
    "execution": {
     "iopub.execute_input": "2021-09-30T12:44:53.100976Z",
     "iopub.status.busy": "2021-09-30T12:44:53.100322Z",
     "iopub.status.idle": "2021-09-30T12:44:53.102626Z",
     "shell.execute_reply": "2021-09-30T12:44:53.103178Z",
     "shell.execute_reply.started": "2021-09-28T08:36:11.996813Z"
    },
    "papermill": {
     "duration": 0.070924,
     "end_time": "2021-09-30T12:44:53.103335",
     "exception": false,
     "start_time": "2021-09-30T12:44:53.032411",
     "status": "completed"
    },
    "tags": []
   },
   "outputs": [
    {
     "data": {
      "text/plain": [
       "count   40.00000\n",
       "mean     0.05362\n",
       "std      0.02485\n",
       "min      0.02076\n",
       "25%      0.03922\n",
       "50%      0.04880\n",
       "75%      0.05799\n",
       "max      0.16207\n",
       "Name: Click/Impression Rate, dtype: float64"
      ]
     },
     "execution_count": 11,
     "metadata": {},
     "output_type": "execute_result"
    }
   ],
   "source": [
    "# Descriptive Statistics for \"Click/Impression Rate\" of Control Group\n",
    "df_control[\"Click/Impression Rate\"].describe().T"
   ]
  },
  {
   "cell_type": "code",
   "execution_count": 12,
   "id": "fb19d58f",
   "metadata": {
    "execution": {
     "iopub.execute_input": "2021-09-30T12:44:53.224051Z",
     "iopub.status.busy": "2021-09-30T12:44:53.223416Z",
     "iopub.status.idle": "2021-09-30T12:44:53.231230Z",
     "shell.execute_reply": "2021-09-30T12:44:53.231732Z",
     "shell.execute_reply.started": "2021-09-28T08:36:12.570054Z"
    },
    "papermill": {
     "duration": 0.069534,
     "end_time": "2021-09-30T12:44:53.231919",
     "exception": false,
     "start_time": "2021-09-30T12:44:53.162385",
     "status": "completed"
    },
    "tags": []
   },
   "outputs": [
    {
     "data": {
      "text/plain": [
       "count   40.00000\n",
       "mean     0.03418\n",
       "std      0.01226\n",
       "min      0.01473\n",
       "25%      0.02816\n",
       "50%      0.03136\n",
       "75%      0.03726\n",
       "max      0.07575\n",
       "Name: Click/Impression Rate, dtype: float64"
      ]
     },
     "execution_count": 12,
     "metadata": {},
     "output_type": "execute_result"
    }
   ],
   "source": [
    "# Descriptive Statistics for \"Click/Impression Rate\" of Test Group\n",
    "df_test[\"Click/Impression Rate\"].describe().T"
   ]
  },
  {
   "cell_type": "markdown",
   "id": "f3105a8c",
   "metadata": {
    "execution": {
     "iopub.execute_input": "2021-09-27T16:14:50.122685Z",
     "iopub.status.busy": "2021-09-27T16:14:50.122403Z",
     "iopub.status.idle": "2021-09-27T16:14:50.126635Z",
     "shell.execute_reply": "2021-09-27T16:14:50.125977Z",
     "shell.execute_reply.started": "2021-09-27T16:14:50.122656Z"
    },
    "papermill": {
     "duration": 0.060144,
     "end_time": "2021-09-30T12:44:53.352180",
     "exception": false,
     "start_time": "2021-09-30T12:44:53.292036",
     "status": "completed"
    },
    "tags": []
   },
   "source": [
    "#### **According to the results of Descriptive Statistics of \"Click/Impression\" rate:** \n",
    "* There are some differences between Control Group and Test Group.\n",
    "* We need to test this in order to see whether there is a significant difference. "
   ]
  },
  {
   "cell_type": "markdown",
   "id": "907fb5cd",
   "metadata": {
    "papermill": {
     "duration": 0.060954,
     "end_time": "2021-09-30T12:44:53.474142",
     "exception": false,
     "start_time": "2021-09-30T12:44:53.413188",
     "status": "completed"
    },
    "tags": []
   },
   "source": [
    "#### **A. Test of Normality**\n",
    "#### H0: The assumption of normal distribution is provided.\n",
    "#### H1: The assumption of normal distribution is not provided."
   ]
  },
  {
   "cell_type": "code",
   "execution_count": 13,
   "id": "57520b0d",
   "metadata": {
    "execution": {
     "iopub.execute_input": "2021-09-30T12:44:53.599204Z",
     "iopub.status.busy": "2021-09-30T12:44:53.598536Z",
     "iopub.status.idle": "2021-09-30T12:44:53.604091Z",
     "shell.execute_reply": "2021-09-30T12:44:53.603524Z",
     "shell.execute_reply.started": "2021-09-28T08:36:14.359291Z"
    },
    "papermill": {
     "duration": 0.069025,
     "end_time": "2021-09-30T12:44:53.604231",
     "exception": false,
     "start_time": "2021-09-30T12:44:53.535206",
     "status": "completed"
    },
    "tags": []
   },
   "outputs": [
    {
     "name": "stdout",
     "output_type": "stream",
     "text": [
      "Test Stat = 0.8072, p-value = 0.0000\n"
     ]
    }
   ],
   "source": [
    "# Test of Normality for Control Group\n",
    "test_stat, pvalue = shapiro(df_control[\"Click/Impression Rate\"])\n",
    "print('Test Stat = %.4f, p-value = %.4f' % (test_stat, pvalue))"
   ]
  },
  {
   "cell_type": "code",
   "execution_count": 14,
   "id": "386738fa",
   "metadata": {
    "execution": {
     "iopub.execute_input": "2021-09-30T12:44:53.730945Z",
     "iopub.status.busy": "2021-09-30T12:44:53.730147Z",
     "iopub.status.idle": "2021-09-30T12:44:53.734091Z",
     "shell.execute_reply": "2021-09-30T12:44:53.733384Z",
     "shell.execute_reply.started": "2021-09-28T08:36:15.134491Z"
    },
    "papermill": {
     "duration": 0.0689,
     "end_time": "2021-09-30T12:44:53.734281",
     "exception": false,
     "start_time": "2021-09-30T12:44:53.665381",
     "status": "completed"
    },
    "tags": []
   },
   "outputs": [
    {
     "name": "stdout",
     "output_type": "stream",
     "text": [
      "Test Stat = 0.8415, p-value = 0.0001\n"
     ]
    }
   ],
   "source": [
    "# Test of Normality for Test Group\n",
    "test_stat, pvalue = shapiro(df_test[\"Click/Impression Rate\"])\n",
    "print('Test Stat = %.4f, p-value = %.4f' % (test_stat, pvalue))"
   ]
  },
  {
   "cell_type": "markdown",
   "id": "7f24be94",
   "metadata": {
    "papermill": {
     "duration": 0.059875,
     "end_time": "2021-09-30T12:44:53.855915",
     "exception": false,
     "start_time": "2021-09-30T12:44:53.796040",
     "status": "completed"
    },
    "tags": []
   },
   "source": [
    "#### **According to the results of the Test of Normality:** \n",
    "* p-values of Control Group and Test Group < 0.05.\n",
    "* This means that **we reject HO hypothesis**. \n",
    "* So, the assumption of normal distribution is not provided.\n",
    "* As the test of normality is not provided, we will skip the variance homogeneity test and continue with mannwhitneyu non-parametric test. "
   ]
  },
  {
   "cell_type": "markdown",
   "id": "06122309",
   "metadata": {
    "papermill": {
     "duration": 0.060853,
     "end_time": "2021-09-30T12:44:53.977455",
     "exception": false,
     "start_time": "2021-09-30T12:44:53.916602",
     "status": "completed"
    },
    "tags": []
   },
   "source": [
    "#### **B. Mannwhitneyu Non-parametric Test**\n",
    "#### H0: M1 = M2 (There is no statistically significant difference between \"Click/Impression\" rate of Control Group and Test Group)\n",
    "#### H1: M1 != M2 (There is statistically significant difference between \"Click/Impression\" rate of Control Group and Test Group)"
   ]
  },
  {
   "cell_type": "code",
   "execution_count": 15,
   "id": "04b6f1fa",
   "metadata": {
    "execution": {
     "iopub.execute_input": "2021-09-30T12:44:54.108208Z",
     "iopub.status.busy": "2021-09-30T12:44:54.107419Z",
     "iopub.status.idle": "2021-09-30T12:44:54.110767Z",
     "shell.execute_reply": "2021-09-30T12:44:54.111480Z",
     "shell.execute_reply.started": "2021-09-28T08:36:20.384044Z"
    },
    "papermill": {
     "duration": 0.071779,
     "end_time": "2021-09-30T12:44:54.111703",
     "exception": false,
     "start_time": "2021-09-30T12:44:54.039924",
     "status": "completed"
    },
    "tags": []
   },
   "outputs": [
    {
     "name": "stdout",
     "output_type": "stream",
     "text": [
      "Test Stat = 1308.0000, p-value = 0.0000\n"
     ]
    }
   ],
   "source": [
    "# Mannwhitneyu Non-parametric Test \n",
    "test_stat, pvalue = mannwhitneyu(df_control[\"Click/Impression Rate\"],\n",
    "                                 df_test[\"Click/Impression Rate\"])\n",
    "\n",
    "print('Test Stat = %.4f, p-value = %.4f' % (test_stat, pvalue))"
   ]
  },
  {
   "cell_type": "markdown",
   "id": "38a1c717",
   "metadata": {
    "papermill": {
     "duration": 0.061186,
     "end_time": "2021-09-30T12:44:54.235881",
     "exception": false,
     "start_time": "2021-09-30T12:44:54.174695",
     "status": "completed"
    },
    "tags": []
   },
   "source": [
    "#### **According to the results of Mannwhitneyu Non-parametric Test:** \n",
    "* p-value < 0.05\n",
    "* This means that **we reject HO hypothesis**. \n",
    "* So, there is statistically significant difference between \"Click/Impression\" rate of Control Group and Test Group.\n",
    "* When we consider the descriptive statistics of \"Click/Impression Rate\", Control Group (maximum bidding) has higher rates than Test Group.\n",
    "* This gives an impression that our customer should use max. bidding instead of average bidding. Let's do not hurry up to decide and dive in other features (Purchase, Earning)."
   ]
  },
  {
   "cell_type": "markdown",
   "id": "46f0ee64",
   "metadata": {
    "papermill": {
     "duration": 0.061281,
     "end_time": "2021-09-30T12:44:54.358776",
     "exception": false,
     "start_time": "2021-09-30T12:44:54.297495",
     "status": "completed"
    },
    "tags": []
   },
   "source": [
    "### **2.3. Is there a significant difference on \"Purchase\" values between Control Group and Test Group?** "
   ]
  },
  {
   "cell_type": "code",
   "execution_count": 16,
   "id": "12d077de",
   "metadata": {
    "execution": {
     "iopub.execute_input": "2021-09-30T12:44:54.490363Z",
     "iopub.status.busy": "2021-09-30T12:44:54.489652Z",
     "iopub.status.idle": "2021-09-30T12:44:54.492378Z",
     "shell.execute_reply": "2021-09-30T12:44:54.492976Z",
     "shell.execute_reply.started": "2021-09-28T08:36:22.621432Z"
    },
    "papermill": {
     "duration": 0.073538,
     "end_time": "2021-09-30T12:44:54.493566",
     "exception": false,
     "start_time": "2021-09-30T12:44:54.420028",
     "status": "completed"
    },
    "tags": []
   },
   "outputs": [
    {
     "data": {
      "text/plain": [
       "count    40.00000\n",
       "mean    550.89406\n",
       "std     134.10820\n",
       "min     267.02894\n",
       "25%     470.09553\n",
       "50%     531.20631\n",
       "75%     637.95709\n",
       "max     801.79502\n",
       "Name: Purchase, dtype: float64"
      ]
     },
     "execution_count": 16,
     "metadata": {},
     "output_type": "execute_result"
    }
   ],
   "source": [
    "# Control Group\n",
    "df_control[\"Purchase\"].describe().T"
   ]
  },
  {
   "cell_type": "code",
   "execution_count": 17,
   "id": "2eba3371",
   "metadata": {
    "execution": {
     "iopub.execute_input": "2021-09-30T12:44:54.620892Z",
     "iopub.status.busy": "2021-09-30T12:44:54.620276Z",
     "iopub.status.idle": "2021-09-30T12:44:54.628094Z",
     "shell.execute_reply": "2021-09-30T12:44:54.628671Z",
     "shell.execute_reply.started": "2021-09-28T08:36:23.406193Z"
    },
    "papermill": {
     "duration": 0.072605,
     "end_time": "2021-09-30T12:44:54.628857",
     "exception": false,
     "start_time": "2021-09-30T12:44:54.556252",
     "status": "completed"
    },
    "tags": []
   },
   "outputs": [
    {
     "data": {
      "text/plain": [
       "count    40.00000\n",
       "mean    582.10610\n",
       "std     161.15251\n",
       "min     311.62952\n",
       "25%     444.62683\n",
       "50%     551.35573\n",
       "75%     699.86236\n",
       "max     889.91046\n",
       "Name: Purchase, dtype: float64"
      ]
     },
     "execution_count": 17,
     "metadata": {},
     "output_type": "execute_result"
    }
   ],
   "source": [
    "# Test Group\n",
    "df_test[\"Purchase\"].describe().T"
   ]
  },
  {
   "cell_type": "markdown",
   "id": "ed5261b6",
   "metadata": {
    "papermill": {
     "duration": 0.061647,
     "end_time": "2021-09-30T12:44:54.753550",
     "exception": false,
     "start_time": "2021-09-30T12:44:54.691903",
     "status": "completed"
    },
    "tags": []
   },
   "source": [
    "#### Descriptive Statistics for Test Group seem to be higher than Control Group. \n",
    "#### Let's check whether this difference is statistically significant or not. "
   ]
  },
  {
   "cell_type": "markdown",
   "id": "9f378a84",
   "metadata": {
    "papermill": {
     "duration": 0.06203,
     "end_time": "2021-09-30T12:44:54.877250",
     "exception": false,
     "start_time": "2021-09-30T12:44:54.815220",
     "status": "completed"
    },
    "tags": []
   },
   "source": [
    "#### **C. Test of Normality**\n",
    "#### H0: The assumption of normal distribution is provided.\n",
    "#### H1: The assumption of normal distribution is not provided."
   ]
  },
  {
   "cell_type": "code",
   "execution_count": 18,
   "id": "e7d55680",
   "metadata": {
    "execution": {
     "iopub.execute_input": "2021-09-30T12:44:55.003651Z",
     "iopub.status.busy": "2021-09-30T12:44:55.003059Z",
     "iopub.status.idle": "2021-09-30T12:44:55.007872Z",
     "shell.execute_reply": "2021-09-30T12:44:55.008323Z",
     "shell.execute_reply.started": "2021-09-28T08:36:25.141474Z"
    },
    "papermill": {
     "duration": 0.069076,
     "end_time": "2021-09-30T12:44:55.008471",
     "exception": false,
     "start_time": "2021-09-30T12:44:54.939395",
     "status": "completed"
    },
    "tags": []
   },
   "outputs": [
    {
     "name": "stdout",
     "output_type": "stream",
     "text": [
      "Test Stat = 0.9773, p-value = 0.5891\n"
     ]
    }
   ],
   "source": [
    "# Test of Normality for Control Group\n",
    "test_stat, pvalue = shapiro(df_control[\"Purchase\"])\n",
    "print('Test Stat = %.4f, p-value = %.4f' % (test_stat, pvalue))"
   ]
  },
  {
   "cell_type": "code",
   "execution_count": 19,
   "id": "95099adf",
   "metadata": {
    "execution": {
     "iopub.execute_input": "2021-09-30T12:44:55.140867Z",
     "iopub.status.busy": "2021-09-30T12:44:55.140137Z",
     "iopub.status.idle": "2021-09-30T12:44:55.142868Z",
     "shell.execute_reply": "2021-09-30T12:44:55.143362Z",
     "shell.execute_reply.started": "2021-09-28T08:36:25.873523Z"
    },
    "papermill": {
     "duration": 0.071283,
     "end_time": "2021-09-30T12:44:55.143519",
     "exception": false,
     "start_time": "2021-09-30T12:44:55.072236",
     "status": "completed"
    },
    "tags": []
   },
   "outputs": [
    {
     "name": "stdout",
     "output_type": "stream",
     "text": [
      "Test Stat = 0.9589, p-value = 0.1541\n"
     ]
    }
   ],
   "source": [
    "# Test of Normality for Test Group\n",
    "test_stat, pvalue = shapiro(df_test[\"Purchase\"])\n",
    "print('Test Stat = %.4f, p-value = %.4f' % (test_stat, pvalue))"
   ]
  },
  {
   "cell_type": "markdown",
   "id": "d60d2e92",
   "metadata": {
    "papermill": {
     "duration": 0.062598,
     "end_time": "2021-09-30T12:44:55.269001",
     "exception": false,
     "start_time": "2021-09-30T12:44:55.206403",
     "status": "completed"
    },
    "tags": []
   },
   "source": [
    "#### **According to the results of the Test of Normality:** \n",
    "* p-values of Control Group and Test Group > 0.05.\n",
    "* This means that **we can not reject HO hypothesis**. \n",
    "* So, the assumption of normal distribution is provided.\n",
    "* We will continue with the test of variance homogeneity."
   ]
  },
  {
   "cell_type": "markdown",
   "id": "037adfa4",
   "metadata": {
    "execution": {
     "iopub.execute_input": "2021-09-27T16:16:04.753978Z",
     "iopub.status.busy": "2021-09-27T16:16:04.753705Z",
     "iopub.status.idle": "2021-09-27T16:16:04.761468Z",
     "shell.execute_reply": "2021-09-27T16:16:04.760338Z",
     "shell.execute_reply.started": "2021-09-27T16:16:04.753949Z"
    },
    "papermill": {
     "duration": 0.061896,
     "end_time": "2021-09-30T12:44:55.393606",
     "exception": false,
     "start_time": "2021-09-30T12:44:55.331710",
     "status": "completed"
    },
    "tags": []
   },
   "source": [
    "#### **D. Test of Variance Homogeneity**\n",
    "#### H0: Variances are homogeneous.\n",
    "#### H1: Variances are not homogeneous."
   ]
  },
  {
   "cell_type": "code",
   "execution_count": 20,
   "id": "4363f93e",
   "metadata": {
    "execution": {
     "iopub.execute_input": "2021-09-30T12:44:55.521308Z",
     "iopub.status.busy": "2021-09-30T12:44:55.520683Z",
     "iopub.status.idle": "2021-09-30T12:44:55.526304Z",
     "shell.execute_reply": "2021-09-30T12:44:55.527074Z",
     "shell.execute_reply.started": "2021-09-28T08:36:33.81932Z"
    },
    "papermill": {
     "duration": 0.071145,
     "end_time": "2021-09-30T12:44:55.527289",
     "exception": false,
     "start_time": "2021-09-30T12:44:55.456144",
     "status": "completed"
    },
    "tags": []
   },
   "outputs": [
    {
     "name": "stdout",
     "output_type": "stream",
     "text": [
      "Test Stat = 2.6393, p-value = 0.1083\n"
     ]
    }
   ],
   "source": [
    "test_stat, pvalue = levene(df_control[\"Purchase\"],df_test[\"Purchase\"])\n",
    "print('Test Stat = %.4f, p-value = %.4f' % (test_stat, pvalue))"
   ]
  },
  {
   "cell_type": "markdown",
   "id": "c20056ad",
   "metadata": {
    "papermill": {
     "duration": 0.062486,
     "end_time": "2021-09-30T12:44:55.653125",
     "exception": false,
     "start_time": "2021-09-30T12:44:55.590639",
     "status": "completed"
    },
    "tags": []
   },
   "source": [
    "### **According to the results of Levene Test:** \n",
    "* p-value > 0.05.\n",
    "* This means that **we can not reject HO hypothesis**.\n",
    "* So, variances are homogeneous.\n",
    "* Both assumptions for normality and variance homogeneity are provided. \n",
    "* In this case, we will continue with independent two-sample t-test."
   ]
  },
  {
   "cell_type": "markdown",
   "id": "8f1da8d5",
   "metadata": {
    "papermill": {
     "duration": 0.063353,
     "end_time": "2021-09-30T12:44:55.780373",
     "exception": false,
     "start_time": "2021-09-30T12:44:55.717020",
     "status": "completed"
    },
    "tags": []
   },
   "source": [
    "#### **E. Independent Two-Sample T-Test**\n",
    "#### H0: M1 = M2 (There is no statistically significant difference between the means of \"Purchase\" of Control Group and Test Group.)\n",
    "#### H1: M1 != M2 (There is statistically significant difference between the means of \"Purchase\" of Control Group and Test Group)"
   ]
  },
  {
   "cell_type": "code",
   "execution_count": 21,
   "id": "f837e4e1",
   "metadata": {
    "execution": {
     "iopub.execute_input": "2021-09-30T12:44:55.910388Z",
     "iopub.status.busy": "2021-09-30T12:44:55.909746Z",
     "iopub.status.idle": "2021-09-30T12:44:55.914505Z",
     "shell.execute_reply": "2021-09-30T12:44:55.915012Z",
     "shell.execute_reply.started": "2021-09-27T16:18:38.88457Z"
    },
    "papermill": {
     "duration": 0.071183,
     "end_time": "2021-09-30T12:44:55.915171",
     "exception": false,
     "start_time": "2021-09-30T12:44:55.843988",
     "status": "completed"
    },
    "tags": []
   },
   "outputs": [
    {
     "name": "stdout",
     "output_type": "stream",
     "text": [
      "Test Stat = -0.9416, p-value = 0.3493\n"
     ]
    }
   ],
   "source": [
    "test_stat, pvalue = ttest_ind(df_control[\"Purchase\"],df_test[\"Purchase\"],\n",
    "                              equal_var=True)\n",
    "\n",
    "print('Test Stat = %.4f, p-value = %.4f' % (test_stat, pvalue))"
   ]
  },
  {
   "cell_type": "markdown",
   "id": "d737d210",
   "metadata": {
    "papermill": {
     "duration": 0.062772,
     "end_time": "2021-09-30T12:44:56.041123",
     "exception": false,
     "start_time": "2021-09-30T12:44:55.978351",
     "status": "completed"
    },
    "tags": []
   },
   "source": [
    "#### **According to the results of Independent Two-Sample T-Test:** \n",
    "* p-value > 0.05.\n",
    "* This means **we can not reject H0 hypothesis**.\n",
    "* So, there is no statistically significant difference between the means of \"Purchase\" of Control Group and Test Group."
   ]
  },
  {
   "cell_type": "markdown",
   "id": "f97b99f9",
   "metadata": {
    "papermill": {
     "duration": 0.063682,
     "end_time": "2021-09-30T12:44:56.169254",
     "exception": false,
     "start_time": "2021-09-30T12:44:56.105572",
     "status": "completed"
    },
    "tags": []
   },
   "source": [
    "### **2.4. Is there a significant difference on \"Earning\" values between Control Group and Test Group?** "
   ]
  },
  {
   "cell_type": "code",
   "execution_count": 22,
   "id": "cef1d670",
   "metadata": {
    "execution": {
     "iopub.execute_input": "2021-09-30T12:44:56.304380Z",
     "iopub.status.busy": "2021-09-30T12:44:56.303654Z",
     "iopub.status.idle": "2021-09-30T12:44:56.306113Z",
     "shell.execute_reply": "2021-09-30T12:44:56.306618Z",
     "shell.execute_reply.started": "2021-09-28T09:39:23.305742Z"
    },
    "papermill": {
     "duration": 0.074413,
     "end_time": "2021-09-30T12:44:56.306773",
     "exception": false,
     "start_time": "2021-09-30T12:44:56.232360",
     "status": "completed"
    },
    "tags": []
   },
   "outputs": [
    {
     "data": {
      "text/plain": [
       "count     40.00000\n",
       "mean    1908.56830\n",
       "std      302.91778\n",
       "min     1253.98952\n",
       "25%     1685.84720\n",
       "50%     1975.16052\n",
       "75%     2119.80278\n",
       "max     2497.29522\n",
       "Name: Earning, dtype: float64"
      ]
     },
     "execution_count": 22,
     "metadata": {},
     "output_type": "execute_result"
    }
   ],
   "source": [
    "# Control Group\n",
    "df_control[\"Earning\"].describe().T"
   ]
  },
  {
   "cell_type": "code",
   "execution_count": 23,
   "id": "f0554ee0",
   "metadata": {
    "execution": {
     "iopub.execute_input": "2021-09-30T12:44:56.438404Z",
     "iopub.status.busy": "2021-09-30T12:44:56.435897Z",
     "iopub.status.idle": "2021-09-30T12:44:56.444924Z",
     "shell.execute_reply": "2021-09-30T12:44:56.444310Z",
     "shell.execute_reply.started": "2021-09-28T09:39:23.7134Z"
    },
    "papermill": {
     "duration": 0.074914,
     "end_time": "2021-09-30T12:44:56.445055",
     "exception": false,
     "start_time": "2021-09-30T12:44:56.370141",
     "status": "completed"
    },
    "tags": []
   },
   "outputs": [
    {
     "data": {
      "text/plain": [
       "count     40.00000\n",
       "mean    2514.89073\n",
       "std      282.73085\n",
       "min     1939.61124\n",
       "25%     2280.53743\n",
       "50%     2544.66611\n",
       "75%     2761.54540\n",
       "max     3171.48971\n",
       "Name: Earning, dtype: float64"
      ]
     },
     "execution_count": 23,
     "metadata": {},
     "output_type": "execute_result"
    }
   ],
   "source": [
    "# Test Group\n",
    "df_test[\"Earning\"].describe().T"
   ]
  },
  {
   "cell_type": "markdown",
   "id": "e459a80d",
   "metadata": {
    "execution": {
     "iopub.execute_input": "2021-09-27T16:28:44.896089Z",
     "iopub.status.busy": "2021-09-27T16:28:44.895779Z",
     "iopub.status.idle": "2021-09-27T16:28:44.900235Z",
     "shell.execute_reply": "2021-09-27T16:28:44.899461Z",
     "shell.execute_reply.started": "2021-09-27T16:28:44.896037Z"
    },
    "papermill": {
     "duration": 0.063758,
     "end_time": "2021-09-30T12:44:56.572525",
     "exception": false,
     "start_time": "2021-09-30T12:44:56.508767",
     "status": "completed"
    },
    "tags": []
   },
   "source": [
    "#### Descriptive Statistics for Test Group seem to be higher than Control Group. \n",
    "#### Let's check whether this difference is statistically significant or not. "
   ]
  },
  {
   "cell_type": "markdown",
   "id": "5bc844f4",
   "metadata": {
    "papermill": {
     "duration": 0.063627,
     "end_time": "2021-09-30T12:44:56.700062",
     "exception": false,
     "start_time": "2021-09-30T12:44:56.636435",
     "status": "completed"
    },
    "tags": []
   },
   "source": [
    "#### **F. Test of Normality**\n",
    "#### H0: The assumption of normal distribution is provided.\n",
    "#### H1: The assumption of normal distribution is not provided."
   ]
  },
  {
   "cell_type": "code",
   "execution_count": 24,
   "id": "fb3a8a1b",
   "metadata": {
    "execution": {
     "iopub.execute_input": "2021-09-30T12:44:56.832177Z",
     "iopub.status.busy": "2021-09-30T12:44:56.831458Z",
     "iopub.status.idle": "2021-09-30T12:44:56.834369Z",
     "shell.execute_reply": "2021-09-30T12:44:56.834846Z",
     "shell.execute_reply.started": "2021-09-27T16:29:34.790169Z"
    },
    "papermill": {
     "duration": 0.071939,
     "end_time": "2021-09-30T12:44:56.835018",
     "exception": false,
     "start_time": "2021-09-30T12:44:56.763079",
     "status": "completed"
    },
    "tags": []
   },
   "outputs": [
    {
     "name": "stdout",
     "output_type": "stream",
     "text": [
      "Test Stat = 0.9756, p-value = 0.5306\n"
     ]
    }
   ],
   "source": [
    "# Control Group\n",
    "test_stat, pvalue = shapiro(df_control[\"Earning\"])\n",
    "print('Test Stat = %.4f, p-value = %.4f' % (test_stat, pvalue))"
   ]
  },
  {
   "cell_type": "code",
   "execution_count": 25,
   "id": "5fe6d570",
   "metadata": {
    "execution": {
     "iopub.execute_input": "2021-09-30T12:44:56.968509Z",
     "iopub.status.busy": "2021-09-30T12:44:56.967616Z",
     "iopub.status.idle": "2021-09-30T12:44:56.970764Z",
     "shell.execute_reply": "2021-09-30T12:44:56.971312Z",
     "shell.execute_reply.started": "2021-09-27T16:29:36.868441Z"
    },
    "papermill": {
     "duration": 0.072132,
     "end_time": "2021-09-30T12:44:56.971482",
     "exception": false,
     "start_time": "2021-09-30T12:44:56.899350",
     "status": "completed"
    },
    "tags": []
   },
   "outputs": [
    {
     "name": "stdout",
     "output_type": "stream",
     "text": [
      "Test Stat = 0.9780, p-value = 0.6163\n"
     ]
    }
   ],
   "source": [
    "# Test Group\n",
    "test_stat, pvalue = shapiro(df_test[\"Earning\"])\n",
    "print('Test Stat = %.4f, p-value = %.4f' % (test_stat, pvalue))"
   ]
  },
  {
   "cell_type": "markdown",
   "id": "bdf1b585",
   "metadata": {
    "papermill": {
     "duration": 0.065087,
     "end_time": "2021-09-30T12:44:57.101548",
     "exception": false,
     "start_time": "2021-09-30T12:44:57.036461",
     "status": "completed"
    },
    "tags": []
   },
   "source": [
    "#### **According to the results:** \n",
    "* p-values of Control Group and Test Group > 0.05.\n",
    "* This means that **we can not reject HO hypothesis**. \n",
    "* So, the assumption of normal distribution is provided.\n",
    "* We will continue with the test of variance homogeneity"
   ]
  },
  {
   "cell_type": "markdown",
   "id": "1e1a1da9",
   "metadata": {
    "papermill": {
     "duration": 0.063004,
     "end_time": "2021-09-30T12:44:57.228654",
     "exception": false,
     "start_time": "2021-09-30T12:44:57.165650",
     "status": "completed"
    },
    "tags": []
   },
   "source": [
    "#### **G. Test of Variance Homogeneity**\n",
    "#### H0: Variances are homogeneous.\n",
    "#### H1: Variances are not homogeneous."
   ]
  },
  {
   "cell_type": "code",
   "execution_count": 26,
   "id": "d43aa080",
   "metadata": {
    "execution": {
     "iopub.execute_input": "2021-09-30T12:44:57.363060Z",
     "iopub.status.busy": "2021-09-30T12:44:57.362275Z",
     "iopub.status.idle": "2021-09-30T12:44:57.365954Z",
     "shell.execute_reply": "2021-09-30T12:44:57.365345Z",
     "shell.execute_reply.started": "2021-09-27T16:40:55.256663Z"
    },
    "papermill": {
     "duration": 0.073848,
     "end_time": "2021-09-30T12:44:57.366093",
     "exception": false,
     "start_time": "2021-09-30T12:44:57.292245",
     "status": "completed"
    },
    "tags": []
   },
   "outputs": [
    {
     "name": "stdout",
     "output_type": "stream",
     "text": [
      "Test Stat = 0.3532, p-value = 0.5540\n"
     ]
    }
   ],
   "source": [
    "test_stat, pvalue = levene(df_control[\"Earning\"],df_test[\"Earning\"])\n",
    "print('Test Stat = %.4f, p-value = %.4f' % (test_stat, pvalue))"
   ]
  },
  {
   "cell_type": "markdown",
   "id": "87e8cb60",
   "metadata": {
    "papermill": {
     "duration": 0.063836,
     "end_time": "2021-09-30T12:44:57.494510",
     "exception": false,
     "start_time": "2021-09-30T12:44:57.430674",
     "status": "completed"
    },
    "tags": []
   },
   "source": [
    "#### **According to the results of Levene test:** \n",
    "* p-value > 0.05.\n",
    "* This means that **we can not reject HO hypothesis**.\n",
    "* So, variances are homogeneous.\n",
    "* Both assumptions for normality and variance homogeneity are provided. \n",
    "* In this case, we will continue with independent two-sample t-test."
   ]
  },
  {
   "cell_type": "markdown",
   "id": "629ebd46",
   "metadata": {
    "papermill": {
     "duration": 0.064559,
     "end_time": "2021-09-30T12:44:57.622734",
     "exception": false,
     "start_time": "2021-09-30T12:44:57.558175",
     "status": "completed"
    },
    "tags": []
   },
   "source": [
    "#### H. Independent Two-Sample T-Test \n",
    "\n",
    "#### H0: M1 = M2 (There is no statistically significant difference between the means of \"Earning\" of Control Group and Test Group).\n",
    "#### H1: M1 != M2 (There is statistically significant difference between the means of \"Earning\" of Control Group and Test Group)."
   ]
  },
  {
   "cell_type": "code",
   "execution_count": 27,
   "id": "16136840",
   "metadata": {
    "execution": {
     "iopub.execute_input": "2021-09-30T12:44:57.757294Z",
     "iopub.status.busy": "2021-09-30T12:44:57.756580Z",
     "iopub.status.idle": "2021-09-30T12:44:57.759586Z",
     "shell.execute_reply": "2021-09-30T12:44:57.760038Z",
     "shell.execute_reply.started": "2021-09-27T16:42:32.004457Z"
    },
    "papermill": {
     "duration": 0.073564,
     "end_time": "2021-09-30T12:44:57.760203",
     "exception": false,
     "start_time": "2021-09-30T12:44:57.686639",
     "status": "completed"
    },
    "tags": []
   },
   "outputs": [
    {
     "name": "stdout",
     "output_type": "stream",
     "text": [
      "Test Stat = -9.2545, p-value = 0.0000\n"
     ]
    }
   ],
   "source": [
    "test_stat, pvalue = ttest_ind(df_control[\"Earning\"],df_test[\"Earning\"],\n",
    "                              equal_var=True)\n",
    "\n",
    "print('Test Stat = %.4f, p-value = %.4f' % (test_stat, pvalue))"
   ]
  },
  {
   "cell_type": "markdown",
   "id": "3ef98c5c",
   "metadata": {
    "papermill": {
     "duration": 0.065382,
     "end_time": "2021-09-30T12:44:57.898296",
     "exception": false,
     "start_time": "2021-09-30T12:44:57.832914",
     "status": "completed"
    },
    "tags": []
   },
   "source": [
    "#### **According to the results of Independent Two-Sample T-Test:** \n",
    "* p-value < 0.05.\n",
    "* This means **we reject H0 hypothesis**.\n",
    "* So, there is statistically significant difference between the means of \"Earning the two groups."
   ]
  },
  {
   "cell_type": "markdown",
   "id": "44f76292",
   "metadata": {
    "papermill": {
     "duration": 0.06451,
     "end_time": "2021-09-30T12:44:58.028958",
     "exception": false,
     "start_time": "2021-09-30T12:44:57.964448",
     "status": "completed"
    },
    "tags": []
   },
   "source": [
    "### **2.5. Is there a significant difference on \"Purchase/Click\" rate between Control Group and Test Group?** "
   ]
  },
  {
   "cell_type": "markdown",
   "id": "60101642",
   "metadata": {
    "papermill": {
     "duration": 0.064594,
     "end_time": "2021-09-30T12:44:58.159949",
     "exception": false,
     "start_time": "2021-09-30T12:44:58.095355",
     "status": "completed"
    },
    "tags": []
   },
   "source": [
    "#### Purchase/Click rate can give us an insight.  \n",
    "#### Purchase/Click = (Number of products purchased after the ads clicked) / (number of clicks on the displayed ad) "
   ]
  },
  {
   "cell_type": "code",
   "execution_count": 28,
   "id": "dfb32f5b",
   "metadata": {
    "execution": {
     "iopub.execute_input": "2021-09-30T12:44:58.301952Z",
     "iopub.status.busy": "2021-09-30T12:44:58.301139Z",
     "iopub.status.idle": "2021-09-30T12:44:58.304434Z",
     "shell.execute_reply": "2021-09-30T12:44:58.303857Z",
     "shell.execute_reply.started": "2021-09-28T08:47:33.949701Z"
    },
    "papermill": {
     "duration": 0.080258,
     "end_time": "2021-09-30T12:44:58.304567",
     "exception": false,
     "start_time": "2021-09-30T12:44:58.224309",
     "status": "completed"
    },
    "tags": []
   },
   "outputs": [
    {
     "data": {
      "text/html": [
       "<div>\n",
       "<style scoped>\n",
       "    .dataframe tbody tr th:only-of-type {\n",
       "        vertical-align: middle;\n",
       "    }\n",
       "\n",
       "    .dataframe tbody tr th {\n",
       "        vertical-align: top;\n",
       "    }\n",
       "\n",
       "    .dataframe thead th {\n",
       "        text-align: right;\n",
       "    }\n",
       "</style>\n",
       "<table border=\"1\" class=\"dataframe\">\n",
       "  <thead>\n",
       "    <tr style=\"text-align: right;\">\n",
       "      <th></th>\n",
       "      <th>Impression</th>\n",
       "      <th>Click</th>\n",
       "      <th>Purchase</th>\n",
       "      <th>Earning</th>\n",
       "      <th>Click/Impression Rate</th>\n",
       "      <th>Purchase/Click Rate</th>\n",
       "    </tr>\n",
       "  </thead>\n",
       "  <tbody>\n",
       "    <tr>\n",
       "      <th>0</th>\n",
       "      <td>82529.45927</td>\n",
       "      <td>6090.07732</td>\n",
       "      <td>665.21125</td>\n",
       "      <td>2311.27714</td>\n",
       "      <td>0.07379</td>\n",
       "      <td>0.10923</td>\n",
       "    </tr>\n",
       "    <tr>\n",
       "      <th>1</th>\n",
       "      <td>98050.45193</td>\n",
       "      <td>3382.86179</td>\n",
       "      <td>315.08489</td>\n",
       "      <td>1742.80686</td>\n",
       "      <td>0.03450</td>\n",
       "      <td>0.09314</td>\n",
       "    </tr>\n",
       "    <tr>\n",
       "      <th>2</th>\n",
       "      <td>82696.02355</td>\n",
       "      <td>4167.96575</td>\n",
       "      <td>458.08374</td>\n",
       "      <td>1797.82745</td>\n",
       "      <td>0.05040</td>\n",
       "      <td>0.10991</td>\n",
       "    </tr>\n",
       "    <tr>\n",
       "      <th>3</th>\n",
       "      <td>109914.40040</td>\n",
       "      <td>4910.88224</td>\n",
       "      <td>487.09077</td>\n",
       "      <td>1696.22918</td>\n",
       "      <td>0.04468</td>\n",
       "      <td>0.09919</td>\n",
       "    </tr>\n",
       "    <tr>\n",
       "      <th>4</th>\n",
       "      <td>108457.76263</td>\n",
       "      <td>5987.65581</td>\n",
       "      <td>441.03405</td>\n",
       "      <td>1543.72018</td>\n",
       "      <td>0.05521</td>\n",
       "      <td>0.07366</td>\n",
       "    </tr>\n",
       "  </tbody>\n",
       "</table>\n",
       "</div>"
      ],
      "text/plain": [
       "    Impression      Click  Purchase    Earning  Click/Impression Rate  \\\n",
       "0  82529.45927 6090.07732 665.21125 2311.27714                0.07379   \n",
       "1  98050.45193 3382.86179 315.08489 1742.80686                0.03450   \n",
       "2  82696.02355 4167.96575 458.08374 1797.82745                0.05040   \n",
       "3 109914.40040 4910.88224 487.09077 1696.22918                0.04468   \n",
       "4 108457.76263 5987.65581 441.03405 1543.72018                0.05521   \n",
       "\n",
       "   Purchase/Click Rate  \n",
       "0              0.10923  \n",
       "1              0.09314  \n",
       "2              0.10991  \n",
       "3              0.09919  \n",
       "4              0.07366  "
      ]
     },
     "execution_count": 28,
     "metadata": {},
     "output_type": "execute_result"
    }
   ],
   "source": [
    "# Calculate \"Purchase/Click\" rate for Control Group \n",
    "df_control[\"Purchase/Click Rate\"] = df_control[\"Purchase\"]/df_control[\"Click\"]\n",
    "df_control.head()"
   ]
  },
  {
   "cell_type": "code",
   "execution_count": 29,
   "id": "62a63b0d",
   "metadata": {
    "execution": {
     "iopub.execute_input": "2021-09-30T12:44:58.451111Z",
     "iopub.status.busy": "2021-09-30T12:44:58.450287Z",
     "iopub.status.idle": "2021-09-30T12:44:58.453817Z",
     "shell.execute_reply": "2021-09-30T12:44:58.454525Z",
     "shell.execute_reply.started": "2021-09-28T08:47:55.812083Z"
    },
    "papermill": {
     "duration": 0.084015,
     "end_time": "2021-09-30T12:44:58.454754",
     "exception": false,
     "start_time": "2021-09-30T12:44:58.370739",
     "status": "completed"
    },
    "tags": []
   },
   "outputs": [
    {
     "data": {
      "text/html": [
       "<div>\n",
       "<style scoped>\n",
       "    .dataframe tbody tr th:only-of-type {\n",
       "        vertical-align: middle;\n",
       "    }\n",
       "\n",
       "    .dataframe tbody tr th {\n",
       "        vertical-align: top;\n",
       "    }\n",
       "\n",
       "    .dataframe thead th {\n",
       "        text-align: right;\n",
       "    }\n",
       "</style>\n",
       "<table border=\"1\" class=\"dataframe\">\n",
       "  <thead>\n",
       "    <tr style=\"text-align: right;\">\n",
       "      <th></th>\n",
       "      <th>Impression</th>\n",
       "      <th>Click</th>\n",
       "      <th>Purchase</th>\n",
       "      <th>Earning</th>\n",
       "      <th>Click/Impression Rate</th>\n",
       "      <th>Purchase/Click Rate</th>\n",
       "    </tr>\n",
       "  </thead>\n",
       "  <tbody>\n",
       "    <tr>\n",
       "      <th>0</th>\n",
       "      <td>120103.50380</td>\n",
       "      <td>3216.54796</td>\n",
       "      <td>702.16035</td>\n",
       "      <td>1939.61124</td>\n",
       "      <td>0.02678</td>\n",
       "      <td>0.11530</td>\n",
       "    </tr>\n",
       "    <tr>\n",
       "      <th>1</th>\n",
       "      <td>134775.94336</td>\n",
       "      <td>3635.08242</td>\n",
       "      <td>834.05429</td>\n",
       "      <td>2929.40582</td>\n",
       "      <td>0.02697</td>\n",
       "      <td>0.24655</td>\n",
       "    </tr>\n",
       "    <tr>\n",
       "      <th>2</th>\n",
       "      <td>107806.62079</td>\n",
       "      <td>3057.14356</td>\n",
       "      <td>422.93426</td>\n",
       "      <td>2526.24488</td>\n",
       "      <td>0.02836</td>\n",
       "      <td>0.10147</td>\n",
       "    </tr>\n",
       "    <tr>\n",
       "      <th>3</th>\n",
       "      <td>116445.27553</td>\n",
       "      <td>4650.47391</td>\n",
       "      <td>429.03353</td>\n",
       "      <td>2281.42857</td>\n",
       "      <td>0.03994</td>\n",
       "      <td>0.08736</td>\n",
       "    </tr>\n",
       "    <tr>\n",
       "      <th>4</th>\n",
       "      <td>145082.51684</td>\n",
       "      <td>5201.38772</td>\n",
       "      <td>749.86044</td>\n",
       "      <td>2781.69752</td>\n",
       "      <td>0.03585</td>\n",
       "      <td>0.12523</td>\n",
       "    </tr>\n",
       "  </tbody>\n",
       "</table>\n",
       "</div>"
      ],
      "text/plain": [
       "    Impression      Click  Purchase    Earning  Click/Impression Rate  \\\n",
       "0 120103.50380 3216.54796 702.16035 1939.61124                0.02678   \n",
       "1 134775.94336 3635.08242 834.05429 2929.40582                0.02697   \n",
       "2 107806.62079 3057.14356 422.93426 2526.24488                0.02836   \n",
       "3 116445.27553 4650.47391 429.03353 2281.42857                0.03994   \n",
       "4 145082.51684 5201.38772 749.86044 2781.69752                0.03585   \n",
       "\n",
       "   Purchase/Click Rate  \n",
       "0              0.11530  \n",
       "1              0.24655  \n",
       "2              0.10147  \n",
       "3              0.08736  \n",
       "4              0.12523  "
      ]
     },
     "execution_count": 29,
     "metadata": {},
     "output_type": "execute_result"
    }
   ],
   "source": [
    "# Calculate \"Purchase/Click\" rate for Test Group \n",
    "df_test[\"Purchase/Click Rate\"] = df_test[\"Purchase\"]/df_control[\"Click\"]\n",
    "df_test.head()"
   ]
  },
  {
   "cell_type": "code",
   "execution_count": 30,
   "id": "30ff1c06",
   "metadata": {
    "execution": {
     "iopub.execute_input": "2021-09-30T12:44:58.594782Z",
     "iopub.status.busy": "2021-09-30T12:44:58.593883Z",
     "iopub.status.idle": "2021-09-30T12:44:58.602509Z",
     "shell.execute_reply": "2021-09-30T12:44:58.603024Z",
     "shell.execute_reply.started": "2021-09-28T08:49:49.466346Z"
    },
    "papermill": {
     "duration": 0.078805,
     "end_time": "2021-09-30T12:44:58.603191",
     "exception": false,
     "start_time": "2021-09-30T12:44:58.524386",
     "status": "completed"
    },
    "tags": []
   },
   "outputs": [
    {
     "data": {
      "text/plain": [
       "count   40.00000\n",
       "mean     0.11593\n",
       "std      0.04542\n",
       "min      0.04040\n",
       "25%      0.08525\n",
       "50%      0.10957\n",
       "75%      0.14482\n",
       "max      0.30436\n",
       "Name: Purchase/Click Rate, dtype: float64"
      ]
     },
     "execution_count": 30,
     "metadata": {},
     "output_type": "execute_result"
    }
   ],
   "source": [
    "# Descriptive Statistics of \"Purchase/Click Rate\" for Control Group\n",
    "df_control[\"Purchase/Click Rate\"].describe().T"
   ]
  },
  {
   "cell_type": "code",
   "execution_count": 31,
   "id": "0eba4da6",
   "metadata": {
    "execution": {
     "iopub.execute_input": "2021-09-30T12:44:58.746177Z",
     "iopub.status.busy": "2021-09-30T12:44:58.745470Z",
     "iopub.status.idle": "2021-09-30T12:44:58.747849Z",
     "shell.execute_reply": "2021-09-30T12:44:58.748394Z",
     "shell.execute_reply.started": "2021-09-28T08:50:01.553667Z"
    },
    "papermill": {
     "duration": 0.07888,
     "end_time": "2021-09-30T12:44:58.748550",
     "exception": false,
     "start_time": "2021-09-30T12:44:58.669670",
     "status": "completed"
    },
    "tags": []
   },
   "outputs": [
    {
     "data": {
      "text/plain": [
       "count   40.00000\n",
       "mean     0.12297\n",
       "std      0.04997\n",
       "min      0.04456\n",
       "25%      0.08984\n",
       "50%      0.11542\n",
       "75%      0.14364\n",
       "max      0.24655\n",
       "Name: Purchase/Click Rate, dtype: float64"
      ]
     },
     "execution_count": 31,
     "metadata": {},
     "output_type": "execute_result"
    }
   ],
   "source": [
    "# Descriptive Statistics of \"Purchase/Click Rate\" for Test Group\n",
    "df_test[\"Purchase/Click Rate\"].describe().T"
   ]
  },
  {
   "cell_type": "markdown",
   "id": "2b471d5c",
   "metadata": {
    "papermill": {
     "duration": 0.066143,
     "end_time": "2021-09-30T12:44:58.881307",
     "exception": false,
     "start_time": "2021-09-30T12:44:58.815164",
     "status": "completed"
    },
    "tags": []
   },
   "source": [
    "#### **According to the results of Descriptive Statistics of \"Purchase/Click\" rate:** \n",
    "* There are slight differences between Control Group and Test Group.\n",
    "* We need to test this in order to see whether there is a significant difference. "
   ]
  },
  {
   "cell_type": "markdown",
   "id": "affe43aa",
   "metadata": {
    "papermill": {
     "duration": 0.065584,
     "end_time": "2021-09-30T12:44:59.013241",
     "exception": false,
     "start_time": "2021-09-30T12:44:58.947657",
     "status": "completed"
    },
    "tags": []
   },
   "source": [
    "#### **I. Test of Normality**\n",
    "#### H0: The assumption of normal distribution is provided.\n",
    "#### H1: The assumption of normal distribution is not provided."
   ]
  },
  {
   "cell_type": "code",
   "execution_count": 32,
   "id": "214b68b0",
   "metadata": {
    "execution": {
     "iopub.execute_input": "2021-09-30T12:44:59.152349Z",
     "iopub.status.busy": "2021-09-30T12:44:59.151702Z",
     "iopub.status.idle": "2021-09-30T12:44:59.157002Z",
     "shell.execute_reply": "2021-09-30T12:44:59.157437Z",
     "shell.execute_reply.started": "2021-09-28T08:52:22.066312Z"
    },
    "papermill": {
     "duration": 0.07649,
     "end_time": "2021-09-30T12:44:59.157606",
     "exception": false,
     "start_time": "2021-09-30T12:44:59.081116",
     "status": "completed"
    },
    "tags": []
   },
   "outputs": [
    {
     "name": "stdout",
     "output_type": "stream",
     "text": [
      "Test Stat = 0.8720, p-value = 0.0003\n"
     ]
    }
   ],
   "source": [
    "# Test of Normality for Control Group (Purchase/Click)\n",
    "test_stat, pvalue = shapiro(df_control[\"Purchase/Click Rate\"])\n",
    "print('Test Stat = %.4f, p-value = %.4f' % (test_stat, pvalue))"
   ]
  },
  {
   "cell_type": "code",
   "execution_count": 33,
   "id": "07851f66",
   "metadata": {
    "execution": {
     "iopub.execute_input": "2021-09-30T12:44:59.298460Z",
     "iopub.status.busy": "2021-09-30T12:44:59.297876Z",
     "iopub.status.idle": "2021-09-30T12:44:59.300423Z",
     "shell.execute_reply": "2021-09-30T12:44:59.301032Z",
     "shell.execute_reply.started": "2021-09-28T08:52:36.912163Z"
    },
    "papermill": {
     "duration": 0.076023,
     "end_time": "2021-09-30T12:44:59.301194",
     "exception": false,
     "start_time": "2021-09-30T12:44:59.225171",
     "status": "completed"
    },
    "tags": []
   },
   "outputs": [
    {
     "name": "stdout",
     "output_type": "stream",
     "text": [
      "Test Stat = 0.9299, p-value = 0.0160\n"
     ]
    }
   ],
   "source": [
    "# Test of Normality for Test Group (Purchase/Click)\n",
    "test_stat, pvalue = shapiro(df_test[\"Purchase/Click Rate\"])\n",
    "print('Test Stat = %.4f, p-value = %.4f' % (test_stat, pvalue))"
   ]
  },
  {
   "cell_type": "markdown",
   "id": "97f9cd9c",
   "metadata": {
    "papermill": {
     "duration": 0.066713,
     "end_time": "2021-09-30T12:44:59.435893",
     "exception": false,
     "start_time": "2021-09-30T12:44:59.369180",
     "status": "completed"
    },
    "tags": []
   },
   "source": [
    "#### **According to the results of the Test of Normality (Purchase/Click):** \n",
    "* p-values of Control Group and Test Group < 0.05.\n",
    "* This means that **we reject HO hypothesis**. \n",
    "* So, the assumption of normal distribution is not provided.\n",
    "* As the test of normality is not provided, we will skip the variance homogeneity test and continue with mannwhitneyu non-parametric test. "
   ]
  },
  {
   "cell_type": "markdown",
   "id": "77d391fc",
   "metadata": {
    "papermill": {
     "duration": 0.068794,
     "end_time": "2021-09-30T12:44:59.572267",
     "exception": false,
     "start_time": "2021-09-30T12:44:59.503473",
     "status": "completed"
    },
    "tags": []
   },
   "source": [
    "#### **J. Mannwhitneyu Non-parametric Test**\n",
    "#### H0: M1 = M2 (There is no statistically significant difference between \"Purchase/Click\" rate of Control Group and Test Group)\n",
    "#### H1: M1 != M2 (There is statistically significant difference between \"Purchase/Click\" rate of Control Group and Test Group)"
   ]
  },
  {
   "cell_type": "code",
   "execution_count": 34,
   "id": "4b2735e4",
   "metadata": {
    "execution": {
     "iopub.execute_input": "2021-09-30T12:44:59.713839Z",
     "iopub.status.busy": "2021-09-30T12:44:59.713197Z",
     "iopub.status.idle": "2021-09-30T12:44:59.716337Z",
     "shell.execute_reply": "2021-09-30T12:44:59.716744Z",
     "shell.execute_reply.started": "2021-09-28T08:56:25.085615Z"
    },
    "papermill": {
     "duration": 0.077349,
     "end_time": "2021-09-30T12:44:59.716919",
     "exception": false,
     "start_time": "2021-09-30T12:44:59.639570",
     "status": "completed"
    },
    "tags": []
   },
   "outputs": [
    {
     "name": "stdout",
     "output_type": "stream",
     "text": [
      "Test Stat = 752.0000, p-value = 0.6476\n"
     ]
    }
   ],
   "source": [
    "# Mannwhitneyu Non-parametric Test (Purchase/Click)\n",
    "test_stat, pvalue = mannwhitneyu(df_control[\"Purchase/Click Rate\"],\n",
    "                                 df_test[\"Purchase/Click Rate\"])\n",
    "\n",
    "print('Test Stat = %.4f, p-value = %.4f' % (test_stat, pvalue))"
   ]
  },
  {
   "cell_type": "markdown",
   "id": "c588ca6f",
   "metadata": {
    "papermill": {
     "duration": 0.067039,
     "end_time": "2021-09-30T12:44:59.851493",
     "exception": false,
     "start_time": "2021-09-30T12:44:59.784454",
     "status": "completed"
    },
    "tags": []
   },
   "source": [
    "#### **According to the results of Mannwhitneyu Non-parametric Test (Purchase/Click):** \n",
    "* p-value > 0.05\n",
    "* This means that **we can not reject HO hypothesis**. \n",
    "* So, there is no statistically significant difference between \"Click/Impression\" rate of Control Group and Test Group."
   ]
  },
  {
   "cell_type": "markdown",
   "id": "e1e4bf2c",
   "metadata": {
    "papermill": {
     "duration": 0.067994,
     "end_time": "2021-09-30T12:44:59.986041",
     "exception": false,
     "start_time": "2021-09-30T12:44:59.918047",
     "status": "completed"
    },
    "tags": []
   },
   "source": [
    "### **2.6. Is there a significant difference on \"Purchase/Earning\" rate between Control Group and Test Group?** "
   ]
  },
  {
   "cell_type": "markdown",
   "id": "633f0ea5",
   "metadata": {
    "papermill": {
     "duration": 0.069115,
     "end_time": "2021-09-30T12:45:00.123124",
     "exception": false,
     "start_time": "2021-09-30T12:45:00.054009",
     "status": "completed"
    },
    "tags": []
   },
   "source": [
    "#### Purchase/Earning rate can give us an insight.  \n",
    "#### Purchase/Earning = (Number of products purchased after the ads clicked) / (Earnings after purchased products) "
   ]
  },
  {
   "cell_type": "code",
   "execution_count": 35,
   "id": "ce337007",
   "metadata": {
    "execution": {
     "iopub.execute_input": "2021-09-30T12:45:00.273037Z",
     "iopub.status.busy": "2021-09-30T12:45:00.272269Z",
     "iopub.status.idle": "2021-09-30T12:45:00.274901Z",
     "shell.execute_reply": "2021-09-30T12:45:00.275365Z",
     "shell.execute_reply.started": "2021-09-28T09:07:39.25971Z"
    },
    "papermill": {
     "duration": 0.084068,
     "end_time": "2021-09-30T12:45:00.275522",
     "exception": false,
     "start_time": "2021-09-30T12:45:00.191454",
     "status": "completed"
    },
    "tags": []
   },
   "outputs": [
    {
     "data": {
      "text/html": [
       "<div>\n",
       "<style scoped>\n",
       "    .dataframe tbody tr th:only-of-type {\n",
       "        vertical-align: middle;\n",
       "    }\n",
       "\n",
       "    .dataframe tbody tr th {\n",
       "        vertical-align: top;\n",
       "    }\n",
       "\n",
       "    .dataframe thead th {\n",
       "        text-align: right;\n",
       "    }\n",
       "</style>\n",
       "<table border=\"1\" class=\"dataframe\">\n",
       "  <thead>\n",
       "    <tr style=\"text-align: right;\">\n",
       "      <th></th>\n",
       "      <th>Impression</th>\n",
       "      <th>Click</th>\n",
       "      <th>Purchase</th>\n",
       "      <th>Earning</th>\n",
       "      <th>Click/Impression Rate</th>\n",
       "      <th>Purchase/Click Rate</th>\n",
       "      <th>Purchase/Earning Rate</th>\n",
       "    </tr>\n",
       "  </thead>\n",
       "  <tbody>\n",
       "    <tr>\n",
       "      <th>0</th>\n",
       "      <td>82529.45927</td>\n",
       "      <td>6090.07732</td>\n",
       "      <td>665.21125</td>\n",
       "      <td>2311.27714</td>\n",
       "      <td>0.07379</td>\n",
       "      <td>0.10923</td>\n",
       "      <td>0.28781</td>\n",
       "    </tr>\n",
       "    <tr>\n",
       "      <th>1</th>\n",
       "      <td>98050.45193</td>\n",
       "      <td>3382.86179</td>\n",
       "      <td>315.08489</td>\n",
       "      <td>1742.80686</td>\n",
       "      <td>0.03450</td>\n",
       "      <td>0.09314</td>\n",
       "      <td>0.18079</td>\n",
       "    </tr>\n",
       "    <tr>\n",
       "      <th>2</th>\n",
       "      <td>82696.02355</td>\n",
       "      <td>4167.96575</td>\n",
       "      <td>458.08374</td>\n",
       "      <td>1797.82745</td>\n",
       "      <td>0.05040</td>\n",
       "      <td>0.10991</td>\n",
       "      <td>0.25480</td>\n",
       "    </tr>\n",
       "    <tr>\n",
       "      <th>3</th>\n",
       "      <td>109914.40040</td>\n",
       "      <td>4910.88224</td>\n",
       "      <td>487.09077</td>\n",
       "      <td>1696.22918</td>\n",
       "      <td>0.04468</td>\n",
       "      <td>0.09919</td>\n",
       "      <td>0.28716</td>\n",
       "    </tr>\n",
       "    <tr>\n",
       "      <th>4</th>\n",
       "      <td>108457.76263</td>\n",
       "      <td>5987.65581</td>\n",
       "      <td>441.03405</td>\n",
       "      <td>1543.72018</td>\n",
       "      <td>0.05521</td>\n",
       "      <td>0.07366</td>\n",
       "      <td>0.28570</td>\n",
       "    </tr>\n",
       "  </tbody>\n",
       "</table>\n",
       "</div>"
      ],
      "text/plain": [
       "    Impression      Click  Purchase    Earning  Click/Impression Rate  \\\n",
       "0  82529.45927 6090.07732 665.21125 2311.27714                0.07379   \n",
       "1  98050.45193 3382.86179 315.08489 1742.80686                0.03450   \n",
       "2  82696.02355 4167.96575 458.08374 1797.82745                0.05040   \n",
       "3 109914.40040 4910.88224 487.09077 1696.22918                0.04468   \n",
       "4 108457.76263 5987.65581 441.03405 1543.72018                0.05521   \n",
       "\n",
       "   Purchase/Click Rate  Purchase/Earning Rate  \n",
       "0              0.10923                0.28781  \n",
       "1              0.09314                0.18079  \n",
       "2              0.10991                0.25480  \n",
       "3              0.09919                0.28716  \n",
       "4              0.07366                0.28570  "
      ]
     },
     "execution_count": 35,
     "metadata": {},
     "output_type": "execute_result"
    }
   ],
   "source": [
    "# Calculate \"Purchase/Earning\" rate for Control Group \n",
    "df_control[\"Purchase/Earning Rate\"] = df_control[\"Purchase\"]/df_control[\"Earning\"]\n",
    "df_control.head()"
   ]
  },
  {
   "cell_type": "code",
   "execution_count": 36,
   "id": "3cbd4187",
   "metadata": {
    "execution": {
     "iopub.execute_input": "2021-09-30T12:45:00.414853Z",
     "iopub.status.busy": "2021-09-30T12:45:00.414218Z",
     "iopub.status.idle": "2021-09-30T12:45:00.425668Z",
     "shell.execute_reply": "2021-09-30T12:45:00.426119Z",
     "shell.execute_reply.started": "2021-09-28T09:08:04.554452Z"
    },
    "papermill": {
     "duration": 0.082199,
     "end_time": "2021-09-30T12:45:00.426279",
     "exception": false,
     "start_time": "2021-09-30T12:45:00.344080",
     "status": "completed"
    },
    "tags": []
   },
   "outputs": [
    {
     "data": {
      "text/html": [
       "<div>\n",
       "<style scoped>\n",
       "    .dataframe tbody tr th:only-of-type {\n",
       "        vertical-align: middle;\n",
       "    }\n",
       "\n",
       "    .dataframe tbody tr th {\n",
       "        vertical-align: top;\n",
       "    }\n",
       "\n",
       "    .dataframe thead th {\n",
       "        text-align: right;\n",
       "    }\n",
       "</style>\n",
       "<table border=\"1\" class=\"dataframe\">\n",
       "  <thead>\n",
       "    <tr style=\"text-align: right;\">\n",
       "      <th></th>\n",
       "      <th>Impression</th>\n",
       "      <th>Click</th>\n",
       "      <th>Purchase</th>\n",
       "      <th>Earning</th>\n",
       "      <th>Click/Impression Rate</th>\n",
       "      <th>Purchase/Click Rate</th>\n",
       "      <th>Purchase/Earning Rate</th>\n",
       "    </tr>\n",
       "  </thead>\n",
       "  <tbody>\n",
       "    <tr>\n",
       "      <th>0</th>\n",
       "      <td>120103.50380</td>\n",
       "      <td>3216.54796</td>\n",
       "      <td>702.16035</td>\n",
       "      <td>1939.61124</td>\n",
       "      <td>0.02678</td>\n",
       "      <td>0.11530</td>\n",
       "      <td>0.30380</td>\n",
       "    </tr>\n",
       "    <tr>\n",
       "      <th>1</th>\n",
       "      <td>134775.94336</td>\n",
       "      <td>3635.08242</td>\n",
       "      <td>834.05429</td>\n",
       "      <td>2929.40582</td>\n",
       "      <td>0.02697</td>\n",
       "      <td>0.24655</td>\n",
       "      <td>0.47857</td>\n",
       "    </tr>\n",
       "    <tr>\n",
       "      <th>2</th>\n",
       "      <td>107806.62079</td>\n",
       "      <td>3057.14356</td>\n",
       "      <td>422.93426</td>\n",
       "      <td>2526.24488</td>\n",
       "      <td>0.02836</td>\n",
       "      <td>0.10147</td>\n",
       "      <td>0.23525</td>\n",
       "    </tr>\n",
       "    <tr>\n",
       "      <th>3</th>\n",
       "      <td>116445.27553</td>\n",
       "      <td>4650.47391</td>\n",
       "      <td>429.03353</td>\n",
       "      <td>2281.42857</td>\n",
       "      <td>0.03994</td>\n",
       "      <td>0.08736</td>\n",
       "      <td>0.25293</td>\n",
       "    </tr>\n",
       "    <tr>\n",
       "      <th>4</th>\n",
       "      <td>145082.51684</td>\n",
       "      <td>5201.38772</td>\n",
       "      <td>749.86044</td>\n",
       "      <td>2781.69752</td>\n",
       "      <td>0.03585</td>\n",
       "      <td>0.12523</td>\n",
       "      <td>0.48575</td>\n",
       "    </tr>\n",
       "  </tbody>\n",
       "</table>\n",
       "</div>"
      ],
      "text/plain": [
       "    Impression      Click  Purchase    Earning  Click/Impression Rate  \\\n",
       "0 120103.50380 3216.54796 702.16035 1939.61124                0.02678   \n",
       "1 134775.94336 3635.08242 834.05429 2929.40582                0.02697   \n",
       "2 107806.62079 3057.14356 422.93426 2526.24488                0.02836   \n",
       "3 116445.27553 4650.47391 429.03353 2281.42857                0.03994   \n",
       "4 145082.51684 5201.38772 749.86044 2781.69752                0.03585   \n",
       "\n",
       "   Purchase/Click Rate  Purchase/Earning Rate  \n",
       "0              0.11530                0.30380  \n",
       "1              0.24655                0.47857  \n",
       "2              0.10147                0.23525  \n",
       "3              0.08736                0.25293  \n",
       "4              0.12523                0.48575  "
      ]
     },
     "execution_count": 36,
     "metadata": {},
     "output_type": "execute_result"
    }
   ],
   "source": [
    "# Calculate \"Purchase/Earning\" rate for Test Group \n",
    "df_test[\"Purchase/Earning Rate\"] = df_test[\"Purchase\"]/df_control[\"Earning\"]\n",
    "df_test.head()"
   ]
  },
  {
   "cell_type": "code",
   "execution_count": 37,
   "id": "d9a2e17d",
   "metadata": {
    "execution": {
     "iopub.execute_input": "2021-09-30T12:45:00.568117Z",
     "iopub.status.busy": "2021-09-30T12:45:00.567493Z",
     "iopub.status.idle": "2021-09-30T12:45:00.574598Z",
     "shell.execute_reply": "2021-09-30T12:45:00.574029Z",
     "shell.execute_reply.started": "2021-09-28T09:08:35.571256Z"
    },
    "papermill": {
     "duration": 0.080265,
     "end_time": "2021-09-30T12:45:00.574725",
     "exception": false,
     "start_time": "2021-09-30T12:45:00.494460",
     "status": "completed"
    },
    "tags": []
   },
   "outputs": [
    {
     "data": {
      "text/plain": [
       "count   40.00000\n",
       "mean     0.29602\n",
       "std      0.08922\n",
       "min      0.14903\n",
       "25%      0.24493\n",
       "50%      0.28643\n",
       "75%      0.33707\n",
       "max      0.54754\n",
       "Name: Purchase/Earning Rate, dtype: float64"
      ]
     },
     "execution_count": 37,
     "metadata": {},
     "output_type": "execute_result"
    }
   ],
   "source": [
    "# Descriptive Statistics of \"Purchase/Earning Rate\" for Control Group\n",
    "df_control[\"Purchase/Earning Rate\"].describe().T"
   ]
  },
  {
   "cell_type": "code",
   "execution_count": 38,
   "id": "c007239a",
   "metadata": {
    "execution": {
     "iopub.execute_input": "2021-09-30T12:45:00.716592Z",
     "iopub.status.busy": "2021-09-30T12:45:00.716021Z",
     "iopub.status.idle": "2021-09-30T12:45:00.723537Z",
     "shell.execute_reply": "2021-09-30T12:45:00.724062Z",
     "shell.execute_reply.started": "2021-09-28T09:08:50.616765Z"
    },
    "papermill": {
     "duration": 0.0799,
     "end_time": "2021-09-30T12:45:00.724218",
     "exception": false,
     "start_time": "2021-09-30T12:45:00.644318",
     "status": "completed"
    },
    "tags": []
   },
   "outputs": [
    {
     "data": {
      "text/plain": [
       "count   40.00000\n",
       "mean     0.31291\n",
       "std      0.09858\n",
       "min      0.16927\n",
       "25%      0.23061\n",
       "50%      0.31323\n",
       "75%      0.40100\n",
       "max      0.48575\n",
       "Name: Purchase/Earning Rate, dtype: float64"
      ]
     },
     "execution_count": 38,
     "metadata": {},
     "output_type": "execute_result"
    }
   ],
   "source": [
    "# Descriptive Statistics of \"Purchase/Earning Rate\" for Test Group\n",
    "df_test[\"Purchase/Earning Rate\"].describe().T"
   ]
  },
  {
   "cell_type": "markdown",
   "id": "92e3cbd1",
   "metadata": {
    "papermill": {
     "duration": 0.069217,
     "end_time": "2021-09-30T12:45:00.862637",
     "exception": false,
     "start_time": "2021-09-30T12:45:00.793420",
     "status": "completed"
    },
    "tags": []
   },
   "source": [
    "#### **According to the results of Descriptive Statistics of \"Purchase/Earning\" rate:** \n",
    "* There are differences between Control Group and Test Group.\n",
    "* We need to test this in order to see whether there is a significant difference. "
   ]
  },
  {
   "cell_type": "markdown",
   "id": "37decc24",
   "metadata": {
    "papermill": {
     "duration": 0.069307,
     "end_time": "2021-09-30T12:45:01.000972",
     "exception": false,
     "start_time": "2021-09-30T12:45:00.931665",
     "status": "completed"
    },
    "tags": []
   },
   "source": [
    "#### **K. Test of Normality**\n",
    "#### H0: The assumption of normal distribution is provided.\n",
    "#### H1: The assumption of normal distribution is not provided."
   ]
  },
  {
   "cell_type": "code",
   "execution_count": 39,
   "id": "ce14cd39",
   "metadata": {
    "execution": {
     "iopub.execute_input": "2021-09-30T12:45:01.148114Z",
     "iopub.status.busy": "2021-09-30T12:45:01.147402Z",
     "iopub.status.idle": "2021-09-30T12:45:01.150704Z",
     "shell.execute_reply": "2021-09-30T12:45:01.150224Z",
     "shell.execute_reply.started": "2021-09-28T09:10:22.914322Z"
    },
    "papermill": {
     "duration": 0.079635,
     "end_time": "2021-09-30T12:45:01.150855",
     "exception": false,
     "start_time": "2021-09-30T12:45:01.071220",
     "status": "completed"
    },
    "tags": []
   },
   "outputs": [
    {
     "name": "stdout",
     "output_type": "stream",
     "text": [
      "Test Stat = 0.9547, p-value = 0.1099\n"
     ]
    }
   ],
   "source": [
    "# Test of Normality for Control Group (Purchase/Earning)\n",
    "test_stat, pvalue = shapiro(df_control[\"Purchase/Earning Rate\"])\n",
    "print('Test Stat = %.4f, p-value = %.4f' % (test_stat, pvalue))"
   ]
  },
  {
   "cell_type": "code",
   "execution_count": 40,
   "id": "4fcc8c29",
   "metadata": {
    "execution": {
     "iopub.execute_input": "2021-09-30T12:45:01.292679Z",
     "iopub.status.busy": "2021-09-30T12:45:01.291769Z",
     "iopub.status.idle": "2021-09-30T12:45:01.296241Z",
     "shell.execute_reply": "2021-09-30T12:45:01.296698Z",
     "shell.execute_reply.started": "2021-09-28T09:10:38.248105Z"
    },
    "papermill": {
     "duration": 0.077443,
     "end_time": "2021-09-30T12:45:01.296873",
     "exception": false,
     "start_time": "2021-09-30T12:45:01.219430",
     "status": "completed"
    },
    "tags": []
   },
   "outputs": [
    {
     "name": "stdout",
     "output_type": "stream",
     "text": [
      "Test Stat = 0.9428, p-value = 0.0430\n"
     ]
    }
   ],
   "source": [
    "# Test of Normality for Test Group (Purchase/Earning)\n",
    "test_stat, pvalue = shapiro(df_test[\"Purchase/Earning Rate\"])\n",
    "print('Test Stat = %.4f, p-value = %.4f' % (test_stat, pvalue))"
   ]
  },
  {
   "cell_type": "markdown",
   "id": "0efa97fb",
   "metadata": {
    "papermill": {
     "duration": 0.069638,
     "end_time": "2021-09-30T12:45:01.436535",
     "exception": false,
     "start_time": "2021-09-30T12:45:01.366897",
     "status": "completed"
    },
    "tags": []
   },
   "source": [
    "#### **According to the results of the Test of Normality (Purchase/Earning):** \n",
    "* p-value of Control Group > 0.05. This means that we can not reject HO hypothesis. \n",
    "* p-value of Test Group < 0.05. This means that we reject HO hypothesis.\n",
    "* So, the assumption of normal distribution is not provided (Both results should be the same(rejected/not-rejected)).\n",
    "* As the test of normality is not provided, we will skip the variance homogeneity test and continue with mannwhitneyu non-parametric test. "
   ]
  },
  {
   "cell_type": "markdown",
   "id": "e6f2ebc4",
   "metadata": {
    "papermill": {
     "duration": 0.070393,
     "end_time": "2021-09-30T12:45:01.578583",
     "exception": false,
     "start_time": "2021-09-30T12:45:01.508190",
     "status": "completed"
    },
    "tags": []
   },
   "source": [
    "#### **L. Mannwhitneyu Non-parametric Test**\n",
    "#### H0: M1 = M2 (There is no statistically significant difference between \"Purchase/Earning\" rate of Control Group and Test Group)\n",
    "#### H1: M1 != M2 (There is statistically significant difference between \"Purchase/Earning\" rate of Control Group and Test Group)"
   ]
  },
  {
   "cell_type": "code",
   "execution_count": 41,
   "id": "2da09dfa",
   "metadata": {
    "execution": {
     "iopub.execute_input": "2021-09-30T12:45:01.770572Z",
     "iopub.status.busy": "2021-09-30T12:45:01.766875Z",
     "iopub.status.idle": "2021-09-30T12:45:01.773171Z",
     "shell.execute_reply": "2021-09-30T12:45:01.773767Z",
     "shell.execute_reply.started": "2021-09-28T09:15:50.926246Z"
    },
    "papermill": {
     "duration": 0.124865,
     "end_time": "2021-09-30T12:45:01.773953",
     "exception": false,
     "start_time": "2021-09-30T12:45:01.649088",
     "status": "completed"
    },
    "tags": []
   },
   "outputs": [
    {
     "name": "stdout",
     "output_type": "stream",
     "text": [
      "Test Stat = 719.0000, p-value = 0.4386\n"
     ]
    }
   ],
   "source": [
    "# Mannwhitneyu Non-parametric Test (Purchase/Earning)\n",
    "test_stat, pvalue = mannwhitneyu(df_control[\"Purchase/Earning Rate\"],\n",
    "                                 df_test[\"Purchase/Earning Rate\"])\n",
    "\n",
    "print('Test Stat = %.4f, p-value = %.4f' % (test_stat, pvalue))"
   ]
  },
  {
   "cell_type": "markdown",
   "id": "5e5051db",
   "metadata": {
    "papermill": {
     "duration": 0.069232,
     "end_time": "2021-09-30T12:45:01.913955",
     "exception": false,
     "start_time": "2021-09-30T12:45:01.844723",
     "status": "completed"
    },
    "tags": []
   },
   "source": [
    "#### **According to the results of Mannwhitneyu Non-parametric Test (Purchase/Earning):** \n",
    "* p-value > 0.05\n",
    "* This means that **we can not reject HO hypothesis**. \n",
    "* So, there is no statistically significant difference between \"Click/Impression\" rate of Control Group and Test Group."
   ]
  },
  {
   "cell_type": "markdown",
   "id": "d3ad3bf8",
   "metadata": {
    "papermill": {
     "duration": 0.070205,
     "end_time": "2021-09-30T12:45:02.053826",
     "exception": false,
     "start_time": "2021-09-30T12:45:01.983621",
     "status": "completed"
    },
    "tags": []
   },
   "source": [
    "### **3. SUMMARY OF THE TEST RESULTS**\n",
    "### In this project I asked 6 questions and implement A/B Testing for each of them. Let's the see results:\n",
    "\n",
    "#### 1. Is there a significant difference on \"Click\" values between Control Group (max.bidding) and Test Group (avg.bidding)? \n",
    "####      *- YES. It was so clear from the descriptive statistics that we didn't need to test this.*   \n",
    "#### 2. Is there a significant difference on \"Click/Impression\" rate between Control Group (max.bidding) and Test Group (avg.bidding)? \n",
    "####      *- YES. (Mannwhitneyu Test) Control Group has higher values.* \n",
    "#### 3. Is there a significant difference between the means of \"Purchase\" of Control Group (max.bidding) and Test Group (avg.bidding)? \n",
    "####      *- NO. (Independent Two-Sample T-Test)*\n",
    "#### 4. Is there a significant difference on \"Earning\" values between Control Group (max.bidding) and Test Group (avg.bidding)? \n",
    "####      *- YES. (Independent Two-Sample T-Test) Test Group has higher values.*\n",
    "#### 5. Is there a significant difference on \"Purchase/Click\" rate between Control Group (max.bidding) and Test Group (avg.bidding)?\n",
    "####      *- NO. (Mannwhitneyu Test)*\n",
    "#### 6. Is there a significant difference on \"Purchase/Earning\" rate between Control Group (max.bidding) and Test Group (avg.bidding)?\n",
    "####      *- NO. (Mannwhitneyu Test)*\n",
    "\n",
    "#### (We have 3 \"YES\" and 3 \"NO\". It is difficult to decide :))"
   ]
  },
  {
   "cell_type": "markdown",
   "id": "c7acaad3",
   "metadata": {
    "papermill": {
     "duration": 0.070573,
     "end_time": "2021-09-30T12:45:02.195641",
     "exception": false,
     "start_time": "2021-09-30T12:45:02.125068",
     "status": "completed"
    },
    "tags": []
   },
   "source": [
    "### **4. RECOMMENDATIONS TO THE CUSTOMER**"
   ]
  },
  {
   "cell_type": "markdown",
   "id": "1e83dcdc",
   "metadata": {
    "papermill": {
     "duration": 0.070513,
     "end_time": "2021-09-30T12:45:02.337159",
     "exception": false,
     "start_time": "2021-09-30T12:45:02.266646",
     "status": "completed"
    },
    "tags": []
   },
   "source": [
    "#### The aim of this project was to gain insight in order to decide which bidding style to use for more revenue. \n",
    "#### * When we consider \"Click\", \"Click/Impression\" and \"Earning\" values, there is a significant difference between maximum bidding and average bidding. \n",
    "#### * However, when we consider \"Purchase\", \"Purchase/Click\" and \"Purchase/Earning\" values, there is no significant difference between maximum bidding and average bidding. \n",
    "#### * As our aim is to increase our revenues, \"Purchase\", \"Purchase/Click\" and \"Purchase/Earning\" are more important for us rather than \"Click\", \"Click/Impression\" and \"Earning\".  \n",
    "#### * As a consequence, there is no need to change the bidding style for now. It is better to keep in our mind that more observation can give more insight. So, I suggest that we analyse the situation 3 months later and re-evalute the results accordingly. "
   ]
  },
  {
   "cell_type": "markdown",
   "id": "170e023e",
   "metadata": {
    "papermill": {
     "duration": 0.081223,
     "end_time": "2021-09-30T12:45:02.489142",
     "exception": false,
     "start_time": "2021-09-30T12:45:02.407919",
     "status": "completed"
    },
    "tags": []
   },
   "source": [
    "### **5. REFERENCES**\n",
    "#### Data Science and Machine Learning Boot Camp, 2021 (https://www.veribilimiokulu.com/) \n",
    "#### Special thanks to our instructor and mentors, namely: \n",
    "* Mr. Vahit Keskin \n",
    "* Mr. Mehmet Aktürk\n",
    "* Ms. Özlem İlgün Çağırıcı\n",
    "* Ms. Hatice Ebrar Alıcı\n",
    "* Mr. Arif Eker"
   ]
  }
 ],
 "metadata": {
  "kernelspec": {
   "display_name": "Python 3",
   "language": "python",
   "name": "python3"
  },
  "language_info": {
   "codemirror_mode": {
    "name": "ipython",
    "version": 3
   },
   "file_extension": ".py",
   "mimetype": "text/x-python",
   "name": "python",
   "nbconvert_exporter": "python",
   "pygments_lexer": "ipython3",
   "version": "3.7.10"
  },
  "papermill": {
   "default_parameters": {},
   "duration": 32.883803,
   "end_time": "2021-09-30T12:45:04.108151",
   "environment_variables": {},
   "exception": null,
   "input_path": "__notebook__.ipynb",
   "output_path": "__notebook__.ipynb",
   "parameters": {},
   "start_time": "2021-09-30T12:44:31.224348",
   "version": "2.3.3"
  }
 },
 "nbformat": 4,
 "nbformat_minor": 5
}
