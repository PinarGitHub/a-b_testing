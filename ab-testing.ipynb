{
 "cells": [
  {
   "cell_type": "markdown",
   "id": "87940ad9",
   "metadata": {
    "_cell_guid": "b1076dfc-b9ad-4769-8c92-a6c4dae69d19",
    "_uuid": "8f2839f25d086af736a60e9eeb907d3b93b6e0e5",
    "execution": {
     "iopub.execute_input": "2021-09-27T18:25:49.166216Z",
     "iopub.status.busy": "2021-09-27T18:25:49.165517Z",
     "iopub.status.idle": "2021-09-27T18:25:49.186755Z",
     "shell.execute_reply": "2021-09-27T18:25:49.185765Z",
     "shell.execute_reply.started": "2021-09-27T18:25:49.16611Z"
    },
    "papermill": {
     "duration": 0.04604,
     "end_time": "2021-09-28T09:53:49.631534",
     "exception": false,
     "start_time": "2021-09-28T09:53:49.585494",
     "status": "completed"
    },
    "tags": []
   },
   "source": [
    "# **AB TESTING PROJECT**"
   ]
  },
  {
   "cell_type": "markdown",
   "id": "dd6f9772",
   "metadata": {
    "papermill": {
     "duration": 0.040053,
     "end_time": "2021-09-28T09:53:49.713747",
     "exception": false,
     "start_time": "2021-09-28T09:53:49.673694",
     "status": "completed"
    },
    "tags": []
   },
   "source": [
    "### **BUSINESS PROBLEM**:  A social media  company recently introduced a new type of bidding ,average bidding, as an alternative to existing maximum bidding. One of our customers decided to test this new feature and wants to implement A/B Test in order to see whether average bidding brings more revenue than maximum bidding.  \n",
    "\n",
    "### **STORY OF THE DATASET**: In \"ab_testing.xlsx\" dataset, which includes website information of the customer, there is information such as the number of advertisements that users see and click, as well as earnings information from here.\n",
    "\n",
    "### We have two groups in the dataset as control group and test group\n",
    "\n",
    "### **ATTRIBUTES**:\n",
    "\n",
    "#### - Impression: Number of ad views\n",
    "#### - Click: Indicates the number of clicks on the displayed ad\n",
    "#### - Purchase: Indicates the number of products purchased after the ads clicked\n",
    "#### - Earning: Earnings after purchased products"
   ]
  },
  {
   "cell_type": "code",
   "execution_count": 1,
   "id": "52c7cc0f",
   "metadata": {
    "execution": {
     "iopub.execute_input": "2021-09-28T09:53:49.808520Z",
     "iopub.status.busy": "2021-09-28T09:53:49.807678Z",
     "iopub.status.idle": "2021-09-28T09:53:49.819148Z",
     "shell.execute_reply": "2021-09-28T09:53:49.819841Z",
     "shell.execute_reply.started": "2021-09-28T09:38:59.444669Z"
    },
    "papermill": {
     "duration": 0.065886,
     "end_time": "2021-09-28T09:53:49.820206",
     "exception": false,
     "start_time": "2021-09-28T09:53:49.754320",
     "status": "completed"
    },
    "tags": []
   },
   "outputs": [
    {
     "name": "stdout",
     "output_type": "stream",
     "text": [
      "/kaggle/input/ab-testingxlsx/ab_testing.xlsx\n"
     ]
    }
   ],
   "source": [
    "# This Python 3 environment comes with many helpful analytics libraries installed\n",
    "# It is defined by the kaggle/python Docker image: https://github.com/kaggle/docker-python\n",
    "# For example, here's several helpful packages to load\n",
    "\n",
    "import numpy as np # linear algebra\n",
    "import pandas as pd # data processing, CSV file I/O (e.g. pd.read_csv)\n",
    "\n",
    "# Input data files are available in the read-only \"../input/\" directory\n",
    "# For example, running this (by clicking run or pressing Shift+Enter) will list all files under the input directory\n",
    "\n",
    "import os\n",
    "for dirname, _, filenames in os.walk('/kaggle/input'):\n",
    "    for filename in filenames:\n",
    "        print(os.path.join(dirname, filename))\n",
    "\n",
    "# You can write up to 20GB to the current directory (/kaggle/working/) that gets preserved as output when you create a version using \"Save & Run All\" \n",
    "# You can also write temporary files to /kaggle/temp/, but they won't be saved outside of the current session"
   ]
  },
  {
   "cell_type": "markdown",
   "id": "371f9f7b",
   "metadata": {
    "papermill": {
     "duration": 0.040358,
     "end_time": "2021-09-28T09:53:49.903091",
     "exception": false,
     "start_time": "2021-09-28T09:53:49.862733",
     "status": "completed"
    },
    "tags": []
   },
   "source": [
    "## **1. LOAD AND CHECK DATA SET** "
   ]
  },
  {
   "cell_type": "code",
   "execution_count": 2,
   "id": "122b3356",
   "metadata": {
    "execution": {
     "iopub.execute_input": "2021-09-28T09:53:49.988199Z",
     "iopub.status.busy": "2021-09-28T09:53:49.987612Z",
     "iopub.status.idle": "2021-09-28T09:53:59.581658Z",
     "shell.execute_reply": "2021-09-28T09:53:59.581126Z",
     "shell.execute_reply.started": "2021-09-28T08:35:33.512465Z"
    },
    "papermill": {
     "duration": 9.637589,
     "end_time": "2021-09-28T09:53:59.581815",
     "exception": false,
     "start_time": "2021-09-28T09:53:49.944226",
     "status": "completed"
    },
    "tags": []
   },
   "outputs": [
    {
     "name": "stdout",
     "output_type": "stream",
     "text": [
      "Collecting openpyxl\r\n",
      "  Downloading openpyxl-3.0.9-py2.py3-none-any.whl (242 kB)\r\n",
      "\u001b[K     |████████████████████████████████| 242 kB 596 kB/s \r\n",
      "\u001b[?25hCollecting et-xmlfile\r\n",
      "  Downloading et_xmlfile-1.1.0-py3-none-any.whl (4.7 kB)\r\n",
      "Installing collected packages: et-xmlfile, openpyxl\r\n",
      "Successfully installed et-xmlfile-1.1.0 openpyxl-3.0.9\r\n",
      "\u001b[33mWARNING: Running pip as the 'root' user can result in broken permissions and conflicting behaviour with the system package manager. It is recommended to use a virtual environment instead: https://pip.pypa.io/warnings/venv\u001b[0m\r\n"
     ]
    }
   ],
   "source": [
    "# Let's load the data set \n",
    "import pandas as pd\n",
    "!pip install openpyxl\n",
    "df_control = pd.read_excel(\"../input/ab-testingxlsx/ab_testing.xlsx\", sheet_name = \"Control Group\")\n",
    "df_test = pd.read_excel(\"../input/ab-testingxlsx/ab_testing.xlsx\", sheet_name = \"Test Group\")"
   ]
  },
  {
   "cell_type": "code",
   "execution_count": 3,
   "id": "afd55711",
   "metadata": {
    "execution": {
     "iopub.execute_input": "2021-09-28T09:53:59.674885Z",
     "iopub.status.busy": "2021-09-28T09:53:59.674149Z",
     "iopub.status.idle": "2021-09-28T09:54:00.703832Z",
     "shell.execute_reply": "2021-09-28T09:54:00.704339Z",
     "shell.execute_reply.started": "2021-09-28T08:35:47.612247Z"
    },
    "papermill": {
     "duration": 1.078977,
     "end_time": "2021-09-28T09:54:00.704511",
     "exception": false,
     "start_time": "2021-09-28T09:53:59.625534",
     "status": "completed"
    },
    "tags": []
   },
   "outputs": [],
   "source": [
    "# Make necessary adjustments for the representation of the dataset\n",
    "import itertools\n",
    "import numpy as np\n",
    "import matplotlib.pyplot as plt\n",
    "import seaborn as sns\n",
    "import statsmodels.stats.api as sms\n",
    "from scipy.stats import ttest_1samp, shapiro, levene, ttest_ind, mannwhitneyu\n",
    "from statsmodels.stats.proportion import proportions_ztest\n",
    "\n",
    "pd.set_option('display.max_columns', None)\n",
    "pd.set_option('display.max_rows', 10)\n",
    "pd.set_option('display.float_format', lambda x: '%.5f' % x)"
   ]
  },
  {
   "cell_type": "code",
   "execution_count": 4,
   "id": "41819981",
   "metadata": {
    "execution": {
     "iopub.execute_input": "2021-09-28T09:54:00.798249Z",
     "iopub.status.busy": "2021-09-28T09:54:00.797609Z",
     "iopub.status.idle": "2021-09-28T09:54:00.799343Z",
     "shell.execute_reply": "2021-09-28T09:54:00.799843Z",
     "shell.execute_reply.started": "2021-09-28T08:35:50.499439Z"
    },
    "papermill": {
     "duration": 0.050867,
     "end_time": "2021-09-28T09:54:00.800005",
     "exception": false,
     "start_time": "2021-09-28T09:54:00.749138",
     "status": "completed"
    },
    "tags": []
   },
   "outputs": [],
   "source": [
    "# In order to check Control Group and Test Group \n",
    "def check_df(dataframe):\n",
    "    \"\"\"\n",
    "    This function prints \"shape, types, head, NA values and quantiles\" for a given dataframe. \n",
    "    \n",
    "    Parameters\n",
    "    ----------\n",
    "    dataframe: dataframe\n",
    "        Given dataframe for which \"shape, types, head, NA values and quantiles\" will be shown. \n",
    "    \n",
    "    \n",
    "    Returns\n",
    "    -------\n",
    "    None\n",
    "        \n",
    "    \"\"\"\n",
    "    print(f\"\"\"\n",
    "        ##################### Shape #####################\\n\\n\\t{dataframe.shape}\\n\\n\n",
    "        ##################### Types #####################\\n\\n{dataframe.dtypes}\\n\\n\n",
    "        ##################### Head #####################\\n\\n{dataframe.head(3)}\\n\\n\n",
    "        ##################### NA #####################\\n\\n{dataframe.isnull().sum()}\\n\\n\n",
    "        ##################### Quantiles #####################\\n\\n{dataframe.quantile([0, 0.05, 0.25, 0.50, 0.75, 0.95, 0.99, 1]).T}\\n\\n\"\"\")\n"
   ]
  },
  {
   "cell_type": "code",
   "execution_count": 5,
   "id": "006ae387",
   "metadata": {
    "execution": {
     "iopub.execute_input": "2021-09-28T09:54:00.890433Z",
     "iopub.status.busy": "2021-09-28T09:54:00.889844Z",
     "iopub.status.idle": "2021-09-28T09:54:00.912962Z",
     "shell.execute_reply": "2021-09-28T09:54:00.912362Z",
     "shell.execute_reply.started": "2021-09-28T08:35:51.847443Z"
    },
    "papermill": {
     "duration": 0.069579,
     "end_time": "2021-09-28T09:54:00.913104",
     "exception": false,
     "start_time": "2021-09-28T09:54:00.843525",
     "status": "completed"
    },
    "tags": []
   },
   "outputs": [
    {
     "name": "stdout",
     "output_type": "stream",
     "text": [
      "\n",
      "        ##################### Shape #####################\n",
      "\n",
      "\t(40, 4)\n",
      "\n",
      "\n",
      "        ##################### Types #####################\n",
      "\n",
      "Impression    float64\n",
      "Click         float64\n",
      "Purchase      float64\n",
      "Earning       float64\n",
      "dtype: object\n",
      "\n",
      "\n",
      "        ##################### Head #####################\n",
      "\n",
      "   Impression      Click  Purchase    Earning\n",
      "0 82529.45927 6090.07732 665.21125 2311.27714\n",
      "1 98050.45193 3382.86179 315.08489 1742.80686\n",
      "2 82696.02355 4167.96575 458.08374 1797.82745\n",
      "\n",
      "\n",
      "        ##################### NA #####################\n",
      "\n",
      "Impression    0\n",
      "Click         0\n",
      "Purchase      0\n",
      "Earning       0\n",
      "dtype: int64\n",
      "\n",
      "\n",
      "        ##################### Quantiles #####################\n",
      "\n",
      "               0.00000     0.05000     0.25000     0.50000      0.75000  \\\n",
      "Impression 45475.94296 79412.01792 85726.69035 99790.70108 115212.81654   \n",
      "Click       2189.75316  3367.48426  4124.30413  5001.22060   5923.80360   \n",
      "Purchase     267.02894   328.66242   470.09553   531.20631    637.95709   \n",
      "Earning     1253.98952  1329.57708  1685.84720  1975.16052   2119.80278   \n",
      "\n",
      "                0.95000      0.99000      1.00000  \n",
      "Impression 132950.53245 143105.79110 147539.33633  \n",
      "Click        7374.36120   7761.79511   7959.12507  \n",
      "Purchase      748.27076    790.18779    801.79502  \n",
      "Earning      2318.52850   2481.30874   2497.29522  \n",
      "\n",
      "\n"
     ]
    }
   ],
   "source": [
    "# Review Control Group\n",
    "check_df(df_control)"
   ]
  },
  {
   "cell_type": "code",
   "execution_count": 6,
   "id": "7fab55bb",
   "metadata": {
    "execution": {
     "iopub.execute_input": "2021-09-28T09:54:01.009262Z",
     "iopub.status.busy": "2021-09-28T09:54:01.008668Z",
     "iopub.status.idle": "2021-09-28T09:54:01.017350Z",
     "shell.execute_reply": "2021-09-28T09:54:01.016793Z",
     "shell.execute_reply.started": "2021-09-28T08:35:52.687674Z"
    },
    "papermill": {
     "duration": 0.059844,
     "end_time": "2021-09-28T09:54:01.017490",
     "exception": false,
     "start_time": "2021-09-28T09:54:00.957646",
     "status": "completed"
    },
    "tags": []
   },
   "outputs": [
    {
     "name": "stdout",
     "output_type": "stream",
     "text": [
      "\n",
      "        ##################### Shape #####################\n",
      "\n",
      "\t(40, 4)\n",
      "\n",
      "\n",
      "        ##################### Types #####################\n",
      "\n",
      "Impression    float64\n",
      "Click         float64\n",
      "Purchase      float64\n",
      "Earning       float64\n",
      "dtype: object\n",
      "\n",
      "\n",
      "        ##################### Head #####################\n",
      "\n",
      "    Impression      Click  Purchase    Earning\n",
      "0 120103.50380 3216.54796 702.16035 1939.61124\n",
      "1 134775.94336 3635.08242 834.05429 2929.40582\n",
      "2 107806.62079 3057.14356 422.93426 2526.24488\n",
      "\n",
      "\n",
      "        ##################### NA #####################\n",
      "\n",
      "Impression    0\n",
      "Click         0\n",
      "Purchase      0\n",
      "Earning       0\n",
      "dtype: int64\n",
      "\n",
      "\n",
      "        ##################### Quantiles #####################\n",
      "\n",
      "               0.00000     0.05000      0.25000      0.50000      0.75000  \\\n",
      "Impression 79033.83492 83150.50378 112691.97077 119291.30077 132050.57893   \n",
      "Click       1836.62986  2600.36102   3376.81902   3931.35980   4660.49791   \n",
      "Purchase     311.62952   356.69540    444.62683    551.35573    699.86236   \n",
      "Earning     1939.61124  2080.97621   2280.53743   2544.66611   2761.54540   \n",
      "\n",
      "                0.95000      0.99000      1.00000  \n",
      "Impression 153178.69106 158245.26380 158605.92048  \n",
      "Click        5271.18691   6012.87730   6019.69508  \n",
      "Purchase      854.20895    876.57610    889.91046  \n",
      "Earning      2931.31145   3091.94089   3171.48971  \n",
      "\n",
      "\n"
     ]
    }
   ],
   "source": [
    "# Review Test Group\n",
    "check_df(df_test)"
   ]
  },
  {
   "cell_type": "markdown",
   "id": "8a17b8de",
   "metadata": {
    "papermill": {
     "duration": 0.043864,
     "end_time": "2021-09-28T09:54:01.105646",
     "exception": false,
     "start_time": "2021-09-28T09:54:01.061782",
     "status": "completed"
    },
    "tags": []
   },
   "source": [
    "## **2: DEFINE THE HYPOTHESIS FOR A/B TESTING AND IMPLEMENT RELEVANT TESTS**"
   ]
  },
  {
   "cell_type": "markdown",
   "id": "74080a34",
   "metadata": {
    "papermill": {
     "duration": 0.044351,
     "end_time": "2021-09-28T09:54:01.194527",
     "exception": false,
     "start_time": "2021-09-28T09:54:01.150176",
     "status": "completed"
    },
    "tags": []
   },
   "source": [
    "#### **Remember the Business Problem**:  A social media company recently introduced a new type of bidding ,average bidding, as an alternative to existing maximum bidding. One of our customers decided to test this new feature and wants to implement A/B Test in order to see whether average bidding brings more revenue than maximum bidding.  \n",
    "\n",
    "#### In order to solve this business problem, we can check different variables or create new features to examine the difference between existing bidding sytle and new bidding style.\n",
    "\n",
    "#### According to our dataset;   \n",
    " * Control Group represents the existing bidding style which is \"maximum bidding\"\n",
    " * Test Group represent the new bidding style which is \"average bidding\"\n",
    "\n",
    "#### Considering the variables we see in Control Group and Test Group, let's think about below questions which can gives us insights: \n",
    "* Is there a significant difference on \"Click\" values between Control Group (max.bidding) and Test Group (avg.bidding)? \n",
    "* Is there a significant difference on \"Click/Impression\" rate between Control Group (max.bidding) and Test Group (avg.bidding)? \n",
    "* Is there a significant difference on \"Purchase\" values between Control Group (max.bidding) and Test Group (avg.bidding)? \n",
    "* Is there a significant difference on \"Earning\" values between Control Group (max.bidding) and Test Group (avg.bidding)? \n",
    "* Is there a significant difference on \"Purchase/Click\" rate between Control Group (max.bidding) and Test Group (avg.bidding)?\n",
    "* Is there a significant difference on \"Purchase/Earning\" rate between Control Group (max.bidding) and Test Group (avg.bidding)?"
   ]
  },
  {
   "cell_type": "markdown",
   "id": "4bf46040",
   "metadata": {
    "papermill": {
     "duration": 0.044111,
     "end_time": "2021-09-28T09:54:01.283140",
     "exception": false,
     "start_time": "2021-09-28T09:54:01.239029",
     "status": "completed"
    },
    "tags": []
   },
   "source": [
    "### **2.1. Is there a significant difference on \"Click\" values between Control Group and Test Group?**"
   ]
  },
  {
   "cell_type": "code",
   "execution_count": 7,
   "id": "48065185",
   "metadata": {
    "execution": {
     "iopub.execute_input": "2021-09-28T09:54:01.375232Z",
     "iopub.status.busy": "2021-09-28T09:54:01.374661Z",
     "iopub.status.idle": "2021-09-28T09:54:01.388189Z",
     "shell.execute_reply": "2021-09-28T09:54:01.388651Z",
     "shell.execute_reply.started": "2021-09-28T08:35:56.270410Z"
    },
    "papermill": {
     "duration": 0.060788,
     "end_time": "2021-09-28T09:54:01.388812",
     "exception": false,
     "start_time": "2021-09-28T09:54:01.328024",
     "status": "completed"
    },
    "tags": []
   },
   "outputs": [
    {
     "data": {
      "text/plain": [
       "count     40.00000\n",
       "mean    5100.65737\n",
       "std     1329.98550\n",
       "min     2189.75316\n",
       "25%     4124.30413\n",
       "50%     5001.22060\n",
       "75%     5923.80360\n",
       "max     7959.12507\n",
       "Name: Click, dtype: float64"
      ]
     },
     "execution_count": 7,
     "metadata": {},
     "output_type": "execute_result"
    }
   ],
   "source": [
    "df_control[\"Click\"].describe().T"
   ]
  },
  {
   "cell_type": "code",
   "execution_count": 8,
   "id": "2368efaf",
   "metadata": {
    "execution": {
     "iopub.execute_input": "2021-09-28T09:54:01.485082Z",
     "iopub.status.busy": "2021-09-28T09:54:01.484454Z",
     "iopub.status.idle": "2021-09-28T09:54:01.487069Z",
     "shell.execute_reply": "2021-09-28T09:54:01.487486Z",
     "shell.execute_reply.started": "2021-09-28T08:35:57.052288Z"
    },
    "papermill": {
     "duration": 0.054816,
     "end_time": "2021-09-28T09:54:01.487662",
     "exception": false,
     "start_time": "2021-09-28T09:54:01.432846",
     "status": "completed"
    },
    "tags": []
   },
   "outputs": [
    {
     "data": {
      "text/plain": [
       "count     40.00000\n",
       "mean    3967.54976\n",
       "std      923.09507\n",
       "min     1836.62986\n",
       "25%     3376.81902\n",
       "50%     3931.35980\n",
       "75%     4660.49791\n",
       "max     6019.69508\n",
       "Name: Click, dtype: float64"
      ]
     },
     "execution_count": 8,
     "metadata": {},
     "output_type": "execute_result"
    }
   ],
   "source": [
    "df_test[\"Click\"].describe().T"
   ]
  },
  {
   "cell_type": "markdown",
   "id": "8b23c464",
   "metadata": {
    "execution": {
     "iopub.execute_input": "2021-09-27T18:40:23.9946Z",
     "iopub.status.busy": "2021-09-27T18:40:23.994199Z",
     "iopub.status.idle": "2021-09-27T18:40:24.000081Z",
     "shell.execute_reply": "2021-09-27T18:40:23.998867Z",
     "shell.execute_reply.started": "2021-09-27T18:40:23.994569Z"
    },
    "papermill": {
     "duration": 0.043922,
     "end_time": "2021-09-28T09:54:01.575840",
     "exception": false,
     "start_time": "2021-09-28T09:54:01.531918",
     "status": "completed"
    },
    "tags": []
   },
   "source": [
    "#### As seen from the Descriptive Statistics of Control Group and Test Group, \n",
    "* There is a clear difference between \"Click\" values of Control Group (Please see min, max, 50%, mean values) and \"Click\" values of Test Group. \n",
    "* There is no need for testing this situation. \n",
    "\n",
    "#### \"Click\" values of Control Group (max.bidding) is higher than Test Group (avg.bidding).\n",
    "\n",
    "#### **NOTE:** Examining only \"Click\" values will not give us a sufficient result. So, we will continue with other questions. "
   ]
  },
  {
   "cell_type": "markdown",
   "id": "13a837e8",
   "metadata": {
    "papermill": {
     "duration": 0.045938,
     "end_time": "2021-09-28T09:54:01.665891",
     "exception": false,
     "start_time": "2021-09-28T09:54:01.619953",
     "status": "completed"
    },
    "tags": []
   },
   "source": [
    "### **2.2. Is there a significant difference on \"Click/Impression\" rate between Control Group and Test Group?** "
   ]
  },
  {
   "cell_type": "markdown",
   "id": "719d8051",
   "metadata": {
    "papermill": {
     "duration": 0.044746,
     "end_time": "2021-09-28T09:54:01.755935",
     "exception": false,
     "start_time": "2021-09-28T09:54:01.711189",
     "status": "completed"
    },
    "tags": []
   },
   "source": [
    "#### Click/Impression rate is important for us.  \n",
    "#### Click/Impression = (number of clicks on the displayed ad) / (Number of ad views)"
   ]
  },
  {
   "cell_type": "code",
   "execution_count": 9,
   "id": "6873594c",
   "metadata": {
    "execution": {
     "iopub.execute_input": "2021-09-28T09:54:01.849693Z",
     "iopub.status.busy": "2021-09-28T09:54:01.849109Z",
     "iopub.status.idle": "2021-09-28T09:54:01.862916Z",
     "shell.execute_reply": "2021-09-28T09:54:01.862377Z",
     "shell.execute_reply.started": "2021-09-28T08:36:10.288683Z"
    },
    "papermill": {
     "duration": 0.062067,
     "end_time": "2021-09-28T09:54:01.863052",
     "exception": false,
     "start_time": "2021-09-28T09:54:01.800985",
     "status": "completed"
    },
    "tags": []
   },
   "outputs": [
    {
     "data": {
      "text/html": [
       "<div>\n",
       "<style scoped>\n",
       "    .dataframe tbody tr th:only-of-type {\n",
       "        vertical-align: middle;\n",
       "    }\n",
       "\n",
       "    .dataframe tbody tr th {\n",
       "        vertical-align: top;\n",
       "    }\n",
       "\n",
       "    .dataframe thead th {\n",
       "        text-align: right;\n",
       "    }\n",
       "</style>\n",
       "<table border=\"1\" class=\"dataframe\">\n",
       "  <thead>\n",
       "    <tr style=\"text-align: right;\">\n",
       "      <th></th>\n",
       "      <th>Impression</th>\n",
       "      <th>Click</th>\n",
       "      <th>Purchase</th>\n",
       "      <th>Earning</th>\n",
       "      <th>Click/Impression Rate</th>\n",
       "    </tr>\n",
       "  </thead>\n",
       "  <tbody>\n",
       "    <tr>\n",
       "      <th>0</th>\n",
       "      <td>82529.45927</td>\n",
       "      <td>6090.07732</td>\n",
       "      <td>665.21125</td>\n",
       "      <td>2311.27714</td>\n",
       "      <td>0.07379</td>\n",
       "    </tr>\n",
       "    <tr>\n",
       "      <th>1</th>\n",
       "      <td>98050.45193</td>\n",
       "      <td>3382.86179</td>\n",
       "      <td>315.08489</td>\n",
       "      <td>1742.80686</td>\n",
       "      <td>0.03450</td>\n",
       "    </tr>\n",
       "    <tr>\n",
       "      <th>2</th>\n",
       "      <td>82696.02355</td>\n",
       "      <td>4167.96575</td>\n",
       "      <td>458.08374</td>\n",
       "      <td>1797.82745</td>\n",
       "      <td>0.05040</td>\n",
       "    </tr>\n",
       "    <tr>\n",
       "      <th>3</th>\n",
       "      <td>109914.40040</td>\n",
       "      <td>4910.88224</td>\n",
       "      <td>487.09077</td>\n",
       "      <td>1696.22918</td>\n",
       "      <td>0.04468</td>\n",
       "    </tr>\n",
       "    <tr>\n",
       "      <th>4</th>\n",
       "      <td>108457.76263</td>\n",
       "      <td>5987.65581</td>\n",
       "      <td>441.03405</td>\n",
       "      <td>1543.72018</td>\n",
       "      <td>0.05521</td>\n",
       "    </tr>\n",
       "  </tbody>\n",
       "</table>\n",
       "</div>"
      ],
      "text/plain": [
       "    Impression      Click  Purchase    Earning  Click/Impression Rate\n",
       "0  82529.45927 6090.07732 665.21125 2311.27714                0.07379\n",
       "1  98050.45193 3382.86179 315.08489 1742.80686                0.03450\n",
       "2  82696.02355 4167.96575 458.08374 1797.82745                0.05040\n",
       "3 109914.40040 4910.88224 487.09077 1696.22918                0.04468\n",
       "4 108457.76263 5987.65581 441.03405 1543.72018                0.05521"
      ]
     },
     "execution_count": 9,
     "metadata": {},
     "output_type": "execute_result"
    }
   ],
   "source": [
    "# Calculate \"Click/Impression\" rate for Control Group \n",
    "df_control[\"Click/Impression Rate\"] = df_control[\"Click\"]/df_control[\"Impression\"]\n",
    "df_control.head()"
   ]
  },
  {
   "cell_type": "code",
   "execution_count": 10,
   "id": "9304d198",
   "metadata": {
    "execution": {
     "iopub.execute_input": "2021-09-28T09:54:01.961227Z",
     "iopub.status.busy": "2021-09-28T09:54:01.956676Z",
     "iopub.status.idle": "2021-09-28T09:54:01.967464Z",
     "shell.execute_reply": "2021-09-28T09:54:01.967042Z",
     "shell.execute_reply.started": "2021-09-28T08:36:11.272689Z"
    },
    "papermill": {
     "duration": 0.05959,
     "end_time": "2021-09-28T09:54:01.967608",
     "exception": false,
     "start_time": "2021-09-28T09:54:01.908018",
     "status": "completed"
    },
    "tags": []
   },
   "outputs": [
    {
     "data": {
      "text/html": [
       "<div>\n",
       "<style scoped>\n",
       "    .dataframe tbody tr th:only-of-type {\n",
       "        vertical-align: middle;\n",
       "    }\n",
       "\n",
       "    .dataframe tbody tr th {\n",
       "        vertical-align: top;\n",
       "    }\n",
       "\n",
       "    .dataframe thead th {\n",
       "        text-align: right;\n",
       "    }\n",
       "</style>\n",
       "<table border=\"1\" class=\"dataframe\">\n",
       "  <thead>\n",
       "    <tr style=\"text-align: right;\">\n",
       "      <th></th>\n",
       "      <th>Impression</th>\n",
       "      <th>Click</th>\n",
       "      <th>Purchase</th>\n",
       "      <th>Earning</th>\n",
       "      <th>Click/Impression Rate</th>\n",
       "    </tr>\n",
       "  </thead>\n",
       "  <tbody>\n",
       "    <tr>\n",
       "      <th>0</th>\n",
       "      <td>120103.50380</td>\n",
       "      <td>3216.54796</td>\n",
       "      <td>702.16035</td>\n",
       "      <td>1939.61124</td>\n",
       "      <td>0.02678</td>\n",
       "    </tr>\n",
       "    <tr>\n",
       "      <th>1</th>\n",
       "      <td>134775.94336</td>\n",
       "      <td>3635.08242</td>\n",
       "      <td>834.05429</td>\n",
       "      <td>2929.40582</td>\n",
       "      <td>0.02697</td>\n",
       "    </tr>\n",
       "    <tr>\n",
       "      <th>2</th>\n",
       "      <td>107806.62079</td>\n",
       "      <td>3057.14356</td>\n",
       "      <td>422.93426</td>\n",
       "      <td>2526.24488</td>\n",
       "      <td>0.02836</td>\n",
       "    </tr>\n",
       "    <tr>\n",
       "      <th>3</th>\n",
       "      <td>116445.27553</td>\n",
       "      <td>4650.47391</td>\n",
       "      <td>429.03353</td>\n",
       "      <td>2281.42857</td>\n",
       "      <td>0.03994</td>\n",
       "    </tr>\n",
       "    <tr>\n",
       "      <th>4</th>\n",
       "      <td>145082.51684</td>\n",
       "      <td>5201.38772</td>\n",
       "      <td>749.86044</td>\n",
       "      <td>2781.69752</td>\n",
       "      <td>0.03585</td>\n",
       "    </tr>\n",
       "  </tbody>\n",
       "</table>\n",
       "</div>"
      ],
      "text/plain": [
       "    Impression      Click  Purchase    Earning  Click/Impression Rate\n",
       "0 120103.50380 3216.54796 702.16035 1939.61124                0.02678\n",
       "1 134775.94336 3635.08242 834.05429 2929.40582                0.02697\n",
       "2 107806.62079 3057.14356 422.93426 2526.24488                0.02836\n",
       "3 116445.27553 4650.47391 429.03353 2281.42857                0.03994\n",
       "4 145082.51684 5201.38772 749.86044 2781.69752                0.03585"
      ]
     },
     "execution_count": 10,
     "metadata": {},
     "output_type": "execute_result"
    }
   ],
   "source": [
    "# Calculate \"Click/Impression\" rate for Test Group \n",
    "df_test[\"Click/Impression Rate\"] = df_test[\"Click\"]/df_test[\"Impression\"]\n",
    "df_test.head()"
   ]
  },
  {
   "cell_type": "code",
   "execution_count": 11,
   "id": "5636f60c",
   "metadata": {
    "execution": {
     "iopub.execute_input": "2021-09-28T09:54:02.066657Z",
     "iopub.status.busy": "2021-09-28T09:54:02.066065Z",
     "iopub.status.idle": "2021-09-28T09:54:02.068371Z",
     "shell.execute_reply": "2021-09-28T09:54:02.068928Z",
     "shell.execute_reply.started": "2021-09-28T08:36:11.996813Z"
    },
    "papermill": {
     "duration": 0.055827,
     "end_time": "2021-09-28T09:54:02.069091",
     "exception": false,
     "start_time": "2021-09-28T09:54:02.013264",
     "status": "completed"
    },
    "tags": []
   },
   "outputs": [
    {
     "data": {
      "text/plain": [
       "count   40.00000\n",
       "mean     0.05362\n",
       "std      0.02485\n",
       "min      0.02076\n",
       "25%      0.03922\n",
       "50%      0.04880\n",
       "75%      0.05799\n",
       "max      0.16207\n",
       "Name: Click/Impression Rate, dtype: float64"
      ]
     },
     "execution_count": 11,
     "metadata": {},
     "output_type": "execute_result"
    }
   ],
   "source": [
    "# Descriptive Statistics for \"Click/Impression Rate\" of Control Group\n",
    "df_control[\"Click/Impression Rate\"].describe().T"
   ]
  },
  {
   "cell_type": "code",
   "execution_count": 12,
   "id": "e18e3ea0",
   "metadata": {
    "execution": {
     "iopub.execute_input": "2021-09-28T09:54:02.163335Z",
     "iopub.status.busy": "2021-09-28T09:54:02.162755Z",
     "iopub.status.idle": "2021-09-28T09:54:02.170306Z",
     "shell.execute_reply": "2021-09-28T09:54:02.169846Z",
     "shell.execute_reply.started": "2021-09-28T08:36:12.570054Z"
    },
    "papermill": {
     "duration": 0.055717,
     "end_time": "2021-09-28T09:54:02.170437",
     "exception": false,
     "start_time": "2021-09-28T09:54:02.114720",
     "status": "completed"
    },
    "tags": []
   },
   "outputs": [
    {
     "data": {
      "text/plain": [
       "count   40.00000\n",
       "mean     0.03418\n",
       "std      0.01226\n",
       "min      0.01473\n",
       "25%      0.02816\n",
       "50%      0.03136\n",
       "75%      0.03726\n",
       "max      0.07575\n",
       "Name: Click/Impression Rate, dtype: float64"
      ]
     },
     "execution_count": 12,
     "metadata": {},
     "output_type": "execute_result"
    }
   ],
   "source": [
    "# Descriptive Statistics for \"Click/Impression Rate\" of Test Group\n",
    "df_test[\"Click/Impression Rate\"].describe().T"
   ]
  },
  {
   "cell_type": "markdown",
   "id": "cdb12e63",
   "metadata": {
    "execution": {
     "iopub.execute_input": "2021-09-27T16:14:50.122685Z",
     "iopub.status.busy": "2021-09-27T16:14:50.122403Z",
     "iopub.status.idle": "2021-09-27T16:14:50.126635Z",
     "shell.execute_reply": "2021-09-27T16:14:50.125977Z",
     "shell.execute_reply.started": "2021-09-27T16:14:50.122656Z"
    },
    "papermill": {
     "duration": 0.04507,
     "end_time": "2021-09-28T09:54:02.260808",
     "exception": false,
     "start_time": "2021-09-28T09:54:02.215738",
     "status": "completed"
    },
    "tags": []
   },
   "source": [
    "#### **According to the results of Descriptive Statistics of \"Click/Impression\" rate:** \n",
    "* There are some differences between Control Group and Test Group.\n",
    "* We need to test this in order to see whether there is a significant difference. "
   ]
  },
  {
   "cell_type": "markdown",
   "id": "a4bd3f36",
   "metadata": {
    "papermill": {
     "duration": 0.04481,
     "end_time": "2021-09-28T09:54:02.351035",
     "exception": false,
     "start_time": "2021-09-28T09:54:02.306225",
     "status": "completed"
    },
    "tags": []
   },
   "source": [
    "#### **A. Test of Normality**\n",
    "#### H0: The assumption of normal distribution is provided.\n",
    "#### H1: The assumption of normal distribution is not provided."
   ]
  },
  {
   "cell_type": "code",
   "execution_count": 13,
   "id": "0d6f56cc",
   "metadata": {
    "execution": {
     "iopub.execute_input": "2021-09-28T09:54:02.447433Z",
     "iopub.status.busy": "2021-09-28T09:54:02.446509Z",
     "iopub.status.idle": "2021-09-28T09:54:02.449969Z",
     "shell.execute_reply": "2021-09-28T09:54:02.450359Z",
     "shell.execute_reply.started": "2021-09-28T08:36:14.359291Z"
    },
    "papermill": {
     "duration": 0.054148,
     "end_time": "2021-09-28T09:54:02.450533",
     "exception": false,
     "start_time": "2021-09-28T09:54:02.396385",
     "status": "completed"
    },
    "tags": []
   },
   "outputs": [
    {
     "name": "stdout",
     "output_type": "stream",
     "text": [
      "Test Stat = 0.8072, p-value = 0.0000\n"
     ]
    }
   ],
   "source": [
    "# Test of Normality for Control Group\n",
    "test_stat, pvalue = shapiro(df_control[\"Click/Impression Rate\"])\n",
    "print('Test Stat = %.4f, p-value = %.4f' % (test_stat, pvalue))"
   ]
  },
  {
   "cell_type": "code",
   "execution_count": 14,
   "id": "857abd38",
   "metadata": {
    "execution": {
     "iopub.execute_input": "2021-09-28T09:54:02.544955Z",
     "iopub.status.busy": "2021-09-28T09:54:02.544077Z",
     "iopub.status.idle": "2021-09-28T09:54:02.549390Z",
     "shell.execute_reply": "2021-09-28T09:54:02.548948Z",
     "shell.execute_reply.started": "2021-09-28T08:36:15.134491Z"
    },
    "papermill": {
     "duration": 0.053556,
     "end_time": "2021-09-28T09:54:02.549521",
     "exception": false,
     "start_time": "2021-09-28T09:54:02.495965",
     "status": "completed"
    },
    "tags": []
   },
   "outputs": [
    {
     "name": "stdout",
     "output_type": "stream",
     "text": [
      "Test Stat = 0.8415, p-value = 0.0001\n"
     ]
    }
   ],
   "source": [
    "# Test of Normality for Test Group\n",
    "test_stat, pvalue = shapiro(df_test[\"Click/Impression Rate\"])\n",
    "print('Test Stat = %.4f, p-value = %.4f' % (test_stat, pvalue))"
   ]
  },
  {
   "cell_type": "markdown",
   "id": "53f33afa",
   "metadata": {
    "papermill": {
     "duration": 0.045586,
     "end_time": "2021-09-28T09:54:02.641278",
     "exception": false,
     "start_time": "2021-09-28T09:54:02.595692",
     "status": "completed"
    },
    "tags": []
   },
   "source": [
    "#### **According to the results of the Test of Normality:** \n",
    "* p-values of Control Group and Test Group < 0.05.\n",
    "* This means that **we reject HO hypothesis**. \n",
    "* So, the assumption of normal distribution is not provided.\n",
    "* As the test of normality is not provided, we will skip the variance homogeneity test and continue with mannwhitneyu non-parametric test. "
   ]
  },
  {
   "cell_type": "markdown",
   "id": "7b045e62",
   "metadata": {
    "papermill": {
     "duration": 0.045574,
     "end_time": "2021-09-28T09:54:02.732609",
     "exception": false,
     "start_time": "2021-09-28T09:54:02.687035",
     "status": "completed"
    },
    "tags": []
   },
   "source": [
    "#### **B. Mannwhitneyu Non-parametric Test**\n",
    "#### H0: M1 = M2 (There is no statistically significant difference between \"Click/Impression\" rate of Control Group and Test Group)\n",
    "#### H1: M1 != M2 (There is statistically significant difference between \"Click/Impression\" rate of Control Group and Test Group)"
   ]
  },
  {
   "cell_type": "code",
   "execution_count": 15,
   "id": "41faadff",
   "metadata": {
    "execution": {
     "iopub.execute_input": "2021-09-28T09:54:02.830185Z",
     "iopub.status.busy": "2021-09-28T09:54:02.829606Z",
     "iopub.status.idle": "2021-09-28T09:54:02.836355Z",
     "shell.execute_reply": "2021-09-28T09:54:02.835538Z",
     "shell.execute_reply.started": "2021-09-28T08:36:20.384044Z"
    },
    "papermill": {
     "duration": 0.0575,
     "end_time": "2021-09-28T09:54:02.836530",
     "exception": false,
     "start_time": "2021-09-28T09:54:02.779030",
     "status": "completed"
    },
    "tags": []
   },
   "outputs": [
    {
     "name": "stdout",
     "output_type": "stream",
     "text": [
      "Test Stat = 1308.0000, p-value = 0.0000\n"
     ]
    }
   ],
   "source": [
    "# Mannwhitneyu Non-parametric Test \n",
    "test_stat, pvalue = mannwhitneyu(df_control[\"Click/Impression Rate\"],\n",
    "                                 df_test[\"Click/Impression Rate\"])\n",
    "\n",
    "print('Test Stat = %.4f, p-value = %.4f' % (test_stat, pvalue))"
   ]
  },
  {
   "cell_type": "markdown",
   "id": "7ab4b338",
   "metadata": {
    "papermill": {
     "duration": 0.04643,
     "end_time": "2021-09-28T09:54:02.930163",
     "exception": false,
     "start_time": "2021-09-28T09:54:02.883733",
     "status": "completed"
    },
    "tags": []
   },
   "source": [
    "#### **According to the results of Mannwhitneyu Non-parametric Test:** \n",
    "* p-value < 0.05\n",
    "* This means that **we reject HO hypothesis**. \n",
    "* So, there is statistically significant difference between \"Click/Impression\" rate of Control Group and Test Group.\n",
    "* When we consider the descriptive statistics of \"Click/Impression Rate\", Control Group (maximum bidding) has higher rates than Test Group.\n",
    "* This gives an impression that our customer should use max. bidding instead of average bidding. Let's do not hurry up to decide and dive in other features (Purchase, Earning)."
   ]
  },
  {
   "cell_type": "markdown",
   "id": "70a6ef5b",
   "metadata": {
    "papermill": {
     "duration": 0.046325,
     "end_time": "2021-09-28T09:54:03.022677",
     "exception": false,
     "start_time": "2021-09-28T09:54:02.976352",
     "status": "completed"
    },
    "tags": []
   },
   "source": [
    "### **2.3. Is there a significant difference on \"Purchase\" values between Control Group and Test Group?** "
   ]
  },
  {
   "cell_type": "code",
   "execution_count": 16,
   "id": "f751d2f7",
   "metadata": {
    "execution": {
     "iopub.execute_input": "2021-09-28T09:54:03.121460Z",
     "iopub.status.busy": "2021-09-28T09:54:03.120817Z",
     "iopub.status.idle": "2021-09-28T09:54:03.126708Z",
     "shell.execute_reply": "2021-09-28T09:54:03.127182Z",
     "shell.execute_reply.started": "2021-09-28T08:36:22.621432Z"
    },
    "papermill": {
     "duration": 0.058271,
     "end_time": "2021-09-28T09:54:03.127363",
     "exception": false,
     "start_time": "2021-09-28T09:54:03.069092",
     "status": "completed"
    },
    "tags": []
   },
   "outputs": [
    {
     "data": {
      "text/plain": [
       "count    40.00000\n",
       "mean    550.89406\n",
       "std     134.10820\n",
       "min     267.02894\n",
       "25%     470.09553\n",
       "50%     531.20631\n",
       "75%     637.95709\n",
       "max     801.79502\n",
       "Name: Purchase, dtype: float64"
      ]
     },
     "execution_count": 16,
     "metadata": {},
     "output_type": "execute_result"
    }
   ],
   "source": [
    "# Control Group\n",
    "df_control[\"Purchase\"].describe().T"
   ]
  },
  {
   "cell_type": "code",
   "execution_count": 17,
   "id": "56f14779",
   "metadata": {
    "execution": {
     "iopub.execute_input": "2021-09-28T09:54:03.230440Z",
     "iopub.status.busy": "2021-09-28T09:54:03.224479Z",
     "iopub.status.idle": "2021-09-28T09:54:03.233411Z",
     "shell.execute_reply": "2021-09-28T09:54:03.233873Z",
     "shell.execute_reply.started": "2021-09-28T08:36:23.406193Z"
    },
    "papermill": {
     "duration": 0.059327,
     "end_time": "2021-09-28T09:54:03.234039",
     "exception": false,
     "start_time": "2021-09-28T09:54:03.174712",
     "status": "completed"
    },
    "tags": []
   },
   "outputs": [
    {
     "data": {
      "text/plain": [
       "count    40.00000\n",
       "mean    582.10610\n",
       "std     161.15251\n",
       "min     311.62952\n",
       "25%     444.62683\n",
       "50%     551.35573\n",
       "75%     699.86236\n",
       "max     889.91046\n",
       "Name: Purchase, dtype: float64"
      ]
     },
     "execution_count": 17,
     "metadata": {},
     "output_type": "execute_result"
    }
   ],
   "source": [
    "# Test Group\n",
    "df_test[\"Purchase\"].describe().T"
   ]
  },
  {
   "cell_type": "markdown",
   "id": "22c54e4b",
   "metadata": {
    "papermill": {
     "duration": 0.061863,
     "end_time": "2021-09-28T09:54:03.358927",
     "exception": false,
     "start_time": "2021-09-28T09:54:03.297064",
     "status": "completed"
    },
    "tags": []
   },
   "source": [
    "#### Descriptive Statistics for Test Group seem to be higher than Control Group. \n",
    "#### Let's check whether this difference is statistically significant or not. "
   ]
  },
  {
   "cell_type": "markdown",
   "id": "393d3cdf",
   "metadata": {
    "papermill": {
     "duration": 0.047298,
     "end_time": "2021-09-28T09:54:03.453769",
     "exception": false,
     "start_time": "2021-09-28T09:54:03.406471",
     "status": "completed"
    },
    "tags": []
   },
   "source": [
    "#### **C. Test of Normality**\n",
    "#### H0: The assumption of normal distribution is provided.\n",
    "#### H1: The assumption of normal distribution is not provided."
   ]
  },
  {
   "cell_type": "code",
   "execution_count": 18,
   "id": "6735a19b",
   "metadata": {
    "execution": {
     "iopub.execute_input": "2021-09-28T09:54:03.551649Z",
     "iopub.status.busy": "2021-09-28T09:54:03.551064Z",
     "iopub.status.idle": "2021-09-28T09:54:03.557261Z",
     "shell.execute_reply": "2021-09-28T09:54:03.556486Z",
     "shell.execute_reply.started": "2021-09-28T08:36:25.141474Z"
    },
    "papermill": {
     "duration": 0.056346,
     "end_time": "2021-09-28T09:54:03.557465",
     "exception": false,
     "start_time": "2021-09-28T09:54:03.501119",
     "status": "completed"
    },
    "tags": []
   },
   "outputs": [
    {
     "name": "stdout",
     "output_type": "stream",
     "text": [
      "Test Stat = 0.9773, p-value = 0.5891\n"
     ]
    }
   ],
   "source": [
    "# Test of Normality for Control Group\n",
    "test_stat, pvalue = shapiro(df_control[\"Purchase\"])\n",
    "print('Test Stat = %.4f, p-value = %.4f' % (test_stat, pvalue))"
   ]
  },
  {
   "cell_type": "code",
   "execution_count": 19,
   "id": "162f0f37",
   "metadata": {
    "execution": {
     "iopub.execute_input": "2021-09-28T09:54:03.660415Z",
     "iopub.status.busy": "2021-09-28T09:54:03.659669Z",
     "iopub.status.idle": "2021-09-28T09:54:03.662654Z",
     "shell.execute_reply": "2021-09-28T09:54:03.663102Z",
     "shell.execute_reply.started": "2021-09-28T08:36:25.873523Z"
    },
    "papermill": {
     "duration": 0.055933,
     "end_time": "2021-09-28T09:54:03.663259",
     "exception": false,
     "start_time": "2021-09-28T09:54:03.607326",
     "status": "completed"
    },
    "tags": []
   },
   "outputs": [
    {
     "name": "stdout",
     "output_type": "stream",
     "text": [
      "Test Stat = 0.9589, p-value = 0.1541\n"
     ]
    }
   ],
   "source": [
    "# Test of Normality for Test Group\n",
    "test_stat, pvalue = shapiro(df_test[\"Purchase\"])\n",
    "print('Test Stat = %.4f, p-value = %.4f' % (test_stat, pvalue))"
   ]
  },
  {
   "cell_type": "markdown",
   "id": "938623ac",
   "metadata": {
    "papermill": {
     "duration": 0.047107,
     "end_time": "2021-09-28T09:54:03.757402",
     "exception": false,
     "start_time": "2021-09-28T09:54:03.710295",
     "status": "completed"
    },
    "tags": []
   },
   "source": [
    "#### **According to the results of the Test of Normality:** \n",
    "* p-values of Control Group and Test Group > 0.05.\n",
    "* This means that **we can not reject HO hypothesis**. \n",
    "* So, the assumption of normal distribution is provided.\n",
    "* We will continue with the test of variance homogeneity."
   ]
  },
  {
   "cell_type": "markdown",
   "id": "34a7a637",
   "metadata": {
    "execution": {
     "iopub.execute_input": "2021-09-27T16:16:04.753978Z",
     "iopub.status.busy": "2021-09-27T16:16:04.753705Z",
     "iopub.status.idle": "2021-09-27T16:16:04.761468Z",
     "shell.execute_reply": "2021-09-27T16:16:04.760338Z",
     "shell.execute_reply.started": "2021-09-27T16:16:04.753949Z"
    },
    "papermill": {
     "duration": 0.046607,
     "end_time": "2021-09-28T09:54:03.851000",
     "exception": false,
     "start_time": "2021-09-28T09:54:03.804393",
     "status": "completed"
    },
    "tags": []
   },
   "source": [
    "#### **D. Test of Variance Homogeneity**\n",
    "#### H0: Variances are homogeneous.\n",
    "#### H1: Variances are not homogeneous."
   ]
  },
  {
   "cell_type": "code",
   "execution_count": 20,
   "id": "beca8faa",
   "metadata": {
    "execution": {
     "iopub.execute_input": "2021-09-28T09:54:03.948886Z",
     "iopub.status.busy": "2021-09-28T09:54:03.947991Z",
     "iopub.status.idle": "2021-09-28T09:54:03.954641Z",
     "shell.execute_reply": "2021-09-28T09:54:03.955228Z",
     "shell.execute_reply.started": "2021-09-28T08:36:33.819320Z"
    },
    "papermill": {
     "duration": 0.057016,
     "end_time": "2021-09-28T09:54:03.955455",
     "exception": false,
     "start_time": "2021-09-28T09:54:03.898439",
     "status": "completed"
    },
    "tags": []
   },
   "outputs": [
    {
     "name": "stdout",
     "output_type": "stream",
     "text": [
      "Test Stat = 2.6393, p-value = 0.1083\n"
     ]
    }
   ],
   "source": [
    "test_stat, pvalue = levene(df_control[\"Purchase\"],df_test[\"Purchase\"])\n",
    "print('Test Stat = %.4f, p-value = %.4f' % (test_stat, pvalue))"
   ]
  },
  {
   "cell_type": "markdown",
   "id": "a6e5ef92",
   "metadata": {
    "papermill": {
     "duration": 0.048253,
     "end_time": "2021-09-28T09:54:04.051820",
     "exception": false,
     "start_time": "2021-09-28T09:54:04.003567",
     "status": "completed"
    },
    "tags": []
   },
   "source": [
    "### **According to the results of Levene Test:** \n",
    "* p-value > 0.05.\n",
    "* This means that **we can not reject HO hypothesis**.\n",
    "* So, variances are homogeneous.\n",
    "* Both assumptions for normality and variance homogeneity are provided. \n",
    "* In this case, we will continue with independent two-sample t-test."
   ]
  },
  {
   "cell_type": "markdown",
   "id": "b34100c3",
   "metadata": {
    "papermill": {
     "duration": 0.0468,
     "end_time": "2021-09-28T09:54:04.147719",
     "exception": false,
     "start_time": "2021-09-28T09:54:04.100919",
     "status": "completed"
    },
    "tags": []
   },
   "source": [
    "#### **E. Independent Two-Sample T-Test**\n",
    "#### H0: M1 = M2 (There is no statistically significant difference between the means of \"Purchase\" of Control Group and Test Group.)\n",
    "#### H1: M1 != M2 (There is statistically significant difference between the means of \"Purchase\" of Control Group and Test Group)"
   ]
  },
  {
   "cell_type": "code",
   "execution_count": 21,
   "id": "41f3bf92",
   "metadata": {
    "execution": {
     "iopub.execute_input": "2021-09-28T09:54:04.247540Z",
     "iopub.status.busy": "2021-09-28T09:54:04.246976Z",
     "iopub.status.idle": "2021-09-28T09:54:04.249990Z",
     "shell.execute_reply": "2021-09-28T09:54:04.250371Z",
     "shell.execute_reply.started": "2021-09-27T16:18:38.88457Z"
    },
    "papermill": {
     "duration": 0.055495,
     "end_time": "2021-09-28T09:54:04.250526",
     "exception": false,
     "start_time": "2021-09-28T09:54:04.195031",
     "status": "completed"
    },
    "tags": []
   },
   "outputs": [
    {
     "name": "stdout",
     "output_type": "stream",
     "text": [
      "Test Stat = -0.9416, p-value = 0.3493\n"
     ]
    }
   ],
   "source": [
    "test_stat, pvalue = ttest_ind(df_control[\"Purchase\"],df_test[\"Purchase\"],\n",
    "                              equal_var=True)\n",
    "\n",
    "print('Test Stat = %.4f, p-value = %.4f' % (test_stat, pvalue))"
   ]
  },
  {
   "cell_type": "markdown",
   "id": "5e942c49",
   "metadata": {
    "papermill": {
     "duration": 0.04745,
     "end_time": "2021-09-28T09:54:04.345754",
     "exception": false,
     "start_time": "2021-09-28T09:54:04.298304",
     "status": "completed"
    },
    "tags": []
   },
   "source": [
    "#### **According to the results of Independent Two-Sample T-Test:** \n",
    "* p-value > 0.05.\n",
    "* This means **we can not reject H0 hypothesis**.\n",
    "* So, there is no statistically significant difference between the means of \"Purchase\" of Control Group and Test Group."
   ]
  },
  {
   "cell_type": "markdown",
   "id": "e2448b8e",
   "metadata": {
    "papermill": {
     "duration": 0.04736,
     "end_time": "2021-09-28T09:54:04.441450",
     "exception": false,
     "start_time": "2021-09-28T09:54:04.394090",
     "status": "completed"
    },
    "tags": []
   },
   "source": [
    "### **2.4. Is there a significant difference on \"Earning\" values between Control Group and Test Group?** "
   ]
  },
  {
   "cell_type": "code",
   "execution_count": 22,
   "id": "165a2332",
   "metadata": {
    "execution": {
     "iopub.execute_input": "2021-09-28T09:54:04.545032Z",
     "iopub.status.busy": "2021-09-28T09:54:04.544449Z",
     "iopub.status.idle": "2021-09-28T09:54:04.547196Z",
     "shell.execute_reply": "2021-09-28T09:54:04.547657Z",
     "shell.execute_reply.started": "2021-09-28T09:39:23.305742Z"
    },
    "papermill": {
     "duration": 0.058595,
     "end_time": "2021-09-28T09:54:04.547809",
     "exception": false,
     "start_time": "2021-09-28T09:54:04.489214",
     "status": "completed"
    },
    "tags": []
   },
   "outputs": [
    {
     "data": {
      "text/plain": [
       "count     40.00000\n",
       "mean    1908.56830\n",
       "std      302.91778\n",
       "min     1253.98952\n",
       "25%     1685.84720\n",
       "50%     1975.16052\n",
       "75%     2119.80278\n",
       "max     2497.29522\n",
       "Name: Earning, dtype: float64"
      ]
     },
     "execution_count": 22,
     "metadata": {},
     "output_type": "execute_result"
    }
   ],
   "source": [
    "# Control Group\n",
    "df_control[\"Earning\"].describe().T"
   ]
  },
  {
   "cell_type": "code",
   "execution_count": 23,
   "id": "1cb56457",
   "metadata": {
    "execution": {
     "iopub.execute_input": "2021-09-28T09:54:04.655105Z",
     "iopub.status.busy": "2021-09-28T09:54:04.654486Z",
     "iopub.status.idle": "2021-09-28T09:54:04.658157Z",
     "shell.execute_reply": "2021-09-28T09:54:04.657707Z",
     "shell.execute_reply.started": "2021-09-28T09:39:23.713400Z"
    },
    "papermill": {
     "duration": 0.062294,
     "end_time": "2021-09-28T09:54:04.658294",
     "exception": false,
     "start_time": "2021-09-28T09:54:04.596000",
     "status": "completed"
    },
    "tags": []
   },
   "outputs": [
    {
     "data": {
      "text/plain": [
       "count     40.00000\n",
       "mean    2514.89073\n",
       "std      282.73085\n",
       "min     1939.61124\n",
       "25%     2280.53743\n",
       "50%     2544.66611\n",
       "75%     2761.54540\n",
       "max     3171.48971\n",
       "Name: Earning, dtype: float64"
      ]
     },
     "execution_count": 23,
     "metadata": {},
     "output_type": "execute_result"
    }
   ],
   "source": [
    "# Test Group\n",
    "df_test[\"Earning\"].describe().T"
   ]
  },
  {
   "cell_type": "markdown",
   "id": "30fc4873",
   "metadata": {
    "execution": {
     "iopub.execute_input": "2021-09-27T16:28:44.896089Z",
     "iopub.status.busy": "2021-09-27T16:28:44.895779Z",
     "iopub.status.idle": "2021-09-27T16:28:44.900235Z",
     "shell.execute_reply": "2021-09-27T16:28:44.899461Z",
     "shell.execute_reply.started": "2021-09-27T16:28:44.896037Z"
    },
    "papermill": {
     "duration": 0.047682,
     "end_time": "2021-09-28T09:54:04.754384",
     "exception": false,
     "start_time": "2021-09-28T09:54:04.706702",
     "status": "completed"
    },
    "tags": []
   },
   "source": [
    "#### Descriptive Statistics for Test Group seem to be higher than Control Group. \n",
    "#### Let's check whether this difference is statistically significant or not. "
   ]
  },
  {
   "cell_type": "markdown",
   "id": "5b9b8805",
   "metadata": {
    "papermill": {
     "duration": 0.048769,
     "end_time": "2021-09-28T09:54:04.851719",
     "exception": false,
     "start_time": "2021-09-28T09:54:04.802950",
     "status": "completed"
    },
    "tags": []
   },
   "source": [
    "#### **F. Test of Normality**\n",
    "#### H0: The assumption of normal distribution is provided.\n",
    "#### H1: The assumption of normal distribution is not provided."
   ]
  },
  {
   "cell_type": "code",
   "execution_count": 24,
   "id": "016446a3",
   "metadata": {
    "execution": {
     "iopub.execute_input": "2021-09-28T09:54:04.953406Z",
     "iopub.status.busy": "2021-09-28T09:54:04.952116Z",
     "iopub.status.idle": "2021-09-28T09:54:04.957897Z",
     "shell.execute_reply": "2021-09-28T09:54:04.957376Z",
     "shell.execute_reply.started": "2021-09-27T16:29:34.790169Z"
    },
    "papermill": {
     "duration": 0.057256,
     "end_time": "2021-09-28T09:54:04.958060",
     "exception": false,
     "start_time": "2021-09-28T09:54:04.900804",
     "status": "completed"
    },
    "tags": []
   },
   "outputs": [
    {
     "name": "stdout",
     "output_type": "stream",
     "text": [
      "Test Stat = 0.9756, p-value = 0.5306\n"
     ]
    }
   ],
   "source": [
    "# Control Group\n",
    "test_stat, pvalue = shapiro(df_control[\"Earning\"])\n",
    "print('Test Stat = %.4f, p-value = %.4f' % (test_stat, pvalue))"
   ]
  },
  {
   "cell_type": "code",
   "execution_count": 25,
   "id": "6d7df956",
   "metadata": {
    "execution": {
     "iopub.execute_input": "2021-09-28T09:54:05.062159Z",
     "iopub.status.busy": "2021-09-28T09:54:05.059829Z",
     "iopub.status.idle": "2021-09-28T09:54:05.065202Z",
     "shell.execute_reply": "2021-09-28T09:54:05.064644Z",
     "shell.execute_reply.started": "2021-09-27T16:29:36.868441Z"
    },
    "papermill": {
     "duration": 0.057891,
     "end_time": "2021-09-28T09:54:05.065332",
     "exception": false,
     "start_time": "2021-09-28T09:54:05.007441",
     "status": "completed"
    },
    "tags": []
   },
   "outputs": [
    {
     "name": "stdout",
     "output_type": "stream",
     "text": [
      "Test Stat = 0.9780, p-value = 0.6163\n"
     ]
    }
   ],
   "source": [
    "# Test Group\n",
    "test_stat, pvalue = shapiro(df_test[\"Earning\"])\n",
    "print('Test Stat = %.4f, p-value = %.4f' % (test_stat, pvalue))"
   ]
  },
  {
   "cell_type": "markdown",
   "id": "8ccd3a62",
   "metadata": {
    "papermill": {
     "duration": 0.04859,
     "end_time": "2021-09-28T09:54:05.163071",
     "exception": false,
     "start_time": "2021-09-28T09:54:05.114481",
     "status": "completed"
    },
    "tags": []
   },
   "source": [
    "#### **According to the results:** \n",
    "* p-values of Control Group and Test Group > 0.05.\n",
    "* This means that **we can not reject HO hypothesis**. \n",
    "* So, the assumption of normal distribution is provided.\n",
    "* We will continue with the test of variance homogeneity"
   ]
  },
  {
   "cell_type": "markdown",
   "id": "a5c5cbcd",
   "metadata": {
    "papermill": {
     "duration": 0.048166,
     "end_time": "2021-09-28T09:54:05.259898",
     "exception": false,
     "start_time": "2021-09-28T09:54:05.211732",
     "status": "completed"
    },
    "tags": []
   },
   "source": [
    "#### **G. Test of Variance Homogeneity**\n",
    "#### H0: Variances are homogeneous.\n",
    "#### H1: Variances are not homogeneous."
   ]
  },
  {
   "cell_type": "code",
   "execution_count": 26,
   "id": "1b554bcf",
   "metadata": {
    "execution": {
     "iopub.execute_input": "2021-09-28T09:54:05.363464Z",
     "iopub.status.busy": "2021-09-28T09:54:05.362680Z",
     "iopub.status.idle": "2021-09-28T09:54:05.365531Z",
     "shell.execute_reply": "2021-09-28T09:54:05.365984Z",
     "shell.execute_reply.started": "2021-09-27T16:40:55.256663Z"
    },
    "papermill": {
     "duration": 0.057273,
     "end_time": "2021-09-28T09:54:05.366136",
     "exception": false,
     "start_time": "2021-09-28T09:54:05.308863",
     "status": "completed"
    },
    "tags": []
   },
   "outputs": [
    {
     "name": "stdout",
     "output_type": "stream",
     "text": [
      "Test Stat = 0.3532, p-value = 0.5540\n"
     ]
    }
   ],
   "source": [
    "test_stat, pvalue = levene(df_control[\"Earning\"],df_test[\"Earning\"])\n",
    "print('Test Stat = %.4f, p-value = %.4f' % (test_stat, pvalue))"
   ]
  },
  {
   "cell_type": "markdown",
   "id": "83b5ea83",
   "metadata": {
    "papermill": {
     "duration": 0.048672,
     "end_time": "2021-09-28T09:54:05.463927",
     "exception": false,
     "start_time": "2021-09-28T09:54:05.415255",
     "status": "completed"
    },
    "tags": []
   },
   "source": [
    "#### **According to the results of Levene test:** \n",
    "* p-value > 0.05.\n",
    "* This means that **we can not reject HO hypothesis**.\n",
    "* So, variances are homogeneous.\n",
    "* Both assumptions for normality and variance homogeneity are provided. \n",
    "* In this case, we will continue with independent two-sample t-test."
   ]
  },
  {
   "cell_type": "markdown",
   "id": "863dbb65",
   "metadata": {
    "papermill": {
     "duration": 0.048705,
     "end_time": "2021-09-28T09:54:05.562094",
     "exception": false,
     "start_time": "2021-09-28T09:54:05.513389",
     "status": "completed"
    },
    "tags": []
   },
   "source": [
    "#### H. Independent Two-Sample T-Test \n",
    "\n",
    "#### H0: M1 = M2 (There is no statistically significant difference between the means of \"Earning\" of Control Group and Test Group).\n",
    "#### H1: M1 != M2 (There is statistically significant difference between the means of \"Earning\" of Control Group and Test Group)."
   ]
  },
  {
   "cell_type": "code",
   "execution_count": 27,
   "id": "772ed0c3",
   "metadata": {
    "execution": {
     "iopub.execute_input": "2021-09-28T09:54:05.665635Z",
     "iopub.status.busy": "2021-09-28T09:54:05.665063Z",
     "iopub.status.idle": "2021-09-28T09:54:05.668727Z",
     "shell.execute_reply": "2021-09-28T09:54:05.669120Z",
     "shell.execute_reply.started": "2021-09-27T16:42:32.004457Z"
    },
    "papermill": {
     "duration": 0.058146,
     "end_time": "2021-09-28T09:54:05.669274",
     "exception": false,
     "start_time": "2021-09-28T09:54:05.611128",
     "status": "completed"
    },
    "tags": []
   },
   "outputs": [
    {
     "name": "stdout",
     "output_type": "stream",
     "text": [
      "Test Stat = -9.2545, p-value = 0.0000\n"
     ]
    }
   ],
   "source": [
    "test_stat, pvalue = ttest_ind(df_control[\"Earning\"],df_test[\"Earning\"],\n",
    "                              equal_var=True)\n",
    "\n",
    "print('Test Stat = %.4f, p-value = %.4f' % (test_stat, pvalue))"
   ]
  },
  {
   "cell_type": "markdown",
   "id": "f0e03ab4",
   "metadata": {
    "papermill": {
     "duration": 0.048888,
     "end_time": "2021-09-28T09:54:05.767241",
     "exception": false,
     "start_time": "2021-09-28T09:54:05.718353",
     "status": "completed"
    },
    "tags": []
   },
   "source": [
    "#### **According to the results of Independent Two-Sample T-Test:** \n",
    "* p-value < 0.05.\n",
    "* This means **we reject H0 hypothesis**.\n",
    "* So, there is statistically significant difference between the means of \"Earning the two groups."
   ]
  },
  {
   "cell_type": "markdown",
   "id": "e973b2a2",
   "metadata": {
    "papermill": {
     "duration": 0.048844,
     "end_time": "2021-09-28T09:54:05.865051",
     "exception": false,
     "start_time": "2021-09-28T09:54:05.816207",
     "status": "completed"
    },
    "tags": []
   },
   "source": [
    "### **2.5. Is there a significant difference on \"Purchase/Click\" rate between Control Group and Test Group?** "
   ]
  },
  {
   "cell_type": "markdown",
   "id": "440596a7",
   "metadata": {
    "papermill": {
     "duration": 0.049531,
     "end_time": "2021-09-28T09:54:05.964792",
     "exception": false,
     "start_time": "2021-09-28T09:54:05.915261",
     "status": "completed"
    },
    "tags": []
   },
   "source": [
    "#### Purchase/Click rate can give us an insight.  \n",
    "#### Purchase/Click = (Number of products purchased after the ads clicked) / (number of clicks on the displayed ad) "
   ]
  },
  {
   "cell_type": "code",
   "execution_count": 28,
   "id": "f8eb9720",
   "metadata": {
    "execution": {
     "iopub.execute_input": "2021-09-28T09:54:06.077045Z",
     "iopub.status.busy": "2021-09-28T09:54:06.076178Z",
     "iopub.status.idle": "2021-09-28T09:54:06.079377Z",
     "shell.execute_reply": "2021-09-28T09:54:06.079828Z",
     "shell.execute_reply.started": "2021-09-28T08:47:33.949701Z"
    },
    "papermill": {
     "duration": 0.064671,
     "end_time": "2021-09-28T09:54:06.079994",
     "exception": false,
     "start_time": "2021-09-28T09:54:06.015323",
     "status": "completed"
    },
    "tags": []
   },
   "outputs": [
    {
     "data": {
      "text/html": [
       "<div>\n",
       "<style scoped>\n",
       "    .dataframe tbody tr th:only-of-type {\n",
       "        vertical-align: middle;\n",
       "    }\n",
       "\n",
       "    .dataframe tbody tr th {\n",
       "        vertical-align: top;\n",
       "    }\n",
       "\n",
       "    .dataframe thead th {\n",
       "        text-align: right;\n",
       "    }\n",
       "</style>\n",
       "<table border=\"1\" class=\"dataframe\">\n",
       "  <thead>\n",
       "    <tr style=\"text-align: right;\">\n",
       "      <th></th>\n",
       "      <th>Impression</th>\n",
       "      <th>Click</th>\n",
       "      <th>Purchase</th>\n",
       "      <th>Earning</th>\n",
       "      <th>Click/Impression Rate</th>\n",
       "      <th>Purchase/Click Rate</th>\n",
       "    </tr>\n",
       "  </thead>\n",
       "  <tbody>\n",
       "    <tr>\n",
       "      <th>0</th>\n",
       "      <td>82529.45927</td>\n",
       "      <td>6090.07732</td>\n",
       "      <td>665.21125</td>\n",
       "      <td>2311.27714</td>\n",
       "      <td>0.07379</td>\n",
       "      <td>0.10923</td>\n",
       "    </tr>\n",
       "    <tr>\n",
       "      <th>1</th>\n",
       "      <td>98050.45193</td>\n",
       "      <td>3382.86179</td>\n",
       "      <td>315.08489</td>\n",
       "      <td>1742.80686</td>\n",
       "      <td>0.03450</td>\n",
       "      <td>0.09314</td>\n",
       "    </tr>\n",
       "    <tr>\n",
       "      <th>2</th>\n",
       "      <td>82696.02355</td>\n",
       "      <td>4167.96575</td>\n",
       "      <td>458.08374</td>\n",
       "      <td>1797.82745</td>\n",
       "      <td>0.05040</td>\n",
       "      <td>0.10991</td>\n",
       "    </tr>\n",
       "    <tr>\n",
       "      <th>3</th>\n",
       "      <td>109914.40040</td>\n",
       "      <td>4910.88224</td>\n",
       "      <td>487.09077</td>\n",
       "      <td>1696.22918</td>\n",
       "      <td>0.04468</td>\n",
       "      <td>0.09919</td>\n",
       "    </tr>\n",
       "    <tr>\n",
       "      <th>4</th>\n",
       "      <td>108457.76263</td>\n",
       "      <td>5987.65581</td>\n",
       "      <td>441.03405</td>\n",
       "      <td>1543.72018</td>\n",
       "      <td>0.05521</td>\n",
       "      <td>0.07366</td>\n",
       "    </tr>\n",
       "  </tbody>\n",
       "</table>\n",
       "</div>"
      ],
      "text/plain": [
       "    Impression      Click  Purchase    Earning  Click/Impression Rate  \\\n",
       "0  82529.45927 6090.07732 665.21125 2311.27714                0.07379   \n",
       "1  98050.45193 3382.86179 315.08489 1742.80686                0.03450   \n",
       "2  82696.02355 4167.96575 458.08374 1797.82745                0.05040   \n",
       "3 109914.40040 4910.88224 487.09077 1696.22918                0.04468   \n",
       "4 108457.76263 5987.65581 441.03405 1543.72018                0.05521   \n",
       "\n",
       "   Purchase/Click Rate  \n",
       "0              0.10923  \n",
       "1              0.09314  \n",
       "2              0.10991  \n",
       "3              0.09919  \n",
       "4              0.07366  "
      ]
     },
     "execution_count": 28,
     "metadata": {},
     "output_type": "execute_result"
    }
   ],
   "source": [
    "# Calculate \"Purchase/Click\" rate for Control Group \n",
    "df_control[\"Purchase/Click Rate\"] = df_control[\"Purchase\"]/df_control[\"Click\"]\n",
    "df_control.head()"
   ]
  },
  {
   "cell_type": "code",
   "execution_count": 29,
   "id": "901201f6",
   "metadata": {
    "execution": {
     "iopub.execute_input": "2021-09-28T09:54:06.192157Z",
     "iopub.status.busy": "2021-09-28T09:54:06.191238Z",
     "iopub.status.idle": "2021-09-28T09:54:06.195394Z",
     "shell.execute_reply": "2021-09-28T09:54:06.194960Z",
     "shell.execute_reply.started": "2021-09-28T08:47:55.812083Z"
    },
    "papermill": {
     "duration": 0.065346,
     "end_time": "2021-09-28T09:54:06.195530",
     "exception": false,
     "start_time": "2021-09-28T09:54:06.130184",
     "status": "completed"
    },
    "tags": []
   },
   "outputs": [
    {
     "data": {
      "text/html": [
       "<div>\n",
       "<style scoped>\n",
       "    .dataframe tbody tr th:only-of-type {\n",
       "        vertical-align: middle;\n",
       "    }\n",
       "\n",
       "    .dataframe tbody tr th {\n",
       "        vertical-align: top;\n",
       "    }\n",
       "\n",
       "    .dataframe thead th {\n",
       "        text-align: right;\n",
       "    }\n",
       "</style>\n",
       "<table border=\"1\" class=\"dataframe\">\n",
       "  <thead>\n",
       "    <tr style=\"text-align: right;\">\n",
       "      <th></th>\n",
       "      <th>Impression</th>\n",
       "      <th>Click</th>\n",
       "      <th>Purchase</th>\n",
       "      <th>Earning</th>\n",
       "      <th>Click/Impression Rate</th>\n",
       "      <th>Purchase/Click Rate</th>\n",
       "    </tr>\n",
       "  </thead>\n",
       "  <tbody>\n",
       "    <tr>\n",
       "      <th>0</th>\n",
       "      <td>120103.50380</td>\n",
       "      <td>3216.54796</td>\n",
       "      <td>702.16035</td>\n",
       "      <td>1939.61124</td>\n",
       "      <td>0.02678</td>\n",
       "      <td>0.11530</td>\n",
       "    </tr>\n",
       "    <tr>\n",
       "      <th>1</th>\n",
       "      <td>134775.94336</td>\n",
       "      <td>3635.08242</td>\n",
       "      <td>834.05429</td>\n",
       "      <td>2929.40582</td>\n",
       "      <td>0.02697</td>\n",
       "      <td>0.24655</td>\n",
       "    </tr>\n",
       "    <tr>\n",
       "      <th>2</th>\n",
       "      <td>107806.62079</td>\n",
       "      <td>3057.14356</td>\n",
       "      <td>422.93426</td>\n",
       "      <td>2526.24488</td>\n",
       "      <td>0.02836</td>\n",
       "      <td>0.10147</td>\n",
       "    </tr>\n",
       "    <tr>\n",
       "      <th>3</th>\n",
       "      <td>116445.27553</td>\n",
       "      <td>4650.47391</td>\n",
       "      <td>429.03353</td>\n",
       "      <td>2281.42857</td>\n",
       "      <td>0.03994</td>\n",
       "      <td>0.08736</td>\n",
       "    </tr>\n",
       "    <tr>\n",
       "      <th>4</th>\n",
       "      <td>145082.51684</td>\n",
       "      <td>5201.38772</td>\n",
       "      <td>749.86044</td>\n",
       "      <td>2781.69752</td>\n",
       "      <td>0.03585</td>\n",
       "      <td>0.12523</td>\n",
       "    </tr>\n",
       "  </tbody>\n",
       "</table>\n",
       "</div>"
      ],
      "text/plain": [
       "    Impression      Click  Purchase    Earning  Click/Impression Rate  \\\n",
       "0 120103.50380 3216.54796 702.16035 1939.61124                0.02678   \n",
       "1 134775.94336 3635.08242 834.05429 2929.40582                0.02697   \n",
       "2 107806.62079 3057.14356 422.93426 2526.24488                0.02836   \n",
       "3 116445.27553 4650.47391 429.03353 2281.42857                0.03994   \n",
       "4 145082.51684 5201.38772 749.86044 2781.69752                0.03585   \n",
       "\n",
       "   Purchase/Click Rate  \n",
       "0              0.11530  \n",
       "1              0.24655  \n",
       "2              0.10147  \n",
       "3              0.08736  \n",
       "4              0.12523  "
      ]
     },
     "execution_count": 29,
     "metadata": {},
     "output_type": "execute_result"
    }
   ],
   "source": [
    "# Calculate \"Purchase/Click\" rate for Test Group \n",
    "df_test[\"Purchase/Click Rate\"] = df_test[\"Purchase\"]/df_control[\"Click\"]\n",
    "df_test.head()"
   ]
  },
  {
   "cell_type": "code",
   "execution_count": 30,
   "id": "6960fab1",
   "metadata": {
    "execution": {
     "iopub.execute_input": "2021-09-28T09:54:06.302211Z",
     "iopub.status.busy": "2021-09-28T09:54:06.301609Z",
     "iopub.status.idle": "2021-09-28T09:54:06.306601Z",
     "shell.execute_reply": "2021-09-28T09:54:06.307038Z",
     "shell.execute_reply.started": "2021-09-28T08:49:49.466346Z"
    },
    "papermill": {
     "duration": 0.061239,
     "end_time": "2021-09-28T09:54:06.307200",
     "exception": false,
     "start_time": "2021-09-28T09:54:06.245961",
     "status": "completed"
    },
    "tags": []
   },
   "outputs": [
    {
     "data": {
      "text/plain": [
       "count   40.00000\n",
       "mean     0.11593\n",
       "std      0.04542\n",
       "min      0.04040\n",
       "25%      0.08525\n",
       "50%      0.10957\n",
       "75%      0.14482\n",
       "max      0.30436\n",
       "Name: Purchase/Click Rate, dtype: float64"
      ]
     },
     "execution_count": 30,
     "metadata": {},
     "output_type": "execute_result"
    }
   ],
   "source": [
    "# Descriptive Statistics of \"Purchase/Click Rate\" for Control Group\n",
    "df_control[\"Purchase/Click Rate\"].describe().T"
   ]
  },
  {
   "cell_type": "code",
   "execution_count": 31,
   "id": "fa729689",
   "metadata": {
    "execution": {
     "iopub.execute_input": "2021-09-28T09:54:06.411744Z",
     "iopub.status.busy": "2021-09-28T09:54:06.411096Z",
     "iopub.status.idle": "2021-09-28T09:54:06.419273Z",
     "shell.execute_reply": "2021-09-28T09:54:06.418750Z",
     "shell.execute_reply.started": "2021-09-28T08:50:01.553667Z"
    },
    "papermill": {
     "duration": 0.061666,
     "end_time": "2021-09-28T09:54:06.419409",
     "exception": false,
     "start_time": "2021-09-28T09:54:06.357743",
     "status": "completed"
    },
    "tags": []
   },
   "outputs": [
    {
     "data": {
      "text/plain": [
       "count   40.00000\n",
       "mean     0.12297\n",
       "std      0.04997\n",
       "min      0.04456\n",
       "25%      0.08984\n",
       "50%      0.11542\n",
       "75%      0.14364\n",
       "max      0.24655\n",
       "Name: Purchase/Click Rate, dtype: float64"
      ]
     },
     "execution_count": 31,
     "metadata": {},
     "output_type": "execute_result"
    }
   ],
   "source": [
    "# Descriptive Statistics of \"Purchase/Click Rate\" for Test Group\n",
    "df_test[\"Purchase/Click Rate\"].describe().T"
   ]
  },
  {
   "cell_type": "markdown",
   "id": "de235f33",
   "metadata": {
    "papermill": {
     "duration": 0.05057,
     "end_time": "2021-09-28T09:54:06.521140",
     "exception": false,
     "start_time": "2021-09-28T09:54:06.470570",
     "status": "completed"
    },
    "tags": []
   },
   "source": [
    "#### **According to the results of Descriptive Statistics of \"Purchase/Click\" rate:** \n",
    "* There are slight differences between Control Group and Test Group.\n",
    "* We need to test this in order to see whether there is a significant difference. "
   ]
  },
  {
   "cell_type": "markdown",
   "id": "ddd03438",
   "metadata": {
    "papermill": {
     "duration": 0.052136,
     "end_time": "2021-09-28T09:54:06.624418",
     "exception": false,
     "start_time": "2021-09-28T09:54:06.572282",
     "status": "completed"
    },
    "tags": []
   },
   "source": [
    "#### **I. Test of Normality**\n",
    "#### H0: The assumption of normal distribution is provided.\n",
    "#### H1: The assumption of normal distribution is not provided."
   ]
  },
  {
   "cell_type": "code",
   "execution_count": 32,
   "id": "af74fd63",
   "metadata": {
    "execution": {
     "iopub.execute_input": "2021-09-28T09:54:06.734285Z",
     "iopub.status.busy": "2021-09-28T09:54:06.733716Z",
     "iopub.status.idle": "2021-09-28T09:54:06.736001Z",
     "shell.execute_reply": "2021-09-28T09:54:06.736426Z",
     "shell.execute_reply.started": "2021-09-28T08:52:22.066312Z"
    },
    "papermill": {
     "duration": 0.059956,
     "end_time": "2021-09-28T09:54:06.736603",
     "exception": false,
     "start_time": "2021-09-28T09:54:06.676647",
     "status": "completed"
    },
    "tags": []
   },
   "outputs": [
    {
     "name": "stdout",
     "output_type": "stream",
     "text": [
      "Test Stat = 0.8720, p-value = 0.0003\n"
     ]
    }
   ],
   "source": [
    "# Test of Normality for Control Group (Purchase/Click)\n",
    "test_stat, pvalue = shapiro(df_control[\"Purchase/Click Rate\"])\n",
    "print('Test Stat = %.4f, p-value = %.4f' % (test_stat, pvalue))"
   ]
  },
  {
   "cell_type": "code",
   "execution_count": 33,
   "id": "8f991722",
   "metadata": {
    "execution": {
     "iopub.execute_input": "2021-09-28T09:54:06.845648Z",
     "iopub.status.busy": "2021-09-28T09:54:06.845053Z",
     "iopub.status.idle": "2021-09-28T09:54:06.847385Z",
     "shell.execute_reply": "2021-09-28T09:54:06.848149Z",
     "shell.execute_reply.started": "2021-09-28T08:52:36.912163Z"
    },
    "papermill": {
     "duration": 0.059621,
     "end_time": "2021-09-28T09:54:06.848357",
     "exception": false,
     "start_time": "2021-09-28T09:54:06.788736",
     "status": "completed"
    },
    "tags": []
   },
   "outputs": [
    {
     "name": "stdout",
     "output_type": "stream",
     "text": [
      "Test Stat = 0.9299, p-value = 0.0160\n"
     ]
    }
   ],
   "source": [
    "# Test of Normality for Test Group (Purchase/Click)\n",
    "test_stat, pvalue = shapiro(df_test[\"Purchase/Click Rate\"])\n",
    "print('Test Stat = %.4f, p-value = %.4f' % (test_stat, pvalue))"
   ]
  },
  {
   "cell_type": "markdown",
   "id": "dfb85a0e",
   "metadata": {
    "papermill": {
     "duration": 0.052256,
     "end_time": "2021-09-28T09:54:06.953224",
     "exception": false,
     "start_time": "2021-09-28T09:54:06.900968",
     "status": "completed"
    },
    "tags": []
   },
   "source": [
    "#### **According to the results of the Test of Normality (Purchase/Click):** \n",
    "* p-values of Control Group and Test Group < 0.05.\n",
    "* This means that **we reject HO hypothesis**. \n",
    "* So, the assumption of normal distribution is not provided.\n",
    "* As the test of normality is not provided, we will skip the variance homogeneity test and continue with mannwhitneyu non-parametric test. "
   ]
  },
  {
   "cell_type": "markdown",
   "id": "03c210f3",
   "metadata": {
    "papermill": {
     "duration": 0.051387,
     "end_time": "2021-09-28T09:54:07.055784",
     "exception": false,
     "start_time": "2021-09-28T09:54:07.004397",
     "status": "completed"
    },
    "tags": []
   },
   "source": [
    "#### **J. Mannwhitneyu Non-parametric Test**\n",
    "#### H0: M1 = M2 (There is no statistically significant difference between \"Purchase/Click\" rate of Control Group and Test Group)\n",
    "#### H1: M1 != M2 (There is statistically significant difference between \"Purchase/Click\" rate of Control Group and Test Group)"
   ]
  },
  {
   "cell_type": "code",
   "execution_count": 34,
   "id": "1eb1afa4",
   "metadata": {
    "execution": {
     "iopub.execute_input": "2021-09-28T09:54:07.179465Z",
     "iopub.status.busy": "2021-09-28T09:54:07.178762Z",
     "iopub.status.idle": "2021-09-28T09:54:07.183926Z",
     "shell.execute_reply": "2021-09-28T09:54:07.184613Z",
     "shell.execute_reply.started": "2021-09-28T08:56:25.085615Z"
    },
    "papermill": {
     "duration": 0.077843,
     "end_time": "2021-09-28T09:54:07.184878",
     "exception": false,
     "start_time": "2021-09-28T09:54:07.107035",
     "status": "completed"
    },
    "tags": []
   },
   "outputs": [
    {
     "name": "stdout",
     "output_type": "stream",
     "text": [
      "Test Stat = 752.0000, p-value = 0.6476\n"
     ]
    }
   ],
   "source": [
    "# Mannwhitneyu Non-parametric Test (Purchase/Click)\n",
    "test_stat, pvalue = mannwhitneyu(df_control[\"Purchase/Click Rate\"],\n",
    "                                 df_test[\"Purchase/Click Rate\"])\n",
    "\n",
    "print('Test Stat = %.4f, p-value = %.4f' % (test_stat, pvalue))"
   ]
  },
  {
   "cell_type": "markdown",
   "id": "26a10627",
   "metadata": {
    "papermill": {
     "duration": 0.065066,
     "end_time": "2021-09-28T09:54:07.305129",
     "exception": false,
     "start_time": "2021-09-28T09:54:07.240063",
     "status": "completed"
    },
    "tags": []
   },
   "source": [
    "#### **According to the results of Mannwhitneyu Non-parametric Test (Purchase/Click):** \n",
    "* p-value > 0.05\n",
    "* This means that **we can not reject HO hypothesis**. \n",
    "* So, there is no statistically significant difference between \"Click/Impression\" rate of Control Group and Test Group."
   ]
  },
  {
   "cell_type": "markdown",
   "id": "eedf7319",
   "metadata": {
    "papermill": {
     "duration": 0.057967,
     "end_time": "2021-09-28T09:54:07.416024",
     "exception": false,
     "start_time": "2021-09-28T09:54:07.358057",
     "status": "completed"
    },
    "tags": []
   },
   "source": [
    "### **2.6. Is there a significant difference on \"Purchase/Earning\" rate between Control Group and Test Group?** "
   ]
  },
  {
   "cell_type": "markdown",
   "id": "68f16bbf",
   "metadata": {
    "papermill": {
     "duration": 0.052894,
     "end_time": "2021-09-28T09:54:07.538987",
     "exception": false,
     "start_time": "2021-09-28T09:54:07.486093",
     "status": "completed"
    },
    "tags": []
   },
   "source": [
    "#### Purchase/Earning rate can give us an insight.  \n",
    "#### Purchase/Earning = (Number of products purchased after the ads clicked) / (Earnings after purchased products) "
   ]
  },
  {
   "cell_type": "code",
   "execution_count": 35,
   "id": "49a9f5ba",
   "metadata": {
    "execution": {
     "iopub.execute_input": "2021-09-28T09:54:07.646130Z",
     "iopub.status.busy": "2021-09-28T09:54:07.645169Z",
     "iopub.status.idle": "2021-09-28T09:54:07.656513Z",
     "shell.execute_reply": "2021-09-28T09:54:07.656973Z",
     "shell.execute_reply.started": "2021-09-28T09:07:39.259710Z"
    },
    "papermill": {
     "duration": 0.066301,
     "end_time": "2021-09-28T09:54:07.657149",
     "exception": false,
     "start_time": "2021-09-28T09:54:07.590848",
     "status": "completed"
    },
    "tags": []
   },
   "outputs": [
    {
     "data": {
      "text/html": [
       "<div>\n",
       "<style scoped>\n",
       "    .dataframe tbody tr th:only-of-type {\n",
       "        vertical-align: middle;\n",
       "    }\n",
       "\n",
       "    .dataframe tbody tr th {\n",
       "        vertical-align: top;\n",
       "    }\n",
       "\n",
       "    .dataframe thead th {\n",
       "        text-align: right;\n",
       "    }\n",
       "</style>\n",
       "<table border=\"1\" class=\"dataframe\">\n",
       "  <thead>\n",
       "    <tr style=\"text-align: right;\">\n",
       "      <th></th>\n",
       "      <th>Impression</th>\n",
       "      <th>Click</th>\n",
       "      <th>Purchase</th>\n",
       "      <th>Earning</th>\n",
       "      <th>Click/Impression Rate</th>\n",
       "      <th>Purchase/Click Rate</th>\n",
       "      <th>Purchase/Earning Rate</th>\n",
       "    </tr>\n",
       "  </thead>\n",
       "  <tbody>\n",
       "    <tr>\n",
       "      <th>0</th>\n",
       "      <td>82529.45927</td>\n",
       "      <td>6090.07732</td>\n",
       "      <td>665.21125</td>\n",
       "      <td>2311.27714</td>\n",
       "      <td>0.07379</td>\n",
       "      <td>0.10923</td>\n",
       "      <td>0.28781</td>\n",
       "    </tr>\n",
       "    <tr>\n",
       "      <th>1</th>\n",
       "      <td>98050.45193</td>\n",
       "      <td>3382.86179</td>\n",
       "      <td>315.08489</td>\n",
       "      <td>1742.80686</td>\n",
       "      <td>0.03450</td>\n",
       "      <td>0.09314</td>\n",
       "      <td>0.18079</td>\n",
       "    </tr>\n",
       "    <tr>\n",
       "      <th>2</th>\n",
       "      <td>82696.02355</td>\n",
       "      <td>4167.96575</td>\n",
       "      <td>458.08374</td>\n",
       "      <td>1797.82745</td>\n",
       "      <td>0.05040</td>\n",
       "      <td>0.10991</td>\n",
       "      <td>0.25480</td>\n",
       "    </tr>\n",
       "    <tr>\n",
       "      <th>3</th>\n",
       "      <td>109914.40040</td>\n",
       "      <td>4910.88224</td>\n",
       "      <td>487.09077</td>\n",
       "      <td>1696.22918</td>\n",
       "      <td>0.04468</td>\n",
       "      <td>0.09919</td>\n",
       "      <td>0.28716</td>\n",
       "    </tr>\n",
       "    <tr>\n",
       "      <th>4</th>\n",
       "      <td>108457.76263</td>\n",
       "      <td>5987.65581</td>\n",
       "      <td>441.03405</td>\n",
       "      <td>1543.72018</td>\n",
       "      <td>0.05521</td>\n",
       "      <td>0.07366</td>\n",
       "      <td>0.28570</td>\n",
       "    </tr>\n",
       "  </tbody>\n",
       "</table>\n",
       "</div>"
      ],
      "text/plain": [
       "    Impression      Click  Purchase    Earning  Click/Impression Rate  \\\n",
       "0  82529.45927 6090.07732 665.21125 2311.27714                0.07379   \n",
       "1  98050.45193 3382.86179 315.08489 1742.80686                0.03450   \n",
       "2  82696.02355 4167.96575 458.08374 1797.82745                0.05040   \n",
       "3 109914.40040 4910.88224 487.09077 1696.22918                0.04468   \n",
       "4 108457.76263 5987.65581 441.03405 1543.72018                0.05521   \n",
       "\n",
       "   Purchase/Click Rate  Purchase/Earning Rate  \n",
       "0              0.10923                0.28781  \n",
       "1              0.09314                0.18079  \n",
       "2              0.10991                0.25480  \n",
       "3              0.09919                0.28716  \n",
       "4              0.07366                0.28570  "
      ]
     },
     "execution_count": 35,
     "metadata": {},
     "output_type": "execute_result"
    }
   ],
   "source": [
    "# Calculate \"Purchase/Earning\" rate for Control Group \n",
    "df_control[\"Purchase/Earning Rate\"] = df_control[\"Purchase\"]/df_control[\"Earning\"]\n",
    "df_control.head()"
   ]
  },
  {
   "cell_type": "code",
   "execution_count": 36,
   "id": "7a8a1ae7",
   "metadata": {
    "execution": {
     "iopub.execute_input": "2021-09-28T09:54:07.774484Z",
     "iopub.status.busy": "2021-09-28T09:54:07.773707Z",
     "iopub.status.idle": "2021-09-28T09:54:07.776828Z",
     "shell.execute_reply": "2021-09-28T09:54:07.777250Z",
     "shell.execute_reply.started": "2021-09-28T09:08:04.554452Z"
    },
    "papermill": {
     "duration": 0.067252,
     "end_time": "2021-09-28T09:54:07.777407",
     "exception": false,
     "start_time": "2021-09-28T09:54:07.710155",
     "status": "completed"
    },
    "tags": []
   },
   "outputs": [
    {
     "data": {
      "text/html": [
       "<div>\n",
       "<style scoped>\n",
       "    .dataframe tbody tr th:only-of-type {\n",
       "        vertical-align: middle;\n",
       "    }\n",
       "\n",
       "    .dataframe tbody tr th {\n",
       "        vertical-align: top;\n",
       "    }\n",
       "\n",
       "    .dataframe thead th {\n",
       "        text-align: right;\n",
       "    }\n",
       "</style>\n",
       "<table border=\"1\" class=\"dataframe\">\n",
       "  <thead>\n",
       "    <tr style=\"text-align: right;\">\n",
       "      <th></th>\n",
       "      <th>Impression</th>\n",
       "      <th>Click</th>\n",
       "      <th>Purchase</th>\n",
       "      <th>Earning</th>\n",
       "      <th>Click/Impression Rate</th>\n",
       "      <th>Purchase/Click Rate</th>\n",
       "      <th>Purchase/Earning Rate</th>\n",
       "    </tr>\n",
       "  </thead>\n",
       "  <tbody>\n",
       "    <tr>\n",
       "      <th>0</th>\n",
       "      <td>120103.50380</td>\n",
       "      <td>3216.54796</td>\n",
       "      <td>702.16035</td>\n",
       "      <td>1939.61124</td>\n",
       "      <td>0.02678</td>\n",
       "      <td>0.11530</td>\n",
       "      <td>0.30380</td>\n",
       "    </tr>\n",
       "    <tr>\n",
       "      <th>1</th>\n",
       "      <td>134775.94336</td>\n",
       "      <td>3635.08242</td>\n",
       "      <td>834.05429</td>\n",
       "      <td>2929.40582</td>\n",
       "      <td>0.02697</td>\n",
       "      <td>0.24655</td>\n",
       "      <td>0.47857</td>\n",
       "    </tr>\n",
       "    <tr>\n",
       "      <th>2</th>\n",
       "      <td>107806.62079</td>\n",
       "      <td>3057.14356</td>\n",
       "      <td>422.93426</td>\n",
       "      <td>2526.24488</td>\n",
       "      <td>0.02836</td>\n",
       "      <td>0.10147</td>\n",
       "      <td>0.23525</td>\n",
       "    </tr>\n",
       "    <tr>\n",
       "      <th>3</th>\n",
       "      <td>116445.27553</td>\n",
       "      <td>4650.47391</td>\n",
       "      <td>429.03353</td>\n",
       "      <td>2281.42857</td>\n",
       "      <td>0.03994</td>\n",
       "      <td>0.08736</td>\n",
       "      <td>0.25293</td>\n",
       "    </tr>\n",
       "    <tr>\n",
       "      <th>4</th>\n",
       "      <td>145082.51684</td>\n",
       "      <td>5201.38772</td>\n",
       "      <td>749.86044</td>\n",
       "      <td>2781.69752</td>\n",
       "      <td>0.03585</td>\n",
       "      <td>0.12523</td>\n",
       "      <td>0.48575</td>\n",
       "    </tr>\n",
       "  </tbody>\n",
       "</table>\n",
       "</div>"
      ],
      "text/plain": [
       "    Impression      Click  Purchase    Earning  Click/Impression Rate  \\\n",
       "0 120103.50380 3216.54796 702.16035 1939.61124                0.02678   \n",
       "1 134775.94336 3635.08242 834.05429 2929.40582                0.02697   \n",
       "2 107806.62079 3057.14356 422.93426 2526.24488                0.02836   \n",
       "3 116445.27553 4650.47391 429.03353 2281.42857                0.03994   \n",
       "4 145082.51684 5201.38772 749.86044 2781.69752                0.03585   \n",
       "\n",
       "   Purchase/Click Rate  Purchase/Earning Rate  \n",
       "0              0.11530                0.30380  \n",
       "1              0.24655                0.47857  \n",
       "2              0.10147                0.23525  \n",
       "3              0.08736                0.25293  \n",
       "4              0.12523                0.48575  "
      ]
     },
     "execution_count": 36,
     "metadata": {},
     "output_type": "execute_result"
    }
   ],
   "source": [
    "# Calculate \"Purchase/Earning\" rate for Test Group \n",
    "df_test[\"Purchase/Earning Rate\"] = df_test[\"Purchase\"]/df_control[\"Earning\"]\n",
    "df_test.head()"
   ]
  },
  {
   "cell_type": "code",
   "execution_count": 37,
   "id": "ca70be01",
   "metadata": {
    "execution": {
     "iopub.execute_input": "2021-09-28T09:54:07.887336Z",
     "iopub.status.busy": "2021-09-28T09:54:07.886281Z",
     "iopub.status.idle": "2021-09-28T09:54:07.896089Z",
     "shell.execute_reply": "2021-09-28T09:54:07.896627Z",
     "shell.execute_reply.started": "2021-09-28T09:08:35.571256Z"
    },
    "papermill": {
     "duration": 0.06564,
     "end_time": "2021-09-28T09:54:07.896803",
     "exception": false,
     "start_time": "2021-09-28T09:54:07.831163",
     "status": "completed"
    },
    "tags": []
   },
   "outputs": [
    {
     "data": {
      "text/plain": [
       "count   40.00000\n",
       "mean     0.29602\n",
       "std      0.08922\n",
       "min      0.14903\n",
       "25%      0.24493\n",
       "50%      0.28643\n",
       "75%      0.33707\n",
       "max      0.54754\n",
       "Name: Purchase/Earning Rate, dtype: float64"
      ]
     },
     "execution_count": 37,
     "metadata": {},
     "output_type": "execute_result"
    }
   ],
   "source": [
    "# Descriptive Statistics of \"Purchase/Earning Rate\" for Control Group\n",
    "df_control[\"Purchase/Earning Rate\"].describe().T"
   ]
  },
  {
   "cell_type": "code",
   "execution_count": 38,
   "id": "f1ac89ac",
   "metadata": {
    "execution": {
     "iopub.execute_input": "2021-09-28T09:54:08.007316Z",
     "iopub.status.busy": "2021-09-28T09:54:08.006376Z",
     "iopub.status.idle": "2021-09-28T09:54:08.014659Z",
     "shell.execute_reply": "2021-09-28T09:54:08.015187Z",
     "shell.execute_reply.started": "2021-09-28T09:08:50.616765Z"
    },
    "papermill": {
     "duration": 0.065036,
     "end_time": "2021-09-28T09:54:08.015355",
     "exception": false,
     "start_time": "2021-09-28T09:54:07.950319",
     "status": "completed"
    },
    "tags": []
   },
   "outputs": [
    {
     "data": {
      "text/plain": [
       "count   40.00000\n",
       "mean     0.31291\n",
       "std      0.09858\n",
       "min      0.16927\n",
       "25%      0.23061\n",
       "50%      0.31323\n",
       "75%      0.40100\n",
       "max      0.48575\n",
       "Name: Purchase/Earning Rate, dtype: float64"
      ]
     },
     "execution_count": 38,
     "metadata": {},
     "output_type": "execute_result"
    }
   ],
   "source": [
    "# Descriptive Statistics of \"Purchase/Earning Rate\" for Test Group\n",
    "df_test[\"Purchase/Earning Rate\"].describe().T"
   ]
  },
  {
   "cell_type": "markdown",
   "id": "29847007",
   "metadata": {
    "papermill": {
     "duration": 0.054302,
     "end_time": "2021-09-28T09:54:08.126174",
     "exception": false,
     "start_time": "2021-09-28T09:54:08.071872",
     "status": "completed"
    },
    "tags": []
   },
   "source": [
    "#### **According to the results of Descriptive Statistics of \"Purchase/Earning\" rate:** \n",
    "* There are differences between Control Group and Test Group.\n",
    "* We need to test this in order to see whether there is a significant difference. "
   ]
  },
  {
   "cell_type": "markdown",
   "id": "26618d2d",
   "metadata": {
    "papermill": {
     "duration": 0.05384,
     "end_time": "2021-09-28T09:54:08.233517",
     "exception": false,
     "start_time": "2021-09-28T09:54:08.179677",
     "status": "completed"
    },
    "tags": []
   },
   "source": [
    "#### **K. Test of Normality**\n",
    "#### H0: The assumption of normal distribution is provided.\n",
    "#### H1: The assumption of normal distribution is not provided."
   ]
  },
  {
   "cell_type": "code",
   "execution_count": 39,
   "id": "8325104e",
   "metadata": {
    "execution": {
     "iopub.execute_input": "2021-09-28T09:54:08.343037Z",
     "iopub.status.busy": "2021-09-28T09:54:08.342123Z",
     "iopub.status.idle": "2021-09-28T09:54:08.348103Z",
     "shell.execute_reply": "2021-09-28T09:54:08.348888Z",
     "shell.execute_reply.started": "2021-09-28T09:10:22.914322Z"
    },
    "papermill": {
     "duration": 0.06247,
     "end_time": "2021-09-28T09:54:08.349152",
     "exception": false,
     "start_time": "2021-09-28T09:54:08.286682",
     "status": "completed"
    },
    "tags": []
   },
   "outputs": [
    {
     "name": "stdout",
     "output_type": "stream",
     "text": [
      "Test Stat = 0.9547, p-value = 0.1099\n"
     ]
    }
   ],
   "source": [
    "# Test of Normality for Control Group (Purchase/Earning)\n",
    "test_stat, pvalue = shapiro(df_control[\"Purchase/Earning Rate\"])\n",
    "print('Test Stat = %.4f, p-value = %.4f' % (test_stat, pvalue))"
   ]
  },
  {
   "cell_type": "code",
   "execution_count": 40,
   "id": "13c1a8c8",
   "metadata": {
    "execution": {
     "iopub.execute_input": "2021-09-28T09:54:08.462038Z",
     "iopub.status.busy": "2021-09-28T09:54:08.461448Z",
     "iopub.status.idle": "2021-09-28T09:54:08.466105Z",
     "shell.execute_reply": "2021-09-28T09:54:08.465651Z",
     "shell.execute_reply.started": "2021-09-28T09:10:38.248105Z"
    },
    "papermill": {
     "duration": 0.061126,
     "end_time": "2021-09-28T09:54:08.466239",
     "exception": false,
     "start_time": "2021-09-28T09:54:08.405113",
     "status": "completed"
    },
    "tags": []
   },
   "outputs": [
    {
     "name": "stdout",
     "output_type": "stream",
     "text": [
      "Test Stat = 0.9428, p-value = 0.0430\n"
     ]
    }
   ],
   "source": [
    "# Test of Normality for Test Group (Purchase/Earning)\n",
    "test_stat, pvalue = shapiro(df_test[\"Purchase/Earning Rate\"])\n",
    "print('Test Stat = %.4f, p-value = %.4f' % (test_stat, pvalue))"
   ]
  },
  {
   "cell_type": "markdown",
   "id": "1962f4e0",
   "metadata": {
    "papermill": {
     "duration": 0.053315,
     "end_time": "2021-09-28T09:54:08.573324",
     "exception": false,
     "start_time": "2021-09-28T09:54:08.520009",
     "status": "completed"
    },
    "tags": []
   },
   "source": [
    "#### **According to the results of the Test of Normality (Purchase/Earning):** \n",
    "* p-value of Control Group > 0.05. This means that we can not reject HO hypothesis. \n",
    "* p-value of Test Group < 0.05. This means that we reject HO hypothesis.\n",
    "* So, the assumption of normal distribution is not provided (Both results should be the same(rejected/not-rejected)).\n",
    "* As the test of normality is not provided, we will skip the variance homogeneity test and continue with mannwhitneyu non-parametric test. "
   ]
  },
  {
   "cell_type": "markdown",
   "id": "a3ef5d10",
   "metadata": {
    "papermill": {
     "duration": 0.053462,
     "end_time": "2021-09-28T09:54:08.680299",
     "exception": false,
     "start_time": "2021-09-28T09:54:08.626837",
     "status": "completed"
    },
    "tags": []
   },
   "source": [
    "#### **L. Mannwhitneyu Non-parametric Test**\n",
    "#### H0: M1 = M2 (There is no statistically significant difference between \"Purchase/Earning\" rate of Control Group and Test Group)\n",
    "#### H1: M1 != M2 (There is statistically significant difference between \"Purchase/Earning\" rate of Control Group and Test Group)"
   ]
  },
  {
   "cell_type": "code",
   "execution_count": 41,
   "id": "f4cb042a",
   "metadata": {
    "execution": {
     "iopub.execute_input": "2021-09-28T09:54:08.794570Z",
     "iopub.status.busy": "2021-09-28T09:54:08.793811Z",
     "iopub.status.idle": "2021-09-28T09:54:08.796973Z",
     "shell.execute_reply": "2021-09-28T09:54:08.797354Z",
     "shell.execute_reply.started": "2021-09-28T09:15:50.926246Z"
    },
    "papermill": {
     "duration": 0.063324,
     "end_time": "2021-09-28T09:54:08.797516",
     "exception": false,
     "start_time": "2021-09-28T09:54:08.734192",
     "status": "completed"
    },
    "tags": []
   },
   "outputs": [
    {
     "name": "stdout",
     "output_type": "stream",
     "text": [
      "Test Stat = 719.0000, p-value = 0.4386\n"
     ]
    }
   ],
   "source": [
    "# Mannwhitneyu Non-parametric Test (Purchase/Earning)\n",
    "test_stat, pvalue = mannwhitneyu(df_control[\"Purchase/Earning Rate\"],\n",
    "                                 df_test[\"Purchase/Earning Rate\"])\n",
    "\n",
    "print('Test Stat = %.4f, p-value = %.4f' % (test_stat, pvalue))"
   ]
  },
  {
   "cell_type": "markdown",
   "id": "c262b327",
   "metadata": {
    "papermill": {
     "duration": 0.104161,
     "end_time": "2021-09-28T09:54:08.955449",
     "exception": false,
     "start_time": "2021-09-28T09:54:08.851288",
     "status": "completed"
    },
    "tags": []
   },
   "source": [
    "#### **According to the results of Mannwhitneyu Non-parametric Test (Purchase/Earning):** \n",
    "* p-value > 0.05\n",
    "* This means that **we can not reject HO hypothesis**. \n",
    "* So, there is no statistically significant difference between \"Click/Impression\" rate of Control Group and Test Group."
   ]
  },
  {
   "cell_type": "markdown",
   "id": "a3bc4517",
   "metadata": {
    "papermill": {
     "duration": 0.055061,
     "end_time": "2021-09-28T09:54:09.065392",
     "exception": false,
     "start_time": "2021-09-28T09:54:09.010331",
     "status": "completed"
    },
    "tags": []
   },
   "source": [
    "### **3. SUMMARY OF THE TEST RESULTS**\n",
    "### In this project I asked 6 questions and implement A/B Testing for each of them. Let's the see results:\n",
    "\n",
    "#### 1. Is there a significant difference on \"Click\" values between Control Group (max.bidding) and Test Group (avg.bidding)? \n",
    "####      *- YES. It was so clear from the descriptive statistics that we didn't need to test this.*   \n",
    "#### 2. Is there a significant difference on \"Click/Impression\" rate between Control Group (max.bidding) and Test Group (avg.bidding)? \n",
    "####      *- YES. (Mannwhitneyu Test) Control Group has higher values.* \n",
    "#### 3. Is there a significant difference between the means of \"Purchase\" of Control Group (max.bidding) and Test Group (avg.bidding)? \n",
    "####      *- NO. (Independent Two-Sample T-Test)*\n",
    "#### 4. Is there a significant difference on \"Earning\" values between Control Group (max.bidding) and Test Group (avg.bidding)? \n",
    "####      *- YES. (Independent Two-Sample T-Test) Test Group has higher values.*\n",
    "#### 5. Is there a significant difference on \"Purchase/Click\" rate between Control Group (max.bidding) and Test Group (avg.bidding)?\n",
    "####      *- NO. (Mannwhitneyu Test)*\n",
    "#### 6. Is there a significant difference on \"Purchase/Earning\" rate between Control Group (max.bidding) and Test Group (avg.bidding)?\n",
    "####      *- NO. (Mannwhitneyu Test)*\n",
    "\n",
    "#### (We have 3 \"YES\" and 3 \"NO\". It is difficult to decide :))"
   ]
  },
  {
   "cell_type": "markdown",
   "id": "4641edfc",
   "metadata": {
    "papermill": {
     "duration": 0.053911,
     "end_time": "2021-09-28T09:54:09.174618",
     "exception": false,
     "start_time": "2021-09-28T09:54:09.120707",
     "status": "completed"
    },
    "tags": []
   },
   "source": [
    "### **4. RECOMMENDATIONS TO THE CUSTOMER**"
   ]
  },
  {
   "cell_type": "markdown",
   "id": "efb25e89",
   "metadata": {
    "papermill": {
     "duration": 0.053564,
     "end_time": "2021-09-28T09:54:09.282371",
     "exception": false,
     "start_time": "2021-09-28T09:54:09.228807",
     "status": "completed"
    },
    "tags": []
   },
   "source": [
    "#### The aim of this project was to gain insight in order to decide which bidding style to use for more revenue. \n",
    "#### * When we consider \"Click\", \"Click/Impression\" and \"Earning\" values, there is a significant difference between maximum bidding and average bidding. \n",
    "#### * However, when we consider \"Purchase\", \"Purchase/Click\" and \"Purchase/Earning\" values, there is no significant difference between maximum bidding and average bidding. \n",
    "#### * As our aim is to increase our revenues, \"Purchase\", \"Purchase/Click\" and \"Purchase/Earning\" are more important for us rather than \"Click\", \"Click/Impression\" and \"Earning\".  \n",
    "#### * As a consequence, there is no need to change the bidding style for now. It is better to keep in our mind that more observation can give more insight. So, I suggest that we analyse the situation 3 months later and re-evalute the results accordingly. "
   ]
  },
  {
   "cell_type": "markdown",
   "id": "13d8db75",
   "metadata": {
    "execution": {
     "iopub.execute_input": "2021-09-27T18:25:38.105956Z",
     "iopub.status.busy": "2021-09-27T18:25:38.105601Z",
     "iopub.status.idle": "2021-09-27T18:25:38.210904Z",
     "shell.execute_reply": "2021-09-27T18:25:38.209522Z",
     "shell.execute_reply.started": "2021-09-27T18:25:38.105872Z"
    },
    "papermill": {
     "duration": 0.053968,
     "end_time": "2021-09-28T09:54:09.390265",
     "exception": false,
     "start_time": "2021-09-28T09:54:09.336297",
     "status": "completed"
    },
    "tags": []
   },
   "source": [
    "# \n"
   ]
  }
 ],
 "metadata": {
  "kernelspec": {
   "display_name": "Python 3",
   "language": "python",
   "name": "python3"
  },
  "language_info": {
   "codemirror_mode": {
    "name": "ipython",
    "version": 3
   },
   "file_extension": ".py",
   "mimetype": "text/x-python",
   "name": "python",
   "nbconvert_exporter": "python",
   "pygments_lexer": "ipython3",
   "version": "3.7.10"
  },
  "papermill": {
   "default_parameters": {},
   "duration": 27.884727,
   "end_time": "2021-09-28T09:54:10.053561",
   "environment_variables": {},
   "exception": null,
   "input_path": "__notebook__.ipynb",
   "output_path": "__notebook__.ipynb",
   "parameters": {},
   "start_time": "2021-09-28T09:53:42.168834",
   "version": "2.3.3"
  }
 },
 "nbformat": 4,
 "nbformat_minor": 5
}
